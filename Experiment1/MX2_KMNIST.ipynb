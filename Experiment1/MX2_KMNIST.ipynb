{
 "cells": [
  {
   "cell_type": "code",
   "execution_count": 1,
   "metadata": {},
   "outputs": [
    {
     "data": {
      "text/plain": [
       "<torch._C.Generator at 0x1d156620f50>"
      ]
     },
     "execution_count": 1,
     "metadata": {},
     "output_type": "execute_result"
    }
   ],
   "source": [
    "# Load packages and set up default settings\n",
    "%matplotlib inline\n",
    "from matplotlib import pyplot as plt\n",
    "import numpy as np\n",
    "import torch\n",
    "import torch.nn as nn\n",
    "import datetime\n",
    "import pickle\n",
    "\n",
    "import data_load\n",
    "import MX2\n",
    "\n",
    "torch.set_printoptions(edgeitems=2, linewidth=75)\n",
    "torch.manual_seed(123)"
   ]
  },
  {
   "cell_type": "code",
   "execution_count": 2,
   "metadata": {},
   "outputs": [
    {
     "name": "stdout",
     "output_type": "stream",
     "text": [
      "Training on device cuda.\n"
     ]
    }
   ],
   "source": [
    "device = (torch.device('cuda') if torch.cuda.is_available()\n",
    "          else torch.device('cpu'))\n",
    "print(f\"Training on device {device}.\")"
   ]
  },
  {
   "cell_type": "code",
   "execution_count": 3,
   "metadata": {},
   "outputs": [],
   "source": [
    "# Initialize all parameters\n",
    "lambda_penal = 1\n",
    "\n",
    "M = 10\n",
    "n_samples = 100\n",
    "    \n",
    "obj = 'MX2'\n",
    "data_name = 'KMNIST'\n",
    "\n",
    "L_prime = 1\n",
    "\n",
    "L_w = lambda_penal / M\n",
    "L_beta = 1 + lambda_penal\n",
    "\n",
    "prob1 = L_w / (L_w + L_beta)\n",
    "prob2 = 1 - prob1\n",
    "\n",
    "eta = 1e-1\n",
    "\n",
    "rho = 1e-2\n",
    "\n",
    "n_communs = 1000\n",
    "repo_step = 100\n",
    "sync_step = 5\n",
    "\n",
    "w0 = [torch.zeros(10, 784).to(device), torch.zeros(10).to(device)]\n",
    "\n",
    "beta0 = []\n",
    "for m in range(M):\n",
    "    beta0.append([torch.zeros(10, 784).to(device), torch.zeros(10).to(device)])\n",
    "    \n",
    "w_list0 = []\n",
    "for m in range(M):\n",
    "    w_list0.append([torch.zeros(10, 784).to(device), torch.zeros(10).to(device)])\n",
    "\n",
    "beta_list0 = []\n",
    "for m in range(M):\n",
    "    beta_list0.append([torch.zeros(10, 784).to(device), torch.zeros(10).to(device)])"
   ]
  },
  {
   "cell_type": "code",
   "execution_count": 4,
   "metadata": {},
   "outputs": [
    {
     "name": "stdout",
     "output_type": "stream",
     "text": [
      "L_w is: 0.1\n",
      "L_beta is 0.2\n",
      "prob1 is 0.3333333333333333\n",
      "prob2 is 0.6666666666666667\n",
      "rho is 0.01\n",
      "n_communs is 1000\n",
      "sync_step is 5\n"
     ]
    }
   ],
   "source": [
    "print(\"L_w is: {}\".format(L_w))\n",
    "print(\"L_beta is {}\".format(L_beta))\n",
    "print(\"prob1 is {}\".format(prob1))\n",
    "print(\"prob2 is {}\".format(prob2))\n",
    "print(\"rho is {}\".format(rho))\n",
    "print(\"n_communs is {}\".format(n_communs))\n",
    "print(\"sync_step is {}\".format(sync_step))"
   ]
  },
  {
   "cell_type": "code",
   "execution_count": 5,
   "metadata": {},
   "outputs": [],
   "source": [
    "train_loader_list, devices_train_list = data_load.data_prepare(data_name, n_devices=M, n_samples=n_samples)"
   ]
  },
  {
   "cell_type": "code",
   "execution_count": 7,
   "metadata": {},
   "outputs": [
    {
     "name": "stdout",
     "output_type": "stream",
     "text": [
      "num_commun: 1, loss: 2.302584767341614, time pass: 0s | Local_SGD MX2 KMNIST\n",
      "num_commun: 100, loss: 2.078917402029037, time pass: 20s | Local_SGD MX2 KMNIST\n",
      "num_commun: 200, loss: 2.054171293973923, time pass: 39s | Local_SGD MX2 KMNIST\n",
      "num_commun: 300, loss: 2.048654603958130, time pass: 57s | Local_SGD MX2 KMNIST\n",
      "num_commun: 400, loss: 2.045876502990723, time pass: 76s | Local_SGD MX2 KMNIST\n",
      "num_commun: 500, loss: 2.043194985389710, time pass: 95s | Local_SGD MX2 KMNIST\n",
      "num_commun: 600, loss: 2.040678119659424, time pass: 114s | Local_SGD MX2 KMNIST\n",
      "num_commun: 700, loss: 2.038449859619141, time pass: 135s | Local_SGD MX2 KMNIST\n",
      "num_commun: 800, loss: 2.035967814922333, time pass: 158s | Local_SGD MX2 KMNIST\n",
      "num_commun: 900, loss: 2.033665460348129, time pass: 179s | Local_SGD MX2 KMNIST\n",
      "num_commun: 1000, loss: 2.030947870016098, time pass: 201s | Local_SGD MX2 KMNIST\n"
     ]
    }
   ],
   "source": [
    "loss_MX2_KMNIST_LocalSGD, _, _ = MX2.train_local_sgd(w_list0, beta_list0, sync_step, \n",
    "                                                    n_communs, devices_train_list, train_loader_list, \n",
    "                                                    lambda_penal, repo_step, eta, obj, data_name)"
   ]
  },
  {
   "cell_type": "code",
   "execution_count": 8,
   "metadata": {},
   "outputs": [
    {
     "name": "stdout",
     "output_type": "stream",
     "text": [
      "num_commun: 1, loss: 2.3025847673, time pass: 0s | CD MX2 KMNIST\n",
      "num_commun: 100, loss: 2.0352035701, time pass: 10s | CD MX2 KMNIST\n",
      "num_commun: 200, loss: 1.9966842890, time pass: 22s | CD MX2 KMNIST\n",
      "num_commun: 300, loss: 1.9647928834, time pass: 35s | CD MX2 KMNIST\n",
      "num_commun: 400, loss: 1.9385264516, time pass: 49s | CD MX2 KMNIST\n",
      "num_commun: 500, loss: 1.9146350443, time pass: 64s | CD MX2 KMNIST\n",
      "num_commun: 600, loss: 1.8915791810, time pass: 81s | CD MX2 KMNIST\n",
      "num_commun: 700, loss: 1.8721186101, time pass: 98s | CD MX2 KMNIST\n",
      "num_commun: 800, loss: 1.8543918014, time pass: 116s | CD MX2 KMNIST\n",
      "num_commun: 900, loss: 1.8420163810, time pass: 130s | CD MX2 KMNIST\n",
      "num_commun: 1000, loss: 1.8239002764, time pass: 143s | CD MX2 KMNIST\n"
     ]
    }
   ],
   "source": [
    "loss_MX2_KMNIST_CD, _, _ = MX2.train_CD(w0, beta0, n_communs, devices_train_list, \n",
    "                                 train_loader_list, lambda_penal, repo_step, eta, prob1, obj, data_name)"
   ]
  },
  {
   "cell_type": "code",
   "execution_count": 9,
   "metadata": {},
   "outputs": [
    {
     "name": "stdout",
     "output_type": "stream",
     "text": [
      "num_commun: 1, loss: 2.2969866395, time pass: 0s | CDVR MX2 KMNIST\n",
      "num_commun: 100, loss: 2.0656466007, time pass: 22s | CDVR MX2 KMNIST\n",
      "num_commun: 200, loss: 1.9951788247, time pass: 47s | CDVR MX2 KMNIST\n",
      "num_commun: 300, loss: 1.9690332174, time pass: 70s | CDVR MX2 KMNIST\n",
      "num_commun: 400, loss: 1.9336995542, time pass: 91s | CDVR MX2 KMNIST\n",
      "num_commun: 500, loss: 1.9080432057, time pass: 118s | CDVR MX2 KMNIST\n",
      "num_commun: 600, loss: 1.8861308515, time pass: 141s | CDVR MX2 KMNIST\n",
      "num_commun: 700, loss: 1.8685796857, time pass: 164s | CDVR MX2 KMNIST\n",
      "num_commun: 800, loss: 1.8511569977, time pass: 191s | CDVR MX2 KMNIST\n",
      "num_commun: 900, loss: 1.8342759132, time pass: 214s | CDVR MX2 KMNIST\n",
      "num_commun: 1000, loss: 1.8210126996, time pass: 233s | CDVR MX2 KMNIST\n"
     ]
    }
   ],
   "source": [
    "loss_MX2_KMNIST_CDVR, _, _ = MX2.train_CDVR(w0, beta0, n_communs, devices_train_list, \n",
    "                                           train_loader_list, lambda_penal, repo_step, \n",
    "                                           eta, prob1, obj, data_name, rho)"
   ]
  },
  {
   "cell_type": "code",
   "execution_count": 10,
   "metadata": {},
   "outputs": [],
   "source": [
    "with open(\"./result/loss_MX2_KMNIST_CD.txt\", \"wb\") as f:   #Pickling\n",
    "    pickle.dump(loss_MX2_KMNIST_CD, f)\n",
    "    \n",
    "with open(\"./result/loss_MX2_KMNIST_CDVR.txt\", \"wb\") as f:   #Pickling\n",
    "    pickle.dump(loss_MX2_KMNIST_CDVR, f)\n",
    "    \n",
    "with open(\"./result/loss_MX2_KMNIST_LocalSGD.txt\", \"wb\") as f:   #Pickling\n",
    "    pickle.dump(loss_MX2_KMNIST_LocalSGD, f)"
   ]
  }
 ],
 "metadata": {
  "kernelspec": {
   "display_name": "Python 3",
   "language": "python",
   "name": "python3"
  },
  "language_info": {
   "codemirror_mode": {
    "name": "ipython",
    "version": 3
   },
   "file_extension": ".py",
   "mimetype": "text/x-python",
   "name": "python",
   "nbconvert_exporter": "python",
   "pygments_lexer": "ipython3",
   "version": "3.8.3"
  }
 },
 "nbformat": 4,
 "nbformat_minor": 4
}

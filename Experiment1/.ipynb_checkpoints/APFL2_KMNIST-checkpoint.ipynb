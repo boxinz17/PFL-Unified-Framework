{
 "cells": [
  {
   "cell_type": "code",
   "execution_count": 1,
   "metadata": {},
   "outputs": [
    {
     "data": {
      "text/plain": [
       "<torch._C.Generator at 0x1a73033ff50>"
      ]
     },
     "execution_count": 1,
     "metadata": {},
     "output_type": "execute_result"
    }
   ],
   "source": [
    "# Load packages and set up default settings\n",
    "%matplotlib inline\n",
    "from matplotlib import pyplot as plt\n",
    "import numpy as np\n",
    "import torch\n",
    "import torch.nn as nn\n",
    "import datetime\n",
    "import pickle\n",
    "\n",
    "import data_load\n",
    "import APFL2\n",
    "\n",
    "torch.set_printoptions(edgeitems=2, linewidth=75)\n",
    "torch.manual_seed(123)"
   ]
  },
  {
   "cell_type": "code",
   "execution_count": 2,
   "metadata": {},
   "outputs": [
    {
     "name": "stdout",
     "output_type": "stream",
     "text": [
      "Training on device cuda.\n"
     ]
    }
   ],
   "source": [
    "device = (torch.device('cuda') if torch.cuda.is_available()\n",
    "          else torch.device('cpu'))\n",
    "print(f\"Training on device {device}.\")"
   ]
  },
  {
   "cell_type": "code",
   "execution_count": 3,
   "metadata": {},
   "outputs": [],
   "source": [
    "# Initialize all parameters\n",
    "lambda_global = 10\n",
    "\n",
    "M = 10\n",
    "n_samples = 100\n",
    "\n",
    "obj = 'APFL2'\n",
    "data_name = 'KMNIST'\n",
    "\n",
    "L_prime = 1\n",
    "\n",
    "alpha_list = [0.2] * M\n",
    "\n",
    "L_w = (lambda_global + 0.2 ** 2) * L_prime / M\n",
    "L_beta = ((1-0.2) ** 2 ) * L_prime / M\n",
    "\n",
    "prob1 = L_w / (L_w + L_beta)\n",
    "prob2 = 1 - prob1\n",
    "\n",
    "eta = 1e-1\n",
    "\n",
    "rho = 0.01\n",
    "\n",
    "n_communs = 1000\n",
    "repo_step = 100\n",
    "sync_step = 5\n",
    "\n",
    "w0 = [torch.zeros(10, 784).to(device), torch.zeros(10).to(device)]\n",
    "\n",
    "beta0 = []\n",
    "for m in range(M):\n",
    "    beta0.append([torch.zeros(10, 784).to(device), torch.zeros(10).to(device)])\n",
    "    \n",
    "w_list0 = []\n",
    "for m in range(M):\n",
    "    w_list0.append([torch.zeros(10, 784).to(device), torch.zeros(10).to(device)])\n",
    "\n",
    "beta_list0 = []\n",
    "for m in range(M):\n",
    "    beta_list0.append([torch.zeros(10, 784).to(device), torch.zeros(10).to(device)])"
   ]
  },
  {
   "cell_type": "code",
   "execution_count": 4,
   "metadata": {},
   "outputs": [
    {
     "name": "stdout",
     "output_type": "stream",
     "text": [
      "L_w is: 1.004\n",
      "L_beta is 0.06400000000000002\n",
      "prob1 is 0.9400749063670412\n",
      "prob2 is 0.05992509363295884\n",
      "eta is 0.1\n",
      "rho is 0.01\n",
      "n_communs is 1000\n",
      "sync_step is 5\n"
     ]
    }
   ],
   "source": [
    "print(\"L_w is: {}\".format(L_w))\n",
    "print(\"L_beta is {}\".format(L_beta))\n",
    "print(\"prob1 is {}\".format(prob1))\n",
    "print(\"prob2 is {}\".format(prob2))\n",
    "print(\"eta is {}\".format(eta))\n",
    "print(\"rho is {}\".format(rho))\n",
    "print(\"n_communs is {}\".format(n_communs))\n",
    "print(\"sync_step is {}\".format(sync_step))"
   ]
  },
  {
   "cell_type": "code",
   "execution_count": 5,
   "metadata": {},
   "outputs": [],
   "source": [
    "train_loader_list, devices_train_list = data_load.data_prepare(data_name, n_devices=M, n_samples=n_samples)"
   ]
  },
  {
   "cell_type": "code",
   "execution_count": 7,
   "metadata": {},
   "outputs": [
    {
     "name": "stdout",
     "output_type": "stream",
     "text": [
      "num_commun: 1, loss: 25.328432083129883, time pass: 0s | Local_SGD APFL2 KMNIST\n",
      "num_commun: 100, loss: 24.651032924652100, time pass: 20s | Local_SGD APFL2 KMNIST\n",
      "num_commun: 200, loss: 24.079882621765137, time pass: 41s | Local_SGD APFL2 KMNIST\n",
      "num_commun: 300, loss: 23.584928798675538, time pass: 60s | Local_SGD APFL2 KMNIST\n",
      "num_commun: 400, loss: 23.176496315002442, time pass: 80s | Local_SGD APFL2 KMNIST\n",
      "num_commun: 500, loss: 22.829382705688477, time pass: 102s | Local_SGD APFL2 KMNIST\n",
      "num_commun: 600, loss: 22.529628467559814, time pass: 124s | Local_SGD APFL2 KMNIST\n",
      "num_commun: 700, loss: 22.265361309051514, time pass: 146s | Local_SGD APFL2 KMNIST\n",
      "num_commun: 800, loss: 22.030208873748780, time pass: 169s | Local_SGD APFL2 KMNIST\n",
      "num_commun: 900, loss: 21.819151020050050, time pass: 193s | Local_SGD APFL2 KMNIST\n",
      "num_commun: 1000, loss: 21.624181938171386, time pass: 218s | Local_SGD APFL2 KMNIST\n"
     ]
    }
   ],
   "source": [
    "loss_APFL2_KMNIST_LocalSGD, _, _ = APFL2.train_local_sgd(w_list0, beta_list0, alpha_list, \n",
    "                                                        sync_step, n_communs, devices_train_list, \n",
    "                                                        train_loader_list, lambda_global, repo_step, \n",
    "                                                        eta, obj, data_name)"
   ]
  },
  {
   "cell_type": "code",
   "execution_count": 8,
   "metadata": {},
   "outputs": [
    {
     "name": "stdout",
     "output_type": "stream",
     "text": [
      "num_commun: 1, loss: 25.2818299294, time pass: 0s | CD APFL2 KMNIST\n",
      "num_commun: 100, loss: 22.8495219231, time pass: 8s | CD APFL2 KMNIST\n",
      "num_commun: 200, loss: 21.4707583427, time pass: 16s | CD APFL2 KMNIST\n",
      "num_commun: 300, loss: 20.1008598804, time pass: 23s | CD APFL2 KMNIST\n",
      "num_commun: 400, loss: 18.9846212387, time pass: 31s | CD APFL2 KMNIST\n",
      "num_commun: 500, loss: 18.1402508259, time pass: 39s | CD APFL2 KMNIST\n",
      "num_commun: 600, loss: 17.2794483662, time pass: 48s | CD APFL2 KMNIST\n",
      "num_commun: 700, loss: 16.5850193977, time pass: 56s | CD APFL2 KMNIST\n",
      "num_commun: 800, loss: 15.8915137768, time pass: 66s | CD APFL2 KMNIST\n",
      "num_commun: 900, loss: 15.3278728962, time pass: 75s | CD APFL2 KMNIST\n",
      "num_commun: 1000, loss: 14.7768237591, time pass: 84s | CD APFL2 KMNIST\n"
     ]
    }
   ],
   "source": [
    "loss_APFL2_KMNIST_CD, _, _ = APFL2.train_CD(w0, beta0, n_communs, devices_train_list, \n",
    "                                           train_loader_list, lambda_global, repo_step, \n",
    "                                           eta, prob1, alpha_list, obj, data_name)"
   ]
  },
  {
   "cell_type": "code",
   "execution_count": 9,
   "metadata": {},
   "outputs": [
    {
     "name": "stdout",
     "output_type": "stream",
     "text": [
      "num_commun: 1, loss: 25.2866430283, time pass: 0s | CDVR APFL2 KMNIST\n",
      "num_commun: 100, loss: 22.7015739441, time pass: 11s | CDVR APFL2 KMNIST\n",
      "num_commun: 200, loss: 21.1422868252, time pass: 22s | CDVR APFL2 KMNIST\n",
      "num_commun: 300, loss: 19.9692090034, time pass: 35s | CDVR APFL2 KMNIST\n",
      "num_commun: 400, loss: 18.7814381123, time pass: 46s | CDVR APFL2 KMNIST\n",
      "num_commun: 500, loss: 17.8463513851, time pass: 58s | CDVR APFL2 KMNIST\n",
      "num_commun: 600, loss: 17.0468186378, time pass: 71s | CDVR APFL2 KMNIST\n",
      "num_commun: 700, loss: 16.3083623886, time pass: 84s | CDVR APFL2 KMNIST\n",
      "num_commun: 800, loss: 15.6179485798, time pass: 96s | CDVR APFL2 KMNIST\n",
      "num_commun: 900, loss: 15.0125411510, time pass: 106s | CDVR APFL2 KMNIST\n",
      "num_commun: 1000, loss: 14.4741307259, time pass: 118s | CDVR APFL2 KMNIST\n"
     ]
    }
   ],
   "source": [
    "loss_APFL2_KMNIST_CDVR, _, _ = APFL2.train_CDVR(w0, beta0, n_communs, devices_train_list, \n",
    "                                               train_loader_list, lambda_global, repo_step, \n",
    "                                               eta, prob1, rho, alpha_list, obj, data_name)"
   ]
  },
  {
   "cell_type": "code",
   "execution_count": 10,
   "metadata": {},
   "outputs": [],
   "source": [
    "with open(\"./result/loss_APFL2_KMNIST_CD.txt\", \"wb\") as f:   #Pickling\n",
    "    pickle.dump(loss_APFL2_KMNIST_CD, f)\n",
    "    \n",
    "with open(\"./result/loss_APFL2_KMNIST_CDVR.txt\", \"wb\") as f:   #Pickling\n",
    "    pickle.dump(loss_APFL2_KMNIST_CDVR, f)\n",
    "    \n",
    "with open(\"./result/loss_APFL2_KMNIST_LocalSGD.txt\", \"wb\") as f:   #Pickling\n",
    "    pickle.dump(loss_APFL2_KMNIST_LocalSGD, f)"
   ]
  }
 ],
 "metadata": {
  "kernelspec": {
   "display_name": "Python 3",
   "language": "python",
   "name": "python3"
  },
  "language_info": {
   "codemirror_mode": {
    "name": "ipython",
    "version": 3
   },
   "file_extension": ".py",
   "mimetype": "text/x-python",
   "name": "python",
   "nbconvert_exporter": "python",
   "pygments_lexer": "ipython3",
   "version": "3.8.3"
  }
 },
 "nbformat": 4,
 "nbformat_minor": 4
}

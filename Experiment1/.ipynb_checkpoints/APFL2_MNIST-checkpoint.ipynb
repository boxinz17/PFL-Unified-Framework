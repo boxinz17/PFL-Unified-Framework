{
 "cells": [
  {
   "cell_type": "code",
   "execution_count": 1,
   "metadata": {},
   "outputs": [
    {
     "data": {
      "text/plain": [
       "<torch._C.Generator at 0x233de0b1f50>"
      ]
     },
     "execution_count": 1,
     "metadata": {},
     "output_type": "execute_result"
    }
   ],
   "source": [
    "# Load packages and set up default settings\n",
    "%matplotlib inline\n",
    "from matplotlib import pyplot as plt\n",
    "import numpy as np\n",
    "import torch\n",
    "import torch.nn as nn\n",
    "import datetime\n",
    "import pickle\n",
    "\n",
    "import data_load\n",
    "import APFL2\n",
    "\n",
    "torch.set_printoptions(edgeitems=2, linewidth=75)\n",
    "torch.manual_seed(123)"
   ]
  },
  {
   "cell_type": "code",
   "execution_count": 2,
   "metadata": {},
   "outputs": [
    {
     "name": "stdout",
     "output_type": "stream",
     "text": [
      "Training on device cuda.\n"
     ]
    }
   ],
   "source": [
    "device = (torch.device('cuda') if torch.cuda.is_available()\n",
    "          else torch.device('cpu'))\n",
    "print(f\"Training on device {device}.\")"
   ]
  },
  {
   "cell_type": "code",
   "execution_count": 3,
   "metadata": {},
   "outputs": [],
   "source": [
    "# Initialize all parameters\n",
    "lambda_global = 10\n",
    "\n",
    "M = 10\n",
    "n_samples = 100\n",
    "\n",
    "obj = 'APFL2'\n",
    "data_name = 'MNIST'\n",
    "\n",
    "L_prime = 1\n",
    "\n",
    "alpha_list = [0.2] * M\n",
    "\n",
    "L_w = (lambda_global + 0.2 ** 2) * L_prime / M\n",
    "L_beta = ((1-0.2) ** 2 ) * L_prime / M\n",
    "\n",
    "prob1 = L_w / (L_w + L_beta)\n",
    "prob2 = 1 - prob1\n",
    "\n",
    "eta = 1e-1\n",
    "\n",
    "rho = 0.01\n",
    "\n",
    "n_communs = 1000\n",
    "repo_step = 100\n",
    "sync_step = 5\n",
    "\n",
    "w0 = [torch.zeros(10, 784).to(device), torch.zeros(10).to(device)]\n",
    "\n",
    "beta0 = []\n",
    "for m in range(M):\n",
    "    beta0.append([torch.zeros(10, 784).to(device), torch.zeros(10).to(device)])\n",
    "    \n",
    "w_list0 = []\n",
    "for m in range(M):\n",
    "    w_list0.append([torch.zeros(10, 784).to(device), torch.zeros(10).to(device)])\n",
    "\n",
    "beta_list0 = []\n",
    "for m in range(M):\n",
    "    beta_list0.append([torch.zeros(10, 784).to(device), torch.zeros(10).to(device)])"
   ]
  },
  {
   "cell_type": "code",
   "execution_count": 4,
   "metadata": {},
   "outputs": [
    {
     "name": "stdout",
     "output_type": "stream",
     "text": [
      "L_w is: 1.004\n",
      "L_beta is 0.06400000000000002\n",
      "prob1 is 0.9400749063670412\n",
      "prob2 is 0.05992509363295884\n",
      "eta is 0.1\n",
      "rho is 0.01\n",
      "n_communs is 1000\n",
      "sync_step is 5\n"
     ]
    }
   ],
   "source": [
    "print(\"L_w is: {}\".format(L_w))\n",
    "print(\"L_beta is {}\".format(L_beta))\n",
    "print(\"prob1 is {}\".format(prob1))\n",
    "print(\"prob2 is {}\".format(prob2))\n",
    "print(\"eta is {}\".format(eta))\n",
    "print(\"rho is {}\".format(rho))\n",
    "print(\"n_communs is {}\".format(n_communs))\n",
    "print(\"sync_step is {}\".format(sync_step))"
   ]
  },
  {
   "cell_type": "code",
   "execution_count": 5,
   "metadata": {},
   "outputs": [],
   "source": [
    "train_loader_list, devices_train_list = data_load.data_prepare(data_name, n_devices=M, n_samples=n_samples)"
   ]
  },
  {
   "cell_type": "code",
   "execution_count": 7,
   "metadata": {},
   "outputs": [
    {
     "name": "stdout",
     "output_type": "stream",
     "text": [
      "num_commun: 1, loss: 25.328432083129883, time pass: 0s | Local_SGD APFL2 MNIST\n",
      "num_commun: 100, loss: 24.525949382781981, time pass: 20s | Local_SGD APFL2 MNIST\n",
      "num_commun: 200, loss: 23.843331146240235, time pass: 41s | Local_SGD APFL2 MNIST\n",
      "num_commun: 300, loss: 23.286653518676758, time pass: 61s | Local_SGD APFL2 MNIST\n",
      "num_commun: 400, loss: 22.834383106231691, time pass: 80s | Local_SGD APFL2 MNIST\n",
      "num_commun: 500, loss: 22.442046546936034, time pass: 102s | Local_SGD APFL2 MNIST\n",
      "num_commun: 600, loss: 22.103450679779051, time pass: 124s | Local_SGD APFL2 MNIST\n",
      "num_commun: 700, loss: 21.807417201995850, time pass: 146s | Local_SGD APFL2 MNIST\n",
      "num_commun: 800, loss: 21.538783740997314, time pass: 169s | Local_SGD APFL2 MNIST\n",
      "num_commun: 900, loss: 21.291378498077393, time pass: 193s | Local_SGD APFL2 MNIST\n",
      "num_commun: 1000, loss: 21.061779022216797, time pass: 217s | Local_SGD APFL2 MNIST\n"
     ]
    }
   ],
   "source": [
    "loss_APFL2_MNIST_LocalSGD, _, _ = APFL2.train_local_sgd(w_list0, beta_list0, alpha_list, \n",
    "                                                        sync_step, n_communs, devices_train_list, \n",
    "                                                        train_loader_list, lambda_global, repo_step, \n",
    "                                                        eta, obj, data_name)"
   ]
  },
  {
   "cell_type": "code",
   "execution_count": 9,
   "metadata": {},
   "outputs": [
    {
     "name": "stdout",
     "output_type": "stream",
     "text": [
      "num_commun: 1, loss: 25.2803567886, time pass: 0s | CD APFL2 MNIST\n",
      "num_commun: 100, loss: 22.3312341690, time pass: 8s | CD APFL2 MNIST\n",
      "num_commun: 200, loss: 20.4789681435, time pass: 16s | CD APFL2 MNIST\n",
      "num_commun: 300, loss: 18.7433428288, time pass: 24s | CD APFL2 MNIST\n",
      "num_commun: 400, loss: 17.2793466568, time pass: 32s | CD APFL2 MNIST\n",
      "num_commun: 500, loss: 16.1567384243, time pass: 39s | CD APFL2 MNIST\n",
      "num_commun: 600, loss: 15.0621229172, time pass: 47s | CD APFL2 MNIST\n",
      "num_commun: 700, loss: 14.1870662689, time pass: 57s | CD APFL2 MNIST\n",
      "num_commun: 800, loss: 13.3415765762, time pass: 66s | CD APFL2 MNIST\n",
      "num_commun: 900, loss: 12.6837578773, time pass: 75s | CD APFL2 MNIST\n",
      "num_commun: 1000, loss: 12.0377089977, time pass: 84s | CD APFL2 MNIST\n"
     ]
    }
   ],
   "source": [
    "loss_APFL2_MNIST_CD, _, _ = APFL2.train_CD(w0, beta0, n_communs, devices_train_list, \n",
    "                                           train_loader_list, lambda_global, repo_step, \n",
    "                                           eta, prob1, alpha_list, obj, data_name)"
   ]
  },
  {
   "cell_type": "code",
   "execution_count": 11,
   "metadata": {},
   "outputs": [
    {
     "name": "stdout",
     "output_type": "stream",
     "text": [
      "num_commun: 1, loss: 25.2776330948, time pass: 0s | CDVR APFL2 MNIST\n",
      "num_commun: 100, loss: 22.1452101707, time pass: 12s | CDVR APFL2 MNIST\n",
      "num_commun: 200, loss: 20.1818407059, time pass: 22s | CDVR APFL2 MNIST\n",
      "num_commun: 300, loss: 18.6025000095, time pass: 35s | CDVR APFL2 MNIST\n",
      "num_commun: 400, loss: 17.0197474003, time pass: 47s | CDVR APFL2 MNIST\n",
      "num_commun: 500, loss: 15.8068318844, time pass: 58s | CDVR APFL2 MNIST\n",
      "num_commun: 600, loss: 14.7840619087, time pass: 71s | CDVR APFL2 MNIST\n",
      "num_commun: 700, loss: 13.8530351639, time pass: 84s | CDVR APFL2 MNIST\n",
      "num_commun: 800, loss: 12.9892840862, time pass: 97s | CDVR APFL2 MNIST\n",
      "num_commun: 900, loss: 12.2485112190, time pass: 107s | CDVR APFL2 MNIST\n",
      "num_commun: 1000, loss: 11.6149075031, time pass: 119s | CDVR APFL2 MNIST\n"
     ]
    }
   ],
   "source": [
    "loss_APFL2_MNIST_CDVR, _, _ = APFL2.train_CDVR(w0, beta0,n_communs, devices_train_list, \n",
    "                                               train_loader_list, lambda_global, repo_step, \n",
    "                                               eta, prob1, rho, alpha_list, obj, data_name)"
   ]
  },
  {
   "cell_type": "code",
   "execution_count": 13,
   "metadata": {},
   "outputs": [],
   "source": [
    "with open(\"./result/loss_APFL2_MNIST_CD.txt\", \"wb\") as f:   #Pickling\n",
    "    pickle.dump(loss_APFL2_MNIST_CD, f)\n",
    "    \n",
    "with open(\"./result/loss_APFL2_MNIST_CDVR.txt\", \"wb\") as f:   #Pickling\n",
    "    pickle.dump(loss_APFL2_MNIST_CDVR, f)\n",
    "    \n",
    "with open(\"./result/loss_APFL2_MNIST_LocalSGD.txt\", \"wb\") as f:   #Pickling\n",
    "    pickle.dump(loss_APFL2_MNIST_LocalSGD, f)"
   ]
  }
 ],
 "metadata": {
  "kernelspec": {
   "display_name": "Python 3",
   "language": "python",
   "name": "python3"
  },
  "language_info": {
   "codemirror_mode": {
    "name": "ipython",
    "version": 3
   },
   "file_extension": ".py",
   "mimetype": "text/x-python",
   "name": "python",
   "nbconvert_exporter": "python",
   "pygments_lexer": "ipython3",
   "version": "3.8.3"
  }
 },
 "nbformat": 4,
 "nbformat_minor": 4
}

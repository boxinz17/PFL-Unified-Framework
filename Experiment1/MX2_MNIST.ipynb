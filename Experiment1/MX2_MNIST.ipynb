{
 "cells": [
  {
   "cell_type": "code",
   "execution_count": 5,
   "metadata": {},
   "outputs": [
    {
     "data": {
      "text/plain": [
       "<torch._C.Generator at 0x21f19711f50>"
      ]
     },
     "execution_count": 5,
     "metadata": {},
     "output_type": "execute_result"
    }
   ],
   "source": [
    "# Load packages and set up default settings\n",
    "%matplotlib inline\n",
    "from matplotlib import pyplot as plt\n",
    "import numpy as np\n",
    "import torch\n",
    "import torch.nn as nn\n",
    "import datetime\n",
    "import pickle\n",
    "\n",
    "import data_load\n",
    "import MX2\n",
    "\n",
    "torch.set_printoptions(edgeitems=2, linewidth=75)\n",
    "torch.manual_seed(123)"
   ]
  },
  {
   "cell_type": "code",
   "execution_count": 2,
   "metadata": {},
   "outputs": [
    {
     "name": "stdout",
     "output_type": "stream",
     "text": [
      "Training on device cuda.\n"
     ]
    }
   ],
   "source": [
    "device = (torch.device('cuda') if torch.cuda.is_available()\n",
    "          else torch.device('cpu'))\n",
    "print(f\"Training on device {device}.\")"
   ]
  },
  {
   "cell_type": "code",
   "execution_count": 3,
   "metadata": {},
   "outputs": [],
   "source": [
    "# Initialize all parameters\n",
    "lambda_penal = 1\n",
    "\n",
    "M = 10\n",
    "n_samples = 100\n",
    "    \n",
    "obj = 'MX2'\n",
    "data_name = 'MNIST'\n",
    "\n",
    "L_prime = 1\n",
    "\n",
    "L_w = lambda_penal / M\n",
    "L_beta = 1 + lambda_penal\n",
    "\n",
    "prob1 = L_w / (L_w + L_beta)\n",
    "prob2 = 1 - prob1\n",
    "\n",
    "eta = 1e-1\n",
    "\n",
    "rho = 1e-2\n",
    "\n",
    "n_communs = 1000\n",
    "repo_step = 100\n",
    "sync_step = 5\n",
    "\n",
    "w0 = [torch.zeros(10, 784).to(device), torch.zeros(10).to(device)]\n",
    "\n",
    "beta0 = []\n",
    "for m in range(M):\n",
    "    beta0.append([torch.zeros(10, 784).to(device), torch.zeros(10).to(device)])\n",
    "    \n",
    "w_list0 = []\n",
    "for m in range(M):\n",
    "    w_list0.append([torch.zeros(10, 784).to(device), torch.zeros(10).to(device)])\n",
    "\n",
    "beta_list0 = []\n",
    "for m in range(M):\n",
    "    beta_list0.append([torch.zeros(10, 784).to(device), torch.zeros(10).to(device)])"
   ]
  },
  {
   "cell_type": "code",
   "execution_count": 4,
   "metadata": {},
   "outputs": [
    {
     "name": "stdout",
     "output_type": "stream",
     "text": [
      "L_w is: 0.1\n",
      "L_beta is 0.2\n",
      "prob1 is 0.3333333333333333\n",
      "prob2 is 0.6666666666666667\n",
      "rho is 0.01\n",
      "n_communs is 1000\n",
      "sync_step is 5\n"
     ]
    }
   ],
   "source": [
    "print(\"L_w is: {}\".format(L_w))\n",
    "print(\"L_beta is {}\".format(L_beta))\n",
    "print(\"prob1 is {}\".format(prob1))\n",
    "print(\"prob2 is {}\".format(prob2))\n",
    "print(\"rho is {}\".format(rho))\n",
    "print(\"n_communs is {}\".format(n_communs))\n",
    "print(\"sync_step is {}\".format(sync_step))"
   ]
  },
  {
   "cell_type": "code",
   "execution_count": 5,
   "metadata": {},
   "outputs": [],
   "source": [
    "train_loader_list, devices_train_list = data_load.data_prepare(data_name, n_devices=M, n_samples=n_samples)"
   ]
  },
  {
   "cell_type": "code",
   "execution_count": 7,
   "metadata": {},
   "outputs": [
    {
     "name": "stdout",
     "output_type": "stream",
     "text": [
      "num_commun: 1, loss: 2.302584767341614, time pass: 0s | Local_SGD MX2 MNIST\n",
      "num_commun: 100, loss: 2.041697758436203, time pass: 20s | Local_SGD MX2 MNIST\n",
      "num_commun: 200, loss: 2.013024324178696, time pass: 38s | Local_SGD MX2 MNIST\n",
      "num_commun: 300, loss: 2.007830560207367, time pass: 57s | Local_SGD MX2 MNIST\n",
      "num_commun: 400, loss: 2.005207258462906, time pass: 76s | Local_SGD MX2 MNIST\n",
      "num_commun: 500, loss: 2.001768642663956, time pass: 95s | Local_SGD MX2 MNIST\n",
      "num_commun: 600, loss: 1.998444819450378, time pass: 114s | Local_SGD MX2 MNIST\n",
      "num_commun: 700, loss: 1.995720756053925, time pass: 134s | Local_SGD MX2 MNIST\n",
      "num_commun: 800, loss: 1.992926943302155, time pass: 155s | Local_SGD MX2 MNIST\n",
      "num_commun: 900, loss: 1.989879190921783, time pass: 178s | Local_SGD MX2 MNIST\n",
      "num_commun: 1000, loss: 1.987681609392166, time pass: 200s | Local_SGD MX2 MNIST\n"
     ]
    }
   ],
   "source": [
    "loss_MX2_MNIST_LocalSGD, _, _ = MX2.train_local_sgd(w_list0, beta_list0, sync_step, \n",
    "                                                    n_communs, devices_train_list, train_loader_list, \n",
    "                                                    lambda_penal, repo_step, eta, obj, data_name)"
   ]
  },
  {
   "cell_type": "code",
   "execution_count": 9,
   "metadata": {},
   "outputs": [
    {
     "name": "stdout",
     "output_type": "stream",
     "text": [
      "num_commun: 1, loss: 2.3025847673, time pass: 0s | CD MX2 MNIST\n",
      "num_commun: 100, loss: 1.9880023539, time pass: 10s | CD MX2 MNIST\n",
      "num_commun: 200, loss: 1.9454688728, time pass: 23s | CD MX2 MNIST\n",
      "num_commun: 300, loss: 1.9082230926, time pass: 35s | CD MX2 MNIST\n",
      "num_commun: 400, loss: 1.8790181637, time pass: 48s | CD MX2 MNIST\n",
      "num_commun: 500, loss: 1.8494143665, time pass: 64s | CD MX2 MNIST\n",
      "num_commun: 600, loss: 1.8234753907, time pass: 79s | CD MX2 MNIST\n",
      "num_commun: 700, loss: 1.8028270900, time pass: 96s | CD MX2 MNIST\n",
      "num_commun: 800, loss: 1.7786603272, time pass: 114s | CD MX2 MNIST\n",
      "num_commun: 900, loss: 1.7601940215, time pass: 128s | CD MX2 MNIST\n",
      "num_commun: 1000, loss: 1.7396083355, time pass: 143s | CD MX2 MNIST\n"
     ]
    }
   ],
   "source": [
    "loss_MX2_MNIST_CD, _, _ = MX2.train_CD(w0, beta0, n_communs, devices_train_list, \n",
    "                                 train_loader_list, lambda_penal, repo_step, eta, prob1, obj, data_name)"
   ]
  },
  {
   "cell_type": "code",
   "execution_count": 11,
   "metadata": {},
   "outputs": [
    {
     "name": "stdout",
     "output_type": "stream",
     "text": [
      "num_commun: 1, loss: 2.2959495306, time pass: 0s | CDVR MX2 MNIST\n",
      "num_commun: 100, loss: 2.0305426002, time pass: 20s | CDVR MX2 MNIST\n",
      "num_commun: 200, loss: 1.9464841843, time pass: 46s | CDVR MX2 MNIST\n",
      "num_commun: 300, loss: 1.9152418613, time pass: 70s | CDVR MX2 MNIST\n",
      "num_commun: 400, loss: 1.8738627851, time pass: 90s | CDVR MX2 MNIST\n",
      "num_commun: 500, loss: 1.8434944570, time pass: 118s | CDVR MX2 MNIST\n",
      "num_commun: 600, loss: 1.8171543658, time pass: 142s | CDVR MX2 MNIST\n",
      "num_commun: 700, loss: 1.7957344115, time pass: 164s | CDVR MX2 MNIST\n",
      "num_commun: 800, loss: 1.7742199302, time pass: 190s | CDVR MX2 MNIST\n",
      "num_commun: 900, loss: 1.7530191302, time pass: 215s | CDVR MX2 MNIST\n",
      "num_commun: 1000, loss: 1.7361756086, time pass: 234s | CDVR MX2 MNIST\n"
     ]
    }
   ],
   "source": [
    "loss_MX2_MNIST_CDVR, _, _ = MX2.train_CDVR(w0, beta0, n_communs, devices_train_list, \n",
    "                                           train_loader_list, lambda_penal, repo_step, \n",
    "                                           eta, prob1, obj, data_name, rho)"
   ]
  },
  {
   "cell_type": "code",
   "execution_count": 13,
   "metadata": {},
   "outputs": [],
   "source": [
    "with open(\"./result/loss_MX2_MNIST_CD.txt\", \"wb\") as f:   #Pickling\n",
    "    pickle.dump(loss_MX2_MNIST_CD, f)\n",
    "    \n",
    "with open(\"./result/loss_MX2_MNIST_CDVR.txt\", \"wb\") as f:   #Pickling\n",
    "    pickle.dump(loss_MX2_MNIST_CDVR, f)\n",
    "    \n",
    "with open(\"./result/loss_MX2_MNIST_LocalSGD.txt\", \"wb\") as f:   #Pickling\n",
    "    pickle.dump(loss_MX2_MNIST_LocalSGD, f)"
   ]
  }
 ],
 "metadata": {
  "kernelspec": {
   "display_name": "Python 3",
   "language": "python",
   "name": "python3"
  },
  "language_info": {
   "codemirror_mode": {
    "name": "ipython",
    "version": 3
   },
   "file_extension": ".py",
   "mimetype": "text/x-python",
   "name": "python",
   "nbconvert_exporter": "python",
   "pygments_lexer": "ipython3",
   "version": "3.8.3"
  }
 },
 "nbformat": 4,
 "nbformat_minor": 4
}

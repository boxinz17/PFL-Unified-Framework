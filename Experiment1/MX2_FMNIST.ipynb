{
 "cells": [
  {
   "cell_type": "code",
   "execution_count": 1,
   "metadata": {},
   "outputs": [
    {
     "data": {
      "text/plain": [
       "<torch._C.Generator at 0x2424f4f1f50>"
      ]
     },
     "execution_count": 1,
     "metadata": {},
     "output_type": "execute_result"
    }
   ],
   "source": [
    "# Load packages and set up default settings\n",
    "%matplotlib inline\n",
    "from matplotlib import pyplot as plt\n",
    "import numpy as np\n",
    "import torch\n",
    "import torch.nn as nn\n",
    "import datetime\n",
    "import pickle\n",
    "\n",
    "import data_load\n",
    "import MX2\n",
    "\n",
    "torch.set_printoptions(edgeitems=2, linewidth=75)\n",
    "torch.manual_seed(123)"
   ]
  },
  {
   "cell_type": "code",
   "execution_count": 2,
   "metadata": {},
   "outputs": [
    {
     "name": "stdout",
     "output_type": "stream",
     "text": [
      "Training on device cuda.\n"
     ]
    }
   ],
   "source": [
    "device = (torch.device('cuda') if torch.cuda.is_available()\n",
    "          else torch.device('cpu'))\n",
    "print(f\"Training on device {device}.\")"
   ]
  },
  {
   "cell_type": "code",
   "execution_count": 4,
   "metadata": {},
   "outputs": [],
   "source": [
    "# Initialize all parameters\n",
    "lambda_penal = 1\n",
    "\n",
    "M = 10\n",
    "n_samples = 100\n",
    "    \n",
    "obj = 'MX2'\n",
    "data_name = 'FMNIST'\n",
    "\n",
    "L_prime = 1\n",
    "\n",
    "L_w = lambda_penal / M\n",
    "L_beta = 1 + lambda_penal\n",
    "\n",
    "prob1 = L_w / (L_w + L_beta)\n",
    "prob2 = 1 - prob1\n",
    "\n",
    "eta = 1e-1\n",
    "\n",
    "rho = 1e-2\n",
    "\n",
    "n_communs = 1000\n",
    "repo_step = 100\n",
    "sync_step = 5\n",
    "\n",
    "w0 = [torch.zeros(10, 784).to(device), torch.zeros(10).to(device)]\n",
    "\n",
    "beta0 = []\n",
    "for m in range(M):\n",
    "    beta0.append([torch.zeros(10, 784).to(device), torch.zeros(10).to(device)])\n",
    "    \n",
    "w_list0 = []\n",
    "for m in range(M):\n",
    "    w_list0.append([torch.zeros(10, 784).to(device), torch.zeros(10).to(device)])\n",
    "\n",
    "beta_list0 = []\n",
    "for m in range(M):\n",
    "    beta_list0.append([torch.zeros(10, 784).to(device), torch.zeros(10).to(device)])"
   ]
  },
  {
   "cell_type": "code",
   "execution_count": 5,
   "metadata": {
    "scrolled": true
   },
   "outputs": [
    {
     "name": "stdout",
     "output_type": "stream",
     "text": [
      "L_w is: 0.1\n",
      "L_beta is 0.2\n",
      "prob1 is 0.3333333333333333\n",
      "prob2 is 0.6666666666666667\n",
      "rho is 0.01\n",
      "n_communs is 1000\n",
      "sync_step is 5\n"
     ]
    }
   ],
   "source": [
    "print(\"L_w is: {}\".format(L_w))\n",
    "print(\"L_beta is {}\".format(L_beta))\n",
    "print(\"prob1 is {}\".format(prob1))\n",
    "print(\"prob2 is {}\".format(prob2))\n",
    "print(\"rho is {}\".format(rho))\n",
    "print(\"n_communs is {}\".format(n_communs))\n",
    "print(\"sync_step is {}\".format(sync_step))"
   ]
  },
  {
   "cell_type": "code",
   "execution_count": 5,
   "metadata": {},
   "outputs": [],
   "source": [
    "train_loader_list, devices_train_list = data_load.data_prepare(data_name, n_devices=M, n_samples=n_samples)"
   ]
  },
  {
   "cell_type": "code",
   "execution_count": 7,
   "metadata": {},
   "outputs": [
    {
     "name": "stdout",
     "output_type": "stream",
     "text": [
      "num_commun: 1, loss: 2.302584767341614, time pass: 0s | Local_SGD MX2 FMNIST\n",
      "num_commun: 100, loss: 2.022634959220886, time pass: 19s | Local_SGD MX2 FMNIST\n",
      "num_commun: 200, loss: 1.992257821559906, time pass: 38s | Local_SGD MX2 FMNIST\n",
      "num_commun: 300, loss: 1.986917591094971, time pass: 57s | Local_SGD MX2 FMNIST\n",
      "num_commun: 400, loss: 1.983015775680542, time pass: 76s | Local_SGD MX2 FMNIST\n",
      "num_commun: 500, loss: 1.979705470800400, time pass: 95s | Local_SGD MX2 FMNIST\n",
      "num_commun: 600, loss: 1.975946146249771, time pass: 115s | Local_SGD MX2 FMNIST\n",
      "num_commun: 700, loss: 1.972659128904343, time pass: 136s | Local_SGD MX2 FMNIST\n",
      "num_commun: 800, loss: 1.969220441579819, time pass: 159s | Local_SGD MX2 FMNIST\n",
      "num_commun: 900, loss: 1.965963608026505, time pass: 181s | Local_SGD MX2 FMNIST\n",
      "num_commun: 1000, loss: 1.962999510765076, time pass: 204s | Local_SGD MX2 FMNIST\n"
     ]
    }
   ],
   "source": [
    "loss_MX2_FMNIST_LocalSGD, _, _ = MX2.train_local_sgd(w_list0, beta_list0, sync_step, \n",
    "                                                    n_communs, devices_train_list, train_loader_list, \n",
    "                                                    lambda_penal, repo_step, eta, obj, data_name)"
   ]
  },
  {
   "cell_type": "code",
   "execution_count": 8,
   "metadata": {},
   "outputs": [
    {
     "name": "stdout",
     "output_type": "stream",
     "text": [
      "num_commun: 1, loss: 2.3025847673, time pass: 0s | CD MX2 FMNIST\n",
      "num_commun: 100, loss: 1.9640193820, time pass: 10s | CD MX2 FMNIST\n",
      "num_commun: 200, loss: 1.9120150566, time pass: 22s | CD MX2 FMNIST\n",
      "num_commun: 300, loss: 1.8687236905, time pass: 36s | CD MX2 FMNIST\n",
      "num_commun: 400, loss: 1.8334607124, time pass: 51s | CD MX2 FMNIST\n",
      "num_commun: 500, loss: 1.8018663585, time pass: 66s | CD MX2 FMNIST\n",
      "num_commun: 600, loss: 1.7719134033, time pass: 85s | CD MX2 FMNIST\n",
      "num_commun: 700, loss: 1.7447489738, time pass: 103s | CD MX2 FMNIST\n",
      "num_commun: 800, loss: 1.7203852594, time pass: 118s | CD MX2 FMNIST\n",
      "num_commun: 900, loss: 1.6997707844, time pass: 131s | CD MX2 FMNIST\n",
      "num_commun: 1000, loss: 1.6771988332, time pass: 145s | CD MX2 FMNIST\n"
     ]
    }
   ],
   "source": [
    "loss_MX2_FMNIST_CD, _, _ = MX2.train_CD(w0, beta0, n_communs, devices_train_list, \n",
    "                                 train_loader_list, lambda_penal, repo_step, eta, prob1, obj, data_name)"
   ]
  },
  {
   "cell_type": "code",
   "execution_count": 9,
   "metadata": {},
   "outputs": [
    {
     "name": "stdout",
     "output_type": "stream",
     "text": [
      "num_commun: 1, loss: 2.2954288363, time pass: 0s | CDVR MX2 FMNIST\n",
      "num_commun: 100, loss: 2.0102390528, time pass: 24s | CDVR MX2 FMNIST\n",
      "num_commun: 200, loss: 1.9165530562, time pass: 47s | CDVR MX2 FMNIST\n",
      "num_commun: 300, loss: 1.8791693568, time pass: 69s | CDVR MX2 FMNIST\n",
      "num_commun: 400, loss: 1.8324231684, time pass: 93s | CDVR MX2 FMNIST\n",
      "num_commun: 500, loss: 1.7970671237, time pass: 118s | CDVR MX2 FMNIST\n",
      "num_commun: 600, loss: 1.7664565623, time pass: 142s | CDVR MX2 FMNIST\n",
      "num_commun: 700, loss: 1.7416998148, time pass: 167s | CDVR MX2 FMNIST\n",
      "num_commun: 800, loss: 1.7169719100, time pass: 192s | CDVR MX2 FMNIST\n",
      "num_commun: 900, loss: 1.6928803205, time pass: 214s | CDVR MX2 FMNIST\n",
      "num_commun: 1000, loss: 1.6739354193, time pass: 229s | CDVR MX2 FMNIST\n"
     ]
    }
   ],
   "source": [
    "loss_MX2_FMNIST_CDVR, _, _ = MX2.train_CDVR(w0, beta0, n_communs, devices_train_list, \n",
    "                                           train_loader_list, lambda_penal, repo_step, \n",
    "                                           eta, prob1, obj, data_name, rho)"
   ]
  },
  {
   "cell_type": "code",
   "execution_count": 10,
   "metadata": {},
   "outputs": [],
   "source": [
    "with open(\"./result/loss_MX2_FMNIST_CD.txt\", \"wb\") as f:   #Pickling\n",
    "    pickle.dump(loss_MX2_FMNIST_CD, f)\n",
    "    \n",
    "with open(\"./result/loss_MX2_FMNIST_CDVR.txt\", \"wb\") as f:   #Pickling\n",
    "    pickle.dump(loss_MX2_FMNIST_CDVR, f)\n",
    "    \n",
    "with open(\"./result/loss_MX2_FMNIST_LocalSGD.txt\", \"wb\") as f:   #Pickling\n",
    "    pickle.dump(loss_MX2_FMNIST_LocalSGD, f)"
   ]
  }
 ],
 "metadata": {
  "kernelspec": {
   "display_name": "Python 3",
   "language": "python",
   "name": "python3"
  },
  "language_info": {
   "codemirror_mode": {
    "name": "ipython",
    "version": 3
   },
   "file_extension": ".py",
   "mimetype": "text/x-python",
   "name": "python",
   "nbconvert_exporter": "python",
   "pygments_lexer": "ipython3",
   "version": "3.8.3"
  }
 },
 "nbformat": 4,
 "nbformat_minor": 4
}

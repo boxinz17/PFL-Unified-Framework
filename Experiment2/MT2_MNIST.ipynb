{
 "cells": [
  {
   "cell_type": "code",
   "execution_count": 1,
   "metadata": {},
   "outputs": [
    {
     "data": {
      "text/plain": [
       "<torch._C.Generator at 0x13bdd9e0f50>"
      ]
     },
     "execution_count": 1,
     "metadata": {},
     "output_type": "execute_result"
    }
   ],
   "source": [
    "# Load packages and set up default settings\n",
    "%matplotlib inline\n",
    "from matplotlib import pyplot as plt\n",
    "import numpy as np\n",
    "import torch\n",
    "import torch.nn as nn\n",
    "import datetime\n",
    "import pickle\n",
    "\n",
    "import data_load\n",
    "import MT2_reparam\n",
    "import MT2_nonreparam\n",
    "\n",
    "torch.set_printoptions(edgeitems=2, linewidth=75)\n",
    "torch.manual_seed(123)"
   ]
  },
  {
   "cell_type": "code",
   "execution_count": 2,
   "metadata": {},
   "outputs": [
    {
     "name": "stdout",
     "output_type": "stream",
     "text": [
      "Training on device cuda.\n"
     ]
    }
   ],
   "source": [
    "device = (torch.device('cuda') if torch.cuda.is_available()\n",
    "          else torch.device('cpu'))\n",
    "print(f\"Training on device {device}.\")"
   ]
  },
  {
   "cell_type": "code",
   "execution_count": 3,
   "metadata": {},
   "outputs": [],
   "source": [
    "# Initialize all parameters\n",
    "lambda_global = 10\n",
    "lambda_penal = 1\n",
    "\n",
    "M = 10\n",
    "n_samples = 100\n",
    "\n",
    "obj = 'MT2'\n",
    "data_name = 'MNIST'\n",
    "\n",
    "L_w = (lambda_global + lambda_penal) / M\n",
    "L_beta = 1 + lambda_penal\n",
    "\n",
    "prob1 = L_w / (L_w + L_beta)\n",
    "prob2 = 1 - prob1\n",
    "\n",
    "eta = 1e-1\n",
    "\n",
    "rho = 1e-2\n",
    "\n",
    "n_communs = 1000\n",
    "repo_step = 100\n",
    "sync_step = 5\n",
    "\n",
    "w0 = [torch.zeros(10, 784).to(device), torch.zeros(10).to(device)]\n",
    "\n",
    "beta0 = []\n",
    "for m in range(M):\n",
    "    beta0.append([torch.zeros(10, 784).to(device), torch.zeros(10).to(device)])\n",
    "    \n",
    "w_list0 = []\n",
    "for m in range(M):\n",
    "    w_list0.append([torch.zeros(10, 784).to(device), torch.zeros(10).to(device)])\n",
    "\n",
    "beta_list0 = []\n",
    "for m in range(M):\n",
    "    beta_list0.append([torch.zeros(10, 784).to(device), torch.zeros(10).to(device)])"
   ]
  },
  {
   "cell_type": "code",
   "execution_count": 4,
   "metadata": {},
   "outputs": [
    {
     "name": "stdout",
     "output_type": "stream",
     "text": [
      "L_w is: 1.1\n",
      "L_beta is 0.2\n",
      "prob1 is 0.8461538461538461\n",
      "prob2 is 0.15384615384615385\n",
      "eta is 0.1\n",
      "rho is 0.01\n",
      "n_communs is 1000\n",
      "sync_step is 5\n"
     ]
    }
   ],
   "source": [
    "print(\"L_w is: {}\".format(L_w))\n",
    "print(\"L_beta is {}\".format(L_beta))\n",
    "print(\"prob1 is {}\".format(prob1))\n",
    "print(\"prob2 is {}\".format(prob2))\n",
    "print(\"eta is {}\".format(eta))\n",
    "print(\"rho is {}\".format(rho))\n",
    "print(\"n_communs is {}\".format(n_communs))\n",
    "print(\"sync_step is {}\".format(sync_step))"
   ]
  },
  {
   "cell_type": "code",
   "execution_count": 5,
   "metadata": {},
   "outputs": [],
   "source": [
    "train_loader_list, devices_train_list = data_load.data_prepare(data_name, n_devices=M, n_samples=n_samples)"
   ]
  },
  {
   "cell_type": "code",
   "execution_count": 7,
   "metadata": {},
   "outputs": [
    {
     "name": "stdout",
     "output_type": "stream",
     "text": [
      "num_commun: 1, loss: 25.1044507980, time pass: 0s | CDVR MT2 MNIST Reparam\n",
      "num_commun: 100, loss: 19.5802978516, time pass: 7s | CDVR MT2 MNIST Reparam\n",
      "num_commun: 200, loss: 17.9524759769, time pass: 15s | CDVR MT2 MNIST Reparam\n",
      "num_commun: 300, loss: 13.8919169903, time pass: 22s | CDVR MT2 MNIST Reparam\n",
      "num_commun: 400, loss: 11.8289164066, time pass: 30s | CDVR MT2 MNIST Reparam\n",
      "num_commun: 400, loss: 11.8289164066, time pass: 30s | CDVR MT2 MNIST Reparam\n",
      "num_commun: 500, loss: 10.6569432020, time pass: 37s | CDVR MT2 MNIST Reparam\n",
      "num_commun: 600, loss: 9.7823578119, time pass: 44s | CDVR MT2 MNIST Reparam\n",
      "num_commun: 700, loss: 8.7495270967, time pass: 52s | CDVR MT2 MNIST Reparam\n",
      "num_commun: 800, loss: 8.0757126331, time pass: 59s | CDVR MT2 MNIST Reparam\n",
      "num_commun: 900, loss: 7.4790874481, time pass: 67s | CDVR MT2 MNIST Reparam\n",
      "num_commun: 1000, loss: 7.0672743797, time pass: 75s | CDVR MT2 MNIST Reparam\n"
     ]
    }
   ],
   "source": [
    "loss_MT2_MNIST_CDVR_reparam, _, _ = MT2_reparam.train_CDVR(w0, beta0, n_communs, devices_train_list, \n",
    "                                           train_loader_list, lambda_global, lambda_penal, \n",
    "                                           repo_step, eta, prob1, rho, obj, data_name)"
   ]
  },
  {
   "cell_type": "code",
   "execution_count": 8,
   "metadata": {},
   "outputs": [
    {
     "name": "stdout",
     "output_type": "stream",
     "text": [
      "num_commun: 1, loss: 24.0965902328, time pass: 0s | CDVR MT2 MNIST Non-Reparam\n",
      "num_commun: 100, loss: 16.7571791649, time pass: 7s | CDVR MT2 MNIST Non-Reparam\n",
      "num_commun: 200, loss: 14.9998351097, time pass: 14s | CDVR MT2 MNIST Non-Reparam\n",
      "num_commun: 300, loss: 10.7326833487, time pass: 21s | CDVR MT2 MNIST Non-Reparam\n",
      "num_commun: 400, loss: 8.8109275341, time pass: 29s | CDVR MT2 MNIST Non-Reparam\n",
      "num_commun: 400, loss: 8.8109275341, time pass: 29s | CDVR MT2 MNIST Non-Reparam\n",
      "num_commun: 500, loss: 8.3221554279, time pass: 36s | CDVR MT2 MNIST Non-Reparam\n",
      "num_commun: 600, loss: 8.1756039381, time pass: 44s | CDVR MT2 MNIST Non-Reparam\n",
      "num_commun: 700, loss: 7.8985398769, time pass: 51s | CDVR MT2 MNIST Non-Reparam\n",
      "num_commun: 800, loss: 7.7902486801, time pass: 59s | CDVR MT2 MNIST Non-Reparam\n",
      "num_commun: 900, loss: 7.9596112609, time pass: 67s | CDVR MT2 MNIST Non-Reparam\n",
      "num_commun: 1000, loss: 8.3274740458, time pass: 74s | CDVR MT2 MNIST Non-Reparam\n"
     ]
    }
   ],
   "source": [
    "loss_MT2_MNIST_CDVR_nonreparam, _, _ = MT2_nonreparam.train_CDVR(w0, beta0, n_communs, devices_train_list, \n",
    "                                           train_loader_list, lambda_global, lambda_penal, \n",
    "                                           repo_step, eta, prob1, rho, obj, data_name)"
   ]
  },
  {
   "cell_type": "code",
   "execution_count": 9,
   "metadata": {},
   "outputs": [],
   "source": [
    "with open(\"./result/loss_MT2_MNIST_CDVR_reparam.txt\", \"wb\") as f:   #Pickling\n",
    "    pickle.dump(loss_MT2_MNIST_CDVR_reparam, f)\n",
    "    \n",
    "with open(\"./result/loss_MT2_MNIST_CDVR_nonreparam.txt\", \"wb\") as f:   #Pickling\n",
    "    pickle.dump(loss_MT2_MNIST_CDVR_nonreparam, f)"
   ]
  }
 ],
 "metadata": {
  "kernelspec": {
   "display_name": "Python 3",
   "language": "python",
   "name": "python3"
  },
  "language_info": {
   "codemirror_mode": {
    "name": "ipython",
    "version": 3
   },
   "file_extension": ".py",
   "mimetype": "text/x-python",
   "name": "python",
   "nbconvert_exporter": "python",
   "pygments_lexer": "ipython3",
   "version": "3.8.3"
  }
 },
 "nbformat": 4,
 "nbformat_minor": 4
}

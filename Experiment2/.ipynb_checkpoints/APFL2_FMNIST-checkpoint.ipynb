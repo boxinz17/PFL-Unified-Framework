{
 "cells": [
  {
   "cell_type": "code",
   "execution_count": 1,
   "metadata": {},
   "outputs": [
    {
     "data": {
      "text/plain": [
       "<torch._C.Generator at 0x2d4a5c21f30>"
      ]
     },
     "execution_count": 1,
     "metadata": {},
     "output_type": "execute_result"
    }
   ],
   "source": [
    "# Load packages and set up default settings\n",
    "%matplotlib inline\n",
    "from matplotlib import pyplot as plt\n",
    "import numpy as np\n",
    "import torch\n",
    "import torch.nn as nn\n",
    "import datetime\n",
    "import pickle\n",
    "\n",
    "import data_load\n",
    "import APFL2_reparam\n",
    "import APFL2_nonreparam\n",
    "\n",
    "torch.set_printoptions(edgeitems=2, linewidth=75)\n",
    "torch.manual_seed(123)"
   ]
  },
  {
   "cell_type": "code",
   "execution_count": 2,
   "metadata": {},
   "outputs": [
    {
     "name": "stdout",
     "output_type": "stream",
     "text": [
      "Training on device cuda.\n"
     ]
    }
   ],
   "source": [
    "device = (torch.device('cuda') if torch.cuda.is_available()\n",
    "          else torch.device('cpu'))\n",
    "print(f\"Training on device {device}.\")"
   ]
  },
  {
   "cell_type": "code",
   "execution_count": 3,
   "metadata": {},
   "outputs": [],
   "source": [
    "# Initialize all parameters\n",
    "lambda_global = 10\n",
    "\n",
    "M = 10\n",
    "n_samples = 100\n",
    "\n",
    "obj = 'APFL2'\n",
    "data_name = 'FMNIST'\n",
    "\n",
    "L_prime = 1\n",
    "\n",
    "alpha_list = [0.2] * M\n",
    "\n",
    "L_w = (lambda_global + 0.2 ** 2) * L_prime / M\n",
    "L_beta = ((1-0.2) ** 2 ) * L_prime / M\n",
    "\n",
    "prob1 = L_w / (L_w + L_beta)\n",
    "prob2 = 1 - prob1\n",
    "\n",
    "eta = 1.1\n",
    "\n",
    "rho = 0.01\n",
    "\n",
    "n_communs = 1000\n",
    "repo_step = 100\n",
    "sync_step = 1\n",
    "\n",
    "w0 = [torch.zeros(10, 784).to(device), torch.zeros(10).to(device)]\n",
    "\n",
    "beta0 = []\n",
    "for m in range(M):\n",
    "    beta0.append([torch.zeros(10, 784).to(device), torch.zeros(10).to(device)])\n",
    "    \n",
    "w_list0 = []\n",
    "for m in range(M):\n",
    "    w_list0.append([torch.zeros(10, 784).to(device), torch.zeros(10).to(device)])\n",
    "\n",
    "beta_list0 = []\n",
    "for m in range(M):\n",
    "    beta_list0.append([torch.zeros(10, 784).to(device), torch.zeros(10).to(device)])"
   ]
  },
  {
   "cell_type": "code",
   "execution_count": 4,
   "metadata": {},
   "outputs": [
    {
     "name": "stdout",
     "output_type": "stream",
     "text": [
      "L_w is: 1.004\n",
      "L_beta is 0.06400000000000002\n",
      "prob1 is 0.9400749063670412\n",
      "prob2 is 0.05992509363295884\n",
      "eta is 1.1\n",
      "rho is 0.01\n",
      "n_communs is 1000\n",
      "sync_step is 1\n"
     ]
    }
   ],
   "source": [
    "print(\"L_w is: {}\".format(L_w))\n",
    "print(\"L_beta is {}\".format(L_beta))\n",
    "print(\"prob1 is {}\".format(prob1))\n",
    "print(\"prob2 is {}\".format(prob2))\n",
    "print(\"eta is {}\".format(eta))\n",
    "print(\"rho is {}\".format(rho))\n",
    "print(\"n_communs is {}\".format(n_communs))\n",
    "print(\"sync_step is {}\".format(sync_step))"
   ]
  },
  {
   "cell_type": "code",
   "execution_count": 5,
   "metadata": {},
   "outputs": [],
   "source": [
    "train_loader_list, devices_train_list = data_load.data_prepare(data_name, n_devices=M, n_samples=n_samples)"
   ]
  },
  {
   "cell_type": "code",
   "execution_count": 7,
   "metadata": {},
   "outputs": [
    {
     "name": "stdout",
     "output_type": "stream",
     "text": [
      "epoch: 1, loss: 24.7106987000, time pass: 0s | CDVR APFL2 FMNIST Reparam\n",
      "epoch: 100, loss: 12.0440868139, time pass: 9s | CDVR APFL2 FMNIST Reparam\n",
      "epoch: 200, loss: 10.2135409236, time pass: 18s | CDVR APFL2 FMNIST Reparam\n",
      "epoch: 300, loss: 9.5948714614, time pass: 27s | CDVR APFL2 FMNIST Reparam\n",
      "epoch: 400, loss: 6.6458115816, time pass: 36s | CDVR APFL2 FMNIST Reparam\n",
      "epoch: 500, loss: 6.5416642547, time pass: 46s | CDVR APFL2 FMNIST Reparam\n",
      "epoch: 600, loss: 6.1378191233, time pass: 56s | CDVR APFL2 FMNIST Reparam\n",
      "epoch: 700, loss: 5.8507359028, time pass: 67s | CDVR APFL2 FMNIST Reparam\n",
      "epoch: 800, loss: 5.1560627282, time pass: 79s | CDVR APFL2 FMNIST Reparam\n",
      "epoch: 900, loss: 4.9276572466, time pass: 91s | CDVR APFL2 FMNIST Reparam\n",
      "epoch: 1000, loss: 4.7233012557, time pass: 102s | CDVR APFL2 FMNIST Reparam\n"
     ]
    }
   ],
   "source": [
    "loss_APFL2_FMNIST_CDVR_reparam, _, _ = APFL2_reparam.train_CDVR(w0, beta0, n_epochs, devices_train_list, \n",
    "                                               train_loader_list, lambda_global, repo_step, \n",
    "                                               eta, prob1, rho, alpha_list, obj, data_name)"
   ]
  },
  {
   "cell_type": "code",
   "execution_count": 8,
   "metadata": {},
   "outputs": [
    {
     "name": "stdout",
     "output_type": "stream",
     "text": [
      "epoch: 1, loss: 21.8532996178, time pass: 0s | CDVR APFL2 FMNIST Non-Reparam\n",
      "epoch: 100, loss: 13.9263102293, time pass: 12s | CDVR APFL2 FMNIST Non-Reparam\n",
      "epoch: 200, loss: 21.1460895777, time pass: 25s | CDVR APFL2 FMNIST Non-Reparam\n",
      "epoch: 300, loss: 24.0436980009, time pass: 38s | CDVR APFL2 FMNIST Non-Reparam\n",
      "epoch: 400, loss: 33.9318672895, time pass: 51s | CDVR APFL2 FMNIST Non-Reparam\n",
      "epoch: 500, loss: 35.0636691784, time pass: 64s | CDVR APFL2 FMNIST Non-Reparam\n",
      "epoch: 600, loss: 14.5059469260, time pass: 77s | CDVR APFL2 FMNIST Non-Reparam\n",
      "epoch: 700, loss: 11.7325858816, time pass: 90s | CDVR APFL2 FMNIST Non-Reparam\n",
      "epoch: 800, loss: 11.3753322452, time pass: 103s | CDVR APFL2 FMNIST Non-Reparam\n",
      "epoch: 900, loss: 38.4107824519, time pass: 116s | CDVR APFL2 FMNIST Non-Reparam\n",
      "epoch: 1000, loss: 61.8733618081, time pass: 128s | CDVR APFL2 FMNIST Non-Reparam\n"
     ]
    }
   ],
   "source": [
    "loss_APFL2_FMNIST_CDVR_nonreparam, _, _ = APFL2_nonreparam.train_CDVR(w0, beta0, n_epochs, devices_train_list, \n",
    "                                               train_loader_list, lambda_global, repo_step, \n",
    "                                               eta, prob1, rho, alpha_list, obj, data_name)"
   ]
  },
  {
   "cell_type": "code",
   "execution_count": 9,
   "metadata": {},
   "outputs": [],
   "source": [
    "with open(\"./result/loss_APFL2_FMNIST_CDVR_reparam.txt\", \"wb\") as f:   #Pickling\n",
    "    pickle.dump(loss_APFL2_FMNIST_CDVR_reparam, f)\n",
    "    \n",
    "with open(\"./result/loss_APFL2_FMNIST_CDVR_nonreparam.txt\", \"wb\") as f:   #Pickling\n",
    "    pickle.dump(loss_APFL2_FMNIST_CDVR_nonreparam, f)"
   ]
  }
 ],
 "metadata": {
  "kernelspec": {
   "display_name": "Python 3",
   "language": "python",
   "name": "python3"
  },
  "language_info": {
   "codemirror_mode": {
    "name": "ipython",
    "version": 3
   },
   "file_extension": ".py",
   "mimetype": "text/x-python",
   "name": "python",
   "nbconvert_exporter": "python",
   "pygments_lexer": "ipython3",
   "version": "3.8.3"
  }
 },
 "nbformat": 4,
 "nbformat_minor": 4
}

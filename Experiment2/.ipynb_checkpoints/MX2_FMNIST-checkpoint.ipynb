{
 "cells": [
  {
   "cell_type": "code",
   "execution_count": 1,
   "metadata": {},
   "outputs": [
    {
     "data": {
      "text/plain": [
       "<torch._C.Generator at 0x195d87d1f30>"
      ]
     },
     "execution_count": 1,
     "metadata": {},
     "output_type": "execute_result"
    }
   ],
   "source": [
    "# Load packages and set up default settings\n",
    "%matplotlib inline\n",
    "from matplotlib import pyplot as plt\n",
    "import numpy as np\n",
    "import torch\n",
    "import torch.nn as nn\n",
    "import datetime\n",
    "import pickle\n",
    "\n",
    "import data_load\n",
    "import MX2_reparam\n",
    "import MX2_nonreparam\n",
    "\n",
    "torch.set_printoptions(edgeitems=2, linewidth=75)\n",
    "torch.manual_seed(123)"
   ]
  },
  {
   "cell_type": "code",
   "execution_count": 2,
   "metadata": {},
   "outputs": [
    {
     "name": "stdout",
     "output_type": "stream",
     "text": [
      "Training on device cuda.\n"
     ]
    }
   ],
   "source": [
    "device = (torch.device('cuda') if torch.cuda.is_available()\n",
    "          else torch.device('cpu'))\n",
    "print(f\"Training on device {device}.\")"
   ]
  },
  {
   "cell_type": "code",
   "execution_count": 3,
   "metadata": {},
   "outputs": [],
   "source": [
    "# Initialize all parameters\n",
    "lambda_penal = 1\n",
    "\n",
    "M = 10\n",
    "n_samples = 100\n",
    "    \n",
    "obj = 'MX2'\n",
    "data_name = 'FMNIST'\n",
    "\n",
    "L_prime = 1\n",
    "\n",
    "L_w = lambda_penal / M\n",
    "L_beta = 1 + lambda_penal\n",
    "\n",
    "prob1 = L_w / (L_w + L_beta)\n",
    "prob2 = 1 - prob1\n",
    "\n",
    "eta = 1e-1\n",
    "\n",
    "rho = 1e-2\n",
    "\n",
    "n_communs = 1000\n",
    "repo_step = 100\n",
    "sync_step = 5\n",
    "\n",
    "w0 = [torch.zeros(10, 784).to(device), torch.zeros(10).to(device)]\n",
    "\n",
    "beta0 = []\n",
    "for m in range(M):\n",
    "    beta0.append([torch.zeros(10, 784).to(device), torch.zeros(10).to(device)])\n",
    "    \n",
    "w_list0 = []\n",
    "for m in range(M):\n",
    "    w_list0.append([torch.zeros(10, 784).to(device), torch.zeros(10).to(device)])\n",
    "\n",
    "beta_list0 = []\n",
    "for m in range(M):\n",
    "    beta_list0.append([torch.zeros(10, 784).to(device), torch.zeros(10).to(device)])"
   ]
  },
  {
   "cell_type": "code",
   "execution_count": 4,
   "metadata": {},
   "outputs": [
    {
     "name": "stdout",
     "output_type": "stream",
     "text": [
      "L_w is: 0.1\n",
      "L_beta is 2\n",
      "prob1 is 0.047619047619047616\n",
      "prob2 is 0.9523809523809523\n",
      "rho is 0.01\n",
      "n_communs is 1000\n",
      "sync_step is 5\n"
     ]
    }
   ],
   "source": [
    "print(\"L_w is: {}\".format(L_w))\n",
    "print(\"L_beta is {}\".format(L_beta))\n",
    "print(\"prob1 is {}\".format(prob1))\n",
    "print(\"prob2 is {}\".format(prob2))\n",
    "print(\"rho is {}\".format(rho))\n",
    "print(\"n_communs is {}\".format(n_communs))\n",
    "print(\"sync_step is {}\".format(sync_step))"
   ]
  },
  {
   "cell_type": "code",
   "execution_count": 5,
   "metadata": {},
   "outputs": [],
   "source": [
    "train_loader_list, devices_train_list = data_load.data_prepare(data_name, n_devices=M, n_samples=n_samples)"
   ]
  },
  {
   "cell_type": "code",
   "execution_count": 7,
   "metadata": {},
   "outputs": [
    {
     "name": "stdout",
     "output_type": "stream",
     "text": [
      "epoch: 1, loss: 2.2608776331, time pass: 0s | CDVR MX2 FMNIST Reparam\n",
      "epoch: 100, loss: 1.8998302758, time pass: 9s | CDVR MX2 FMNIST Reparam\n",
      "epoch: 200, loss: 2.0602789760, time pass: 17s | CDVR MX2 FMNIST Reparam\n",
      "epoch: 300, loss: 2.0374260485, time pass: 26s | CDVR MX2 FMNIST Reparam\n",
      "epoch: 400, loss: 1.7327976346, time pass: 36s | CDVR MX2 FMNIST Reparam\n",
      "epoch: 500, loss: 1.7304472327, time pass: 45s | CDVR MX2 FMNIST Reparam\n",
      "epoch: 600, loss: 1.6572942615, time pass: 54s | CDVR MX2 FMNIST Reparam\n",
      "epoch: 700, loss: 1.6139002979, time pass: 64s | CDVR MX2 FMNIST Reparam\n",
      "epoch: 800, loss: 1.5539260626, time pass: 74s | CDVR MX2 FMNIST Reparam\n",
      "epoch: 900, loss: 1.5449187040, time pass: 84s | CDVR MX2 FMNIST Reparam\n",
      "epoch: 1000, loss: 1.4893119693, time pass: 95s | CDVR MX2 FMNIST Reparam\n"
     ]
    }
   ],
   "source": [
    "loss_MX2_FMNIST_CDVR_reparam, _, _ = MX2_reparam.train_CDVR(w0, beta0, n_epochs, devices_train_list, \n",
    "                                           train_loader_list, lambda_penal, repo_step, \n",
    "                                           eta, prob1, obj, data_name, rho)"
   ]
  },
  {
   "cell_type": "code",
   "execution_count": 8,
   "metadata": {},
   "outputs": [
    {
     "name": "stdout",
     "output_type": "stream",
     "text": [
      "epoch: 1, loss: 2.2608776331, time pass: 0s | CDVR MX2 FMNIST Non-Reparam\n",
      "epoch: 100, loss: 1.8390368104, time pass: 10s | CDVR MX2 FMNIST Non-Reparam\n",
      "epoch: 200, loss: 1.9601357698, time pass: 22s | CDVR MX2 FMNIST Non-Reparam\n",
      "epoch: 300, loss: 1.9235126078, time pass: 34s | CDVR MX2 FMNIST Non-Reparam\n",
      "epoch: 400, loss: 1.6669668078, time pass: 45s | CDVR MX2 FMNIST Non-Reparam\n",
      "epoch: 500, loss: 1.6129514873, time pass: 56s | CDVR MX2 FMNIST Non-Reparam\n",
      "epoch: 600, loss: 1.5436326802, time pass: 67s | CDVR MX2 FMNIST Non-Reparam\n",
      "epoch: 700, loss: 1.4477413535, time pass: 78s | CDVR MX2 FMNIST Non-Reparam\n",
      "epoch: 800, loss: 1.4185953736, time pass: 89s | CDVR MX2 FMNIST Non-Reparam\n",
      "epoch: 900, loss: 1.3519150972, time pass: 99s | CDVR MX2 FMNIST Non-Reparam\n",
      "epoch: 1000, loss: 2.1006506681, time pass: 107s | CDVR MX2 FMNIST Non-Reparam\n"
     ]
    }
   ],
   "source": [
    "loss_MX2_FMNIST_CDVR_nonreparam, _, _ = MX2_nonreparam.train_CDVR(w0, beta0, n_epochs, devices_train_list, \n",
    "                                           train_loader_list, lambda_penal, repo_step, \n",
    "                                           eta, prob1, obj, data_name, rho)"
   ]
  },
  {
   "cell_type": "code",
   "execution_count": 9,
   "metadata": {},
   "outputs": [],
   "source": [
    "with open(\"./result/loss_MX2_FMNIST_CDVR_reparam.txt\", \"wb\") as f:   #Pickling\n",
    "    pickle.dump(loss_MX2_FMNIST_CDVR_reparam, f)\n",
    "    \n",
    "with open(\"./result/loss_MX2_FMNIST_CDVR_nonreparam.txt\", \"wb\") as f:   #Pickling\n",
    "    pickle.dump(loss_MX2_FMNIST_CDVR_nonreparam, f)"
   ]
  }
 ],
 "metadata": {
  "kernelspec": {
   "display_name": "Python 3",
   "language": "python",
   "name": "python3"
  },
  "language_info": {
   "codemirror_mode": {
    "name": "ipython",
    "version": 3
   },
   "file_extension": ".py",
   "mimetype": "text/x-python",
   "name": "python",
   "nbconvert_exporter": "python",
   "pygments_lexer": "ipython3",
   "version": "3.8.3"
  }
 },
 "nbformat": 4,
 "nbformat_minor": 4
}

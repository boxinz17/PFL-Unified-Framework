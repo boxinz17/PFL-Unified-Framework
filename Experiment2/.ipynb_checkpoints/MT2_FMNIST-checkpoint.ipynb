{
 "cells": [
  {
   "cell_type": "code",
   "execution_count": 1,
   "metadata": {},
   "outputs": [
    {
     "data": {
      "text/plain": [
       "<torch._C.Generator at 0x1e40a612f10>"
      ]
     },
     "execution_count": 1,
     "metadata": {},
     "output_type": "execute_result"
    }
   ],
   "source": [
    "# Load packages and set up default settings\n",
    "%matplotlib inline\n",
    "from matplotlib import pyplot as plt\n",
    "import numpy as np\n",
    "import torch\n",
    "import torch.nn as nn\n",
    "import datetime\n",
    "import pickle\n",
    "\n",
    "import data_load\n",
    "import MT2_reparam\n",
    "import MT2_nonreparam\n",
    "\n",
    "torch.set_printoptions(edgeitems=2, linewidth=75)\n",
    "torch.manual_seed(123)"
   ]
  },
  {
   "cell_type": "code",
   "execution_count": 2,
   "metadata": {},
   "outputs": [
    {
     "name": "stdout",
     "output_type": "stream",
     "text": [
      "Training on device cuda.\n"
     ]
    }
   ],
   "source": [
    "device = (torch.device('cuda') if torch.cuda.is_available()\n",
    "          else torch.device('cpu'))\n",
    "print(f\"Training on device {device}.\")"
   ]
  },
  {
   "cell_type": "code",
   "execution_count": 3,
   "metadata": {},
   "outputs": [],
   "source": [
    "# Initialize all parameters\n",
    "lambda_global = 10\n",
    "lambda_penal = 1\n",
    "\n",
    "M = 10\n",
    "n_samples = 100\n",
    "\n",
    "obj = 'MT2'\n",
    "data_name = 'FMNIST'\n",
    "\n",
    "L_w = (lambda_global + lambda_penal) / M\n",
    "L_beta = 1 + lambda_penal\n",
    "\n",
    "prob1 = L_w / (L_w + L_beta)\n",
    "prob2 = 1 - prob1\n",
    "\n",
    "eta = 1e-1\n",
    "\n",
    "rho = 1e-2\n",
    "\n",
    "n_communs = 1000\n",
    "repo_step = 100\n",
    "sync_step = 5\n",
    "\n",
    "w0 = [torch.zeros(10, 784).to(device), torch.zeros(10).to(device)]\n",
    "\n",
    "beta0 = []\n",
    "for m in range(M):\n",
    "    beta0.append([torch.zeros(10, 784).to(device), torch.zeros(10).to(device)])\n",
    "    \n",
    "w_list0 = []\n",
    "for m in range(M):\n",
    "    w_list0.append([torch.zeros(10, 784).to(device), torch.zeros(10).to(device)])\n",
    "\n",
    "beta_list0 = []\n",
    "for m in range(M):\n",
    "    beta_list0.append([torch.zeros(10, 784).to(device), torch.zeros(10).to(device)])"
   ]
  },
  {
   "cell_type": "code",
   "execution_count": 4,
   "metadata": {},
   "outputs": [
    {
     "name": "stdout",
     "output_type": "stream",
     "text": [
      "L_w is: 1.1\n",
      "L_beta is 0.2\n",
      "prob1 is 0.8461538461538461\n",
      "prob2 is 0.15384615384615385\n",
      "eta is 0.1\n",
      "rho is 0.01\n",
      "n_communs is 1000\n",
      "sync_step is 5\n"
     ]
    }
   ],
   "source": [
    "print(\"L_w is: {}\".format(L_w))\n",
    "print(\"L_beta is {}\".format(L_beta))\n",
    "print(\"prob1 is {}\".format(prob1))\n",
    "print(\"prob2 is {}\".format(prob2))\n",
    "print(\"eta is {}\".format(eta))\n",
    "print(\"rho is {}\".format(rho))\n",
    "print(\"n_communs is {}\".format(n_communs))\n",
    "print(\"sync_step is {}\".format(sync_step))"
   ]
  },
  {
   "cell_type": "code",
   "execution_count": 5,
   "metadata": {},
   "outputs": [],
   "source": [
    "train_loader_list, devices_train_list = data_load.data_prepare(data_name, n_devices=M, n_samples=n_samples)"
   ]
  },
  {
   "cell_type": "code",
   "execution_count": 7,
   "metadata": {},
   "outputs": [
    {
     "name": "stdout",
     "output_type": "stream",
     "text": [
      "epoch: 1, loss: 25.0718820572, time pass: 0s | CDVR MT2 FMNIST Reparam\n",
      "epoch: 100, loss: 19.5062180519, time pass: 11s | CDVR MT2 FMNIST Reparam\n",
      "epoch: 200, loss: 18.0666724205, time pass: 21s | CDVR MT2 FMNIST Reparam\n",
      "epoch: 300, loss: 16.2663052559, time pass: 32s | CDVR MT2 FMNIST Reparam\n",
      "epoch: 400, loss: 12.7910233974, time pass: 43s | CDVR MT2 FMNIST Reparam\n",
      "epoch: 500, loss: 11.9082063437, time pass: 54s | CDVR MT2 FMNIST Reparam\n",
      "epoch: 600, loss: 11.1756089926, time pass: 65s | CDVR MT2 FMNIST Reparam\n",
      "epoch: 700, loss: 10.6961864710, time pass: 77s | CDVR MT2 FMNIST Reparam\n",
      "epoch: 800, loss: 9.9608262062, time pass: 88s | CDVR MT2 FMNIST Reparam\n",
      "epoch: 900, loss: 9.4837091446, time pass: 100s | CDVR MT2 FMNIST Reparam\n",
      "epoch: 1000, loss: 9.0507552862, time pass: 112s | CDVR MT2 FMNIST Reparam\n"
     ]
    }
   ],
   "source": [
    "loss_MT2_FMNIST_CDVR_reparam, _, _ = MT2_reparam.train_CDVR(w0, beta0, n_epochs, devices_train_list, \n",
    "                                           train_loader_list, lambda_global, lambda_penal, \n",
    "                                           repo_step, eta, prob1, rho, obj, data_name)"
   ]
  },
  {
   "cell_type": "code",
   "execution_count": 8,
   "metadata": {},
   "outputs": [
    {
     "name": "stdout",
     "output_type": "stream",
     "text": [
      "epoch: 1, loss: 23.8958375931, time pass: 0s | CDVR MT2 FMNIST Non-Reparam\n",
      "epoch: 100, loss: 17.3887384415, time pass: 12s | CDVR MT2 FMNIST Non-Reparam\n",
      "epoch: 200, loss: 15.9190539837, time pass: 24s | CDVR MT2 FMNIST Non-Reparam\n",
      "epoch: 300, loss: 14.6782605648, time pass: 36s | CDVR MT2 FMNIST Non-Reparam\n",
      "epoch: 400, loss: 16.1287324429, time pass: 49s | CDVR MT2 FMNIST Non-Reparam\n",
      "epoch: 500, loss: 12.9892871141, time pass: 60s | CDVR MT2 FMNIST Non-Reparam\n",
      "epoch: 600, loss: 12.4584339142, time pass: 73s | CDVR MT2 FMNIST Non-Reparam\n",
      "epoch: 700, loss: 13.6101206422, time pass: 86s | CDVR MT2 FMNIST Non-Reparam\n",
      "epoch: 800, loss: 10.6587817430, time pass: 100s | CDVR MT2 FMNIST Non-Reparam\n",
      "epoch: 900, loss: 13.3772634029, time pass: 113s | CDVR MT2 FMNIST Non-Reparam\n",
      "epoch: 1000, loss: 85.5073408127, time pass: 125s | CDVR MT2 FMNIST Non-Reparam\n"
     ]
    }
   ],
   "source": [
    "loss_MT2_FMNIST_CDVR_nonreparam, _, _ = MT2_nonreparam.train_CDVR(w0, beta0, n_epochs, devices_train_list, \n",
    "                                           train_loader_list, lambda_global, lambda_penal, \n",
    "                                           repo_step, eta, prob1, rho, obj, data_name)"
   ]
  },
  {
   "cell_type": "code",
   "execution_count": 9,
   "metadata": {},
   "outputs": [],
   "source": [
    "with open(\"./result/loss_MT2_FMNIST_CDVR_reparam.txt\", \"wb\") as f:   #Pickling\n",
    "    pickle.dump(loss_MT2_FMNIST_CDVR_reparam, f)\n",
    "    \n",
    "with open(\"./result/loss_MT2_FMNIST_CDVR_nonreparam.txt\", \"wb\") as f:   #Pickling\n",
    "    pickle.dump(loss_MT2_FMNIST_CDVR_nonreparam, f)"
   ]
  }
 ],
 "metadata": {
  "kernelspec": {
   "display_name": "Python 3",
   "language": "python",
   "name": "python3"
  },
  "language_info": {
   "codemirror_mode": {
    "name": "ipython",
    "version": 3
   },
   "file_extension": ".py",
   "mimetype": "text/x-python",
   "name": "python",
   "nbconvert_exporter": "python",
   "pygments_lexer": "ipython3",
   "version": "3.8.3"
  }
 },
 "nbformat": 4,
 "nbformat_minor": 4
}

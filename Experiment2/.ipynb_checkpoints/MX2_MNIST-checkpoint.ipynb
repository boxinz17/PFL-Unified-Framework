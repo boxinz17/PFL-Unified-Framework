{
 "cells": [
  {
   "cell_type": "code",
   "execution_count": 1,
   "metadata": {},
   "outputs": [
    {
     "data": {
      "text/plain": [
       "<torch._C.Generator at 0x2cc29d91f50>"
      ]
     },
     "execution_count": 1,
     "metadata": {},
     "output_type": "execute_result"
    }
   ],
   "source": [
    "# Load packages and set up default settings\n",
    "%matplotlib inline\n",
    "from matplotlib import pyplot as plt\n",
    "import numpy as np\n",
    "import torch\n",
    "import torch.nn as nn\n",
    "import datetime\n",
    "import pickle\n",
    "\n",
    "import data_load\n",
    "import MX2_reparam\n",
    "import MX2_nonreparam\n",
    "\n",
    "torch.set_printoptions(edgeitems=2, linewidth=75)\n",
    "torch.manual_seed(123)"
   ]
  },
  {
   "cell_type": "code",
   "execution_count": 2,
   "metadata": {},
   "outputs": [
    {
     "name": "stdout",
     "output_type": "stream",
     "text": [
      "Training on device cuda.\n"
     ]
    }
   ],
   "source": [
    "device = (torch.device('cuda') if torch.cuda.is_available()\n",
    "          else torch.device('cpu'))\n",
    "print(f\"Training on device {device}.\")"
   ]
  },
  {
   "cell_type": "code",
   "execution_count": 3,
   "metadata": {},
   "outputs": [],
   "source": [
    "# Initialize all parameters\n",
    "lambda_penal = 1\n",
    "\n",
    "M = 10\n",
    "n_samples = 100\n",
    "    \n",
    "obj = 'MX2'\n",
    "data_name = 'MNIST'\n",
    "\n",
    "L_prime = 1\n",
    "\n",
    "L_w = lambda_penal / M\n",
    "L_beta = 1 + lambda_penal\n",
    "\n",
    "prob1 = L_w / (L_w + L_beta)\n",
    "prob2 = 1 - prob1\n",
    "\n",
    "eta = 1e-1\n",
    "\n",
    "rho = 1e-2\n",
    "\n",
    "n_communs = 1000\n",
    "repo_step = 100\n",
    "sync_step = 5\n",
    "\n",
    "w0 = [torch.zeros(10, 784).to(device), torch.zeros(10).to(device)]\n",
    "\n",
    "beta0 = []\n",
    "for m in range(M):\n",
    "    beta0.append([torch.zeros(10, 784).to(device), torch.zeros(10).to(device)])\n",
    "    \n",
    "w_list0 = []\n",
    "for m in range(M):\n",
    "    w_list0.append([torch.zeros(10, 784).to(device), torch.zeros(10).to(device)])\n",
    "\n",
    "beta_list0 = []\n",
    "for m in range(M):\n",
    "    beta_list0.append([torch.zeros(10, 784).to(device), torch.zeros(10).to(device)])"
   ]
  },
  {
   "cell_type": "code",
   "execution_count": 4,
   "metadata": {},
   "outputs": [
    {
     "name": "stdout",
     "output_type": "stream",
     "text": [
      "L_w is: 0.1\n",
      "L_beta is 0.2\n",
      "prob1 is 0.3333333333333333\n",
      "prob2 is 0.6666666666666667\n",
      "rho is 0.01\n",
      "n_communs is 1000\n",
      "sync_step is 5\n"
     ]
    }
   ],
   "source": [
    "print(\"L_w is: {}\".format(L_w))\n",
    "print(\"L_beta is {}\".format(L_beta))\n",
    "print(\"prob1 is {}\".format(prob1))\n",
    "print(\"prob2 is {}\".format(prob2))\n",
    "print(\"rho is {}\".format(rho))\n",
    "print(\"n_communs is {}\".format(n_communs))\n",
    "print(\"sync_step is {}\".format(sync_step))"
   ]
  },
  {
   "cell_type": "code",
   "execution_count": 5,
   "metadata": {},
   "outputs": [],
   "source": [
    "train_loader_list, devices_train_list = data_load.data_prepare(data_name, n_devices=M, n_samples=n_samples)"
   ]
  },
  {
   "cell_type": "code",
   "execution_count": 7,
   "metadata": {},
   "outputs": [
    {
     "name": "stdout",
     "output_type": "stream",
     "text": [
      "num_commun: 1, loss: 2.2701641560, time pass: 0s | CDVR MX2 MNIST Reparam\n",
      "num_commun: 100, loss: 2.1076071501, time pass: 12s | CDVR MX2 MNIST Reparam\n",
      "num_commun: 200, loss: 1.8024586558, time pass: 25s | CDVR MX2 MNIST Reparam\n",
      "num_commun: 300, loss: 1.6528961778, time pass: 39s | CDVR MX2 MNIST Reparam\n",
      "num_commun: 400, loss: 1.5988324642, time pass: 53s | CDVR MX2 MNIST Reparam\n",
      "num_commun: 500, loss: 1.5040226996, time pass: 69s | CDVR MX2 MNIST Reparam\n",
      "num_commun: 600, loss: 1.4335117996, time pass: 83s | CDVR MX2 MNIST Reparam\n",
      "num_commun: 700, loss: 1.3774016917, time pass: 97s | CDVR MX2 MNIST Reparam\n",
      "num_commun: 800, loss: 1.3219374955, time pass: 111s | CDVR MX2 MNIST Reparam\n",
      "num_commun: 900, loss: 1.2696107268, time pass: 125s | CDVR MX2 MNIST Reparam\n",
      "num_commun: 1000, loss: 1.2295265019, time pass: 137s | CDVR MX2 MNIST Reparam\n"
     ]
    }
   ],
   "source": [
    "loss_MX2_MNIST_CDVR_reparam, _, _ = MX2_reparam.train_CDVR(w0, beta0, n_communs, devices_train_list, \n",
    "                                           train_loader_list, lambda_penal, repo_step, \n",
    "                                           eta, prob1, obj, data_name, rho)"
   ]
  },
  {
   "cell_type": "code",
   "execution_count": 8,
   "metadata": {},
   "outputs": [
    {
     "name": "stdout",
     "output_type": "stream",
     "text": [
      "num_commun: 1, loss: 2.2701641560, time pass: 0s | CDVR MX2 MNIST Non-Reparam\n",
      "num_commun: 100, loss: 2.0166788578, time pass: 11s | CDVR MX2 MNIST Non-Reparam\n",
      "num_commun: 200, loss: 1.6701883793, time pass: 23s | CDVR MX2 MNIST Non-Reparam\n",
      "num_commun: 300, loss: 1.4839164495, time pass: 36s | CDVR MX2 MNIST Non-Reparam\n",
      "num_commun: 400, loss: 1.3837574184, time pass: 47s | CDVR MX2 MNIST Non-Reparam\n",
      "num_commun: 500, loss: 1.2619914651, time pass: 61s | CDVR MX2 MNIST Non-Reparam\n",
      "num_commun: 600, loss: 1.1810432196, time pass: 76s | CDVR MX2 MNIST Non-Reparam\n",
      "num_commun: 700, loss: 1.1262504339, time pass: 88s | CDVR MX2 MNIST Non-Reparam\n",
      "num_commun: 800, loss: 1.0954921097, time pass: 100s | CDVR MX2 MNIST Non-Reparam\n",
      "num_commun: 900, loss: 1.3085432172, time pass: 113s | CDVR MX2 MNIST Non-Reparam\n",
      "num_commun: 1000, loss: 9.6514129162, time pass: 124s | CDVR MX2 MNIST Non-Reparam\n"
     ]
    }
   ],
   "source": [
    "loss_MX2_MNIST_CDVR_nonreparam, _, _ = MX2_nonreparam.train_CDVR(w0, beta0, n_communs, devices_train_list, \n",
    "                                           train_loader_list, lambda_penal, repo_step, \n",
    "                                           eta, prob1, obj, data_name, rho)"
   ]
  },
  {
   "cell_type": "code",
   "execution_count": 9,
   "metadata": {},
   "outputs": [],
   "source": [
    "with open(\"./result/loss_MX2_MNIST_CDVR_reparam.txt\", \"wb\") as f:   #Pickling\n",
    "    pickle.dump(loss_MX2_MNIST_CDVR_reparam, f)\n",
    "    \n",
    "with open(\"./result/loss_MX2_MNIST_CDVR_nonreparam.txt\", \"wb\") as f:   #Pickling\n",
    "    pickle.dump(loss_MX2_MNIST_CDVR_nonreparam, f)"
   ]
  }
 ],
 "metadata": {
  "kernelspec": {
   "display_name": "Python 3",
   "language": "python",
   "name": "python3"
  },
  "language_info": {
   "codemirror_mode": {
    "name": "ipython",
    "version": 3
   },
   "file_extension": ".py",
   "mimetype": "text/x-python",
   "name": "python",
   "nbconvert_exporter": "python",
   "pygments_lexer": "ipython3",
   "version": "3.8.3"
  }
 },
 "nbformat": 4,
 "nbformat_minor": 4
}

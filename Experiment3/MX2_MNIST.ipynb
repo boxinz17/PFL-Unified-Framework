{
 "cells": [
  {
   "cell_type": "code",
   "execution_count": 1,
   "metadata": {},
   "outputs": [
    {
     "data": {
      "text/plain": [
       "<torch._C.Generator at 0x187983f0f30>"
      ]
     },
     "execution_count": 1,
     "metadata": {},
     "output_type": "execute_result"
    }
   ],
   "source": [
    "# Load packages and set up default settings\n",
    "%matplotlib inline\n",
    "from matplotlib import pyplot as plt\n",
    "import numpy as np\n",
    "import torch\n",
    "import torch.nn as nn\n",
    "import datetime\n",
    "import pickle\n",
    "\n",
    "import data_load\n",
    "import MX2\n",
    "\n",
    "torch.set_printoptions(edgeitems=2, linewidth=75)\n",
    "torch.manual_seed(123)"
   ]
  },
  {
   "cell_type": "code",
   "execution_count": 2,
   "metadata": {},
   "outputs": [
    {
     "name": "stdout",
     "output_type": "stream",
     "text": [
      "Training on device cuda.\n"
     ]
    }
   ],
   "source": [
    "device = (torch.device('cuda') if torch.cuda.is_available()\n",
    "          else torch.device('cpu'))\n",
    "print(f\"Training on device {device}.\")"
   ]
  },
  {
   "cell_type": "code",
   "execution_count": 3,
   "metadata": {},
   "outputs": [],
   "source": [
    "# Initialize all parameters\n",
    "lambda_penal = 1\n",
    "\n",
    "M = 10\n",
    "n_samples = 100\n",
    "    \n",
    "obj = 'MX2'\n",
    "data_name = 'MNIST'\n",
    "\n",
    "L_w = lambda_penal / M\n",
    "L_beta = 1 + lambda_penal\n",
    "\n",
    "rho = 1e-2\n",
    "\n",
    "n_communs = 1000\n",
    "n_epochs = 1000\n",
    "repo_step = 100\n",
    "sync_step = 5\n",
    "\n",
    "w0 = [torch.zeros(10, 784).to(device), torch.zeros(10).to(device)]\n",
    "\n",
    "beta0 = []\n",
    "for m in range(M):\n",
    "    beta0.append([torch.zeros(10, 784).to(device), torch.zeros(10).to(device)])\n",
    "    \n",
    "w_list0 = []\n",
    "for m in range(M):\n",
    "    w_list0.append([torch.zeros(10, 784).to(device), torch.zeros(10).to(device)])\n",
    "\n",
    "beta_list0 = []\n",
    "for m in range(M):\n",
    "    beta_list0.append([torch.zeros(10, 784).to(device), torch.zeros(10).to(device)])"
   ]
  },
  {
   "cell_type": "code",
   "execution_count": 4,
   "metadata": {},
   "outputs": [
    {
     "name": "stdout",
     "output_type": "stream",
     "text": [
      "L_w is: 0.1\n",
      "L_beta is 2\n",
      "rho is 0.01\n",
      "n_communs is 1000\n",
      "n_epochs is 1000\n",
      "sync_step is 5\n"
     ]
    }
   ],
   "source": [
    "print(\"L_w is: {}\".format(L_w))\n",
    "print(\"L_beta is {}\".format(L_beta))\n",
    "print(\"rho is {}\".format(rho))\n",
    "print(\"n_communs is {}\".format(n_communs))\n",
    "print(\"n_epochs is {}\".format(n_epochs))\n",
    "print(\"sync_step is {}\".format(sync_step))"
   ]
  },
  {
   "cell_type": "code",
   "execution_count": 5,
   "metadata": {},
   "outputs": [],
   "source": [
    "train_loader_list, devices_train_list = data_load.data_prepare(data_name, n_devices=M, n_samples=n_samples)"
   ]
  },
  {
   "cell_type": "code",
   "execution_count": 6,
   "metadata": {},
   "outputs": [
    {
     "name": "stdout",
     "output_type": "stream",
     "text": [
      "Max sample size: 100\n",
      "Min sample size: 100\n",
      "Mean sample size: 100\n"
     ]
    }
   ],
   "source": [
    "n_sizes = []\n",
    "for device_train in devices_train_list:\n",
    "    n_sizes.append(len(device_train))\n",
    "print(\"Max sample size: {}\".format(max(n_sizes)))\n",
    "print(\"Min sample size: {}\".format(min(n_sizes)))\n",
    "print(\"Mean sample size: {}\".format(int(np.mean(n_sizes))))"
   ]
  },
  {
   "cell_type": "code",
   "execution_count": 7,
   "metadata": {},
   "outputs": [
    {
     "name": "stdout",
     "output_type": "stream",
     "text": [
      "prob1 is 0.04762\n",
      "eta is 0.05952\n",
      "epoch: 1, loss: 2.2986262321, time pass: 0s | CDVR MX2 MNIST\n",
      "epoch: 100, loss: 2.0801148057, time pass: 8s | CDVR MX2 MNIST\n",
      "epoch: 200, loss: 2.0020480990, time pass: 17s | CDVR MX2 MNIST\n",
      "epoch: 300, loss: 1.9988469481, time pass: 28s | CDVR MX2 MNIST\n",
      "epoch: 400, loss: 1.9850868583, time pass: 40s | CDVR MX2 MNIST\n",
      "epoch: 500, loss: 1.9723028183, time pass: 52s | CDVR MX2 MNIST\n",
      "epoch: 600, loss: 1.9636449635, time pass: 63s | CDVR MX2 MNIST\n",
      "epoch: 700, loss: 1.9565222144, time pass: 75s | CDVR MX2 MNIST\n",
      "epoch: 800, loss: 1.9484544396, time pass: 87s | CDVR MX2 MNIST\n",
      "epoch: 900, loss: 1.9404346228, time pass: 99s | CDVR MX2 MNIST\n",
      "epoch: 1000, loss: 1.9313554287, time pass: 111s | CDVR MX2 MNIST\n",
      "num_commun: 1, loss: 2.2986262321, time pass: 0s | CDVR MX2 MNIST\n",
      "num_commun: 100, loss: 1.8614854813, time pass: 143s | CDVR MX2 MNIST\n",
      "num_commun: 200, loss: 1.7643390954, time pass: 289s | CDVR MX2 MNIST\n",
      "num_commun: 300, loss: 1.6959381938, time pass: 419s | CDVR MX2 MNIST\n",
      "num_commun: 400, loss: 1.6195736110, time pass: 581s | CDVR MX2 MNIST\n",
      "num_commun: 500, loss: 1.5573710203, time pass: 726s | CDVR MX2 MNIST\n",
      "num_commun: 600, loss: 1.4947457969, time pass: 884s | CDVR MX2 MNIST\n",
      "num_commun: 700, loss: 1.4344815969, time pass: 1051s | CDVR MX2 MNIST\n",
      "num_commun: 800, loss: 1.3840539515, time pass: 1201s | CDVR MX2 MNIST\n",
      "num_commun: 900, loss: 1.3422646493, time pass: 1335s | CDVR MX2 MNIST\n",
      "num_commun: 1000, loss: 1.2987888664, time pass: 1494s | CDVR MX2 MNIST\n",
      "prob1 is 0.70000\n",
      "eta is 0.01875\n",
      "epoch: 1, loss: 2.3013351202, time pass: 0s | CDVR MX2 MNIST\n",
      "epoch: 100, loss: 2.2008459330, time pass: 12s | CDVR MX2 MNIST\n",
      "epoch: 200, loss: 2.1236709833, time pass: 24s | CDVR MX2 MNIST\n",
      "epoch: 300, loss: 2.0764440477, time pass: 36s | CDVR MX2 MNIST\n",
      "epoch: 400, loss: 2.0492314756, time pass: 49s | CDVR MX2 MNIST\n",
      "epoch: 500, loss: 2.0307253659, time pass: 61s | CDVR MX2 MNIST\n",
      "epoch: 600, loss: 2.0174612999, time pass: 73s | CDVR MX2 MNIST\n",
      "epoch: 700, loss: 2.0072837412, time pass: 85s | CDVR MX2 MNIST\n",
      "epoch: 800, loss: 2.0006641865, time pass: 97s | CDVR MX2 MNIST\n",
      "epoch: 900, loss: 1.9959097803, time pass: 110s | CDVR MX2 MNIST\n",
      "epoch: 1000, loss: 1.9923826933, time pass: 123s | CDVR MX2 MNIST\n",
      "num_commun: 1, loss: 2.3013351202, time pass: 0s | CDVR MX2 MNIST\n",
      "num_commun: 100, loss: 2.1669991612, time pass: 21s | CDVR MX2 MNIST\n",
      "num_commun: 200, loss: 2.0838275671, time pass: 37s | CDVR MX2 MNIST\n",
      "num_commun: 300, loss: 2.0447546422, time pass: 53s | CDVR MX2 MNIST\n",
      "num_commun: 400, loss: 2.0220496297, time pass: 70s | CDVR MX2 MNIST\n",
      "num_commun: 500, loss: 2.0075795650, time pass: 84s | CDVR MX2 MNIST\n",
      "num_commun: 600, loss: 1.9987286091, time pass: 99s | CDVR MX2 MNIST\n",
      "num_commun: 700, loss: 1.9928286552, time pass: 115s | CDVR MX2 MNIST\n",
      "num_commun: 800, loss: 1.9881484985, time pass: 131s | CDVR MX2 MNIST\n",
      "num_commun: 900, loss: 1.9836709917, time pass: 146s | CDVR MX2 MNIST\n",
      "num_commun: 1000, loss: 1.9796017766, time pass: 161s | CDVR MX2 MNIST\n",
      "prob1 is 0.50000\n",
      "eta is 0.03125\n",
      "epoch: 1, loss: 2.3005034328, time pass: 0s | CDVR MX2 MNIST\n",
      "epoch: 100, loss: 2.1519812346, time pass: 12s | CDVR MX2 MNIST\n",
      "epoch: 200, loss: 2.0590983748, time pass: 24s | CDVR MX2 MNIST\n",
      "epoch: 300, loss: 2.0217895985, time pass: 36s | CDVR MX2 MNIST\n",
      "epoch: 400, loss: 2.0076048970, time pass: 49s | CDVR MX2 MNIST\n",
      "epoch: 500, loss: 1.9992821515, time pass: 61s | CDVR MX2 MNIST\n",
      "epoch: 600, loss: 1.9926349461, time pass: 73s | CDVR MX2 MNIST\n",
      "epoch: 700, loss: 1.9870764434, time pass: 86s | CDVR MX2 MNIST\n",
      "epoch: 800, loss: 1.9821294129, time pass: 98s | CDVR MX2 MNIST\n",
      "epoch: 900, loss: 1.9773790658, time pass: 110s | CDVR MX2 MNIST\n",
      "epoch: 1000, loss: 1.9725251913, time pass: 122s | CDVR MX2 MNIST\n",
      "num_commun: 1, loss: 2.3005034328, time pass: 0s | CDVR MX2 MNIST\n",
      "num_commun: 100, loss: 2.0662389755, time pass: 18s | CDVR MX2 MNIST\n",
      "num_commun: 200, loss: 2.0097554982, time pass: 37s | CDVR MX2 MNIST\n",
      "num_commun: 300, loss: 1.9942307115, time pass: 56s | CDVR MX2 MNIST\n",
      "num_commun: 400, loss: 1.9843282342, time pass: 73s | CDVR MX2 MNIST\n",
      "num_commun: 500, loss: 1.9737255931, time pass: 94s | CDVR MX2 MNIST\n",
      "num_commun: 600, loss: 1.9631133735, time pass: 114s | CDVR MX2 MNIST\n",
      "num_commun: 700, loss: 1.9547031760, time pass: 133s | CDVR MX2 MNIST\n",
      "num_commun: 800, loss: 1.9453079104, time pass: 154s | CDVR MX2 MNIST\n",
      "num_commun: 900, loss: 1.9373420417, time pass: 172s | CDVR MX2 MNIST\n",
      "num_commun: 1000, loss: 1.9294830978, time pass: 191s | CDVR MX2 MNIST\n",
      "prob1 is 0.30000\n",
      "eta is 0.04375\n",
      "epoch: 1, loss: 2.2996727705, time pass: 0s | CDVR MX2 MNIST\n",
      "epoch: 100, loss: 2.1153488278, time pass: 12s | CDVR MX2 MNIST\n",
      "epoch: 200, loss: 2.0239352703, time pass: 24s | CDVR MX2 MNIST\n",
      "epoch: 300, loss: 2.0025702417, time pass: 36s | CDVR MX2 MNIST\n",
      "epoch: 400, loss: 1.9945276439, time pass: 48s | CDVR MX2 MNIST\n",
      "epoch: 500, loss: 1.9870598257, time pass: 60s | CDVR MX2 MNIST\n",
      "epoch: 600, loss: 1.9801496983, time pass: 73s | CDVR MX2 MNIST\n",
      "epoch: 700, loss: 1.9734508812, time pass: 85s | CDVR MX2 MNIST\n",
      "epoch: 800, loss: 1.9667458057, time pass: 97s | CDVR MX2 MNIST\n",
      "epoch: 900, loss: 1.9602262199, time pass: 110s | CDVR MX2 MNIST\n",
      "epoch: 1000, loss: 1.9538587630, time pass: 122s | CDVR MX2 MNIST\n",
      "num_commun: 1, loss: 2.2996727705, time pass: 0s | CDVR MX2 MNIST\n",
      "num_commun: 100, loss: 2.0030155063, time pass: 25s | CDVR MX2 MNIST\n",
      "num_commun: 200, loss: 1.9792191446, time pass: 52s | CDVR MX2 MNIST\n",
      "num_commun: 300, loss: 1.9570156932, time pass: 80s | CDVR MX2 MNIST\n",
      "num_commun: 400, loss: 1.9355948269, time pass: 111s | CDVR MX2 MNIST\n",
      "num_commun: 500, loss: 1.9169992805, time pass: 140s | CDVR MX2 MNIST\n",
      "num_commun: 600, loss: 1.9004333198, time pass: 169s | CDVR MX2 MNIST\n",
      "num_commun: 700, loss: 1.8860204458, time pass: 195s | CDVR MX2 MNIST\n",
      "num_commun: 800, loss: 1.8710360825, time pass: 224s | CDVR MX2 MNIST\n",
      "num_commun: 900, loss: 1.8584781587, time pass: 250s | CDVR MX2 MNIST\n",
      "num_commun: 1000, loss: 1.8452646434, time pass: 279s | CDVR MX2 MNIST\n",
      "prob1 is 0.10000\n",
      "eta is 0.05625\n",
      "epoch: 1, loss: 2.2988433361, time pass: 0s | CDVR MX2 MNIST\n",
      "epoch: 100, loss: 2.0877767861, time pass: 12s | CDVR MX2 MNIST\n",
      "epoch: 200, loss: 2.0057993829, time pass: 24s | CDVR MX2 MNIST\n",
      "epoch: 300, loss: 1.9997471929, time pass: 36s | CDVR MX2 MNIST\n",
      "epoch: 400, loss: 1.9877852023, time pass: 48s | CDVR MX2 MNIST\n",
      "epoch: 500, loss: 1.9761227787, time pass: 61s | CDVR MX2 MNIST\n",
      "epoch: 600, loss: 1.9674415886, time pass: 73s | CDVR MX2 MNIST\n",
      "epoch: 700, loss: 1.9601125002, time pass: 85s | CDVR MX2 MNIST\n",
      "epoch: 800, loss: 1.9520232439, time pass: 97s | CDVR MX2 MNIST\n",
      "epoch: 900, loss: 1.9443628848, time pass: 109s | CDVR MX2 MNIST\n",
      "epoch: 1000, loss: 1.9359950244, time pass: 121s | CDVR MX2 MNIST\n",
      "num_commun: 1, loss: 2.2988433361, time pass: 0s | CDVR MX2 MNIST\n",
      "num_commun: 100, loss: 1.9288363695, time pass: 79s | CDVR MX2 MNIST\n",
      "num_commun: 200, loss: 1.8636665821, time pass: 159s | CDVR MX2 MNIST\n",
      "num_commun: 300, loss: 1.8224263787, time pass: 223s | CDVR MX2 MNIST\n",
      "num_commun: 400, loss: 1.7781291783, time pass: 301s | CDVR MX2 MNIST\n",
      "num_commun: 500, loss: 1.7444673300, time pass: 369s | CDVR MX2 MNIST\n",
      "num_commun: 600, loss: 1.7097919822, time pass: 442s | CDVR MX2 MNIST\n",
      "num_commun: 700, loss: 1.6772111893, time pass: 515s | CDVR MX2 MNIST\n",
      "num_commun: 800, loss: 1.6436231732, time pass: 593s | CDVR MX2 MNIST\n",
      "num_commun: 900, loss: 1.6125035226, time pass: 673s | CDVR MX2 MNIST\n",
      "num_commun: 1000, loss: 1.5857361495, time pass: 742s | CDVR MX2 MNIST\n"
     ]
    }
   ],
   "source": [
    "prob1_list = [L_w / (L_w + L_beta), 0.7, 0.5, 0.3, 0.1]\n",
    "MX2_MNIST_CDVR_iter_result = []\n",
    "MX2_MNIST_CDVR_commun_result = []\n",
    "\n",
    "for prob1 in prob1_list:\n",
    "    print(\"prob1 is {:.5f}\".format(prob1))\n",
    "    \n",
    "    eta = 1 / (8 * max(L_w/prob1, L_beta/(1-prob1)))\n",
    "    \n",
    "    print(\"eta is {:.5f}\".format(eta))\n",
    "    \n",
    "    loss_MX2_MNIST_CDVR_iter, _, _ = MX2.train_CDVR_iter(w0, beta0, n_communs, devices_train_list, \n",
    "                                                         train_loader_list, lambda_penal, repo_step, \n",
    "                                                         eta, prob1, obj, data_name, rho)\n",
    "    MX2_MNIST_CDVR_iter_result.append(loss_MX2_MNIST_CDVR_iter)\n",
    "    loss_MX2_MNIST_CDVR_commun, _, _ = MX2.train_CDVR_commun(w0, beta0, n_epochs, devices_train_list, \n",
    "                                                             train_loader_list, lambda_penal, repo_step, \n",
    "                                                             eta, prob1, obj, data_name, rho)\n",
    "    MX2_MNIST_CDVR_commun_result.append(loss_MX2_MNIST_CDVR_commun)"
   ]
  },
  {
   "cell_type": "code",
   "execution_count": 11,
   "metadata": {},
   "outputs": [],
   "source": [
    "with open(\"./result/MX2_MNIST_CDVR_iter_result.txt\", \"wb\") as f:   #Pickling\n",
    "    pickle.dump(MX2_MNIST_CDVR_iter_result, f)\n",
    "    \n",
    "with open(\"./result/MX2_MNIST_CDVR_commun_result.txt\", \"wb\") as f:   #Pickling\n",
    "    pickle.dump(MX2_MNIST_CDVR_commun_result, f)"
   ]
  }
 ],
 "metadata": {
  "kernelspec": {
   "display_name": "Python 3",
   "language": "python",
   "name": "python3"
  },
  "language_info": {
   "codemirror_mode": {
    "name": "ipython",
    "version": 3
   },
   "file_extension": ".py",
   "mimetype": "text/x-python",
   "name": "python",
   "nbconvert_exporter": "python",
   "pygments_lexer": "ipython3",
   "version": "3.8.3"
  }
 },
 "nbformat": 4,
 "nbformat_minor": 4
}

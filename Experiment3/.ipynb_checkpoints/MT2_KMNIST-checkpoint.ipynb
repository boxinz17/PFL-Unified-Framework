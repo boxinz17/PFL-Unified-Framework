{
 "cells": [
  {
   "cell_type": "code",
   "execution_count": 1,
   "metadata": {},
   "outputs": [
    {
     "data": {
      "text/plain": [
       "<torch._C.Generator at 0x1ff24eb2f30>"
      ]
     },
     "execution_count": 1,
     "metadata": {},
     "output_type": "execute_result"
    }
   ],
   "source": [
    "# Load packages and set up default settings\n",
    "%matplotlib inline\n",
    "from matplotlib import pyplot as plt\n",
    "import numpy as np\n",
    "import torch\n",
    "import torch.nn as nn\n",
    "import datetime\n",
    "import pickle\n",
    "\n",
    "import data_load\n",
    "import MT2\n",
    "\n",
    "torch.set_printoptions(edgeitems=2, linewidth=75)\n",
    "torch.manual_seed(123)"
   ]
  },
  {
   "cell_type": "code",
   "execution_count": 2,
   "metadata": {},
   "outputs": [
    {
     "name": "stdout",
     "output_type": "stream",
     "text": [
      "Training on device cuda.\n"
     ]
    }
   ],
   "source": [
    "device = (torch.device('cuda') if torch.cuda.is_available()\n",
    "          else torch.device('cpu'))\n",
    "print(f\"Training on device {device}.\")"
   ]
  },
  {
   "cell_type": "code",
   "execution_count": 3,
   "metadata": {},
   "outputs": [],
   "source": [
    "# Initialize all parameters\n",
    "lambda_global = 10\n",
    "lambda_penal = 1\n",
    "\n",
    "M = 10\n",
    "n_samples = 100\n",
    "\n",
    "obj = 'MT2'\n",
    "data_name = 'KMNIST'\n",
    "\n",
    "L_w = (lambda_global + lambda_penal) / M\n",
    "L_beta = (1 + lambda_penal)\n",
    "\n",
    "rho = 1e-2\n",
    "\n",
    "n_communs = 1000\n",
    "repo_step = 100\n",
    "sync_step = 5\n",
    "\n",
    "w0 = [torch.zeros(10, 784).to(device), torch.zeros(10).to(device)]\n",
    "\n",
    "beta0 = []\n",
    "for m in range(M):\n",
    "    beta0.append([torch.zeros(10, 784).to(device), torch.zeros(10).to(device)])\n",
    "    \n",
    "w_list0 = []\n",
    "for m in range(M):\n",
    "    w_list0.append([torch.zeros(10, 784).to(device), torch.zeros(10).to(device)])\n",
    "\n",
    "beta_list0 = []\n",
    "for m in range(M):\n",
    "    beta_list0.append([torch.zeros(10, 784).to(device), torch.zeros(10).to(device)])"
   ]
  },
  {
   "cell_type": "code",
   "execution_count": 4,
   "metadata": {},
   "outputs": [
    {
     "name": "stdout",
     "output_type": "stream",
     "text": [
      "L_w is: 1.1\n",
      "L_beta is 2\n",
      "prob1 is 0.3548387096774194\n",
      "prob2 is 0.6451612903225806\n",
      "eta is 0.1\n",
      "rho is 0.01\n",
      "n_communs is 1000\n",
      "sync_step is 5\n"
     ]
    }
   ],
   "source": [
    "print(\"L_w is: {}\".format(L_w))\n",
    "print(\"L_beta is {}\".format(L_beta))\n",
    "print(\"rho is {}\".format(rho))\n",
    "print(\"n_communs is {}\".format(n_communs))\n",
    "print(\"sync_step is {}\".format(sync_step))"
   ]
  },
  {
   "cell_type": "code",
   "execution_count": 5,
   "metadata": {},
   "outputs": [],
   "source": [
    "train_loader_list, devices_train_list = data_load.data_prepare(data_name, n_devices=M, n_samples=n_samples)"
   ]
  },
  {
   "cell_type": "code",
   "execution_count": 7,
   "metadata": {},
   "outputs": [
    {
     "name": "stdout",
     "output_type": "stream",
     "text": [
      "prob1 is 0.35484\n",
      "eta is 0.04032\n",
      "epoch: 1, loss: 25.3113583565, time pass: 0s | CDVR MT2 KMNIST\n",
      "epoch: 100, loss: 24.2383908272, time pass: 14s | CDVR MT2 KMNIST\n",
      "epoch: 200, loss: 23.6002992630, time pass: 28s | CDVR MT2 KMNIST\n",
      "epoch: 300, loss: 23.1946971893, time pass: 42s | CDVR MT2 KMNIST\n",
      "epoch: 400, loss: 22.7914344788, time pass: 60s | CDVR MT2 KMNIST\n",
      "epoch: 500, loss: 22.4591097832, time pass: 79s | CDVR MT2 KMNIST\n",
      "epoch: 600, loss: 22.1677553177, time pass: 97s | CDVR MT2 KMNIST\n",
      "epoch: 700, loss: 21.8921775818, time pass: 117s | CDVR MT2 KMNIST\n",
      "epoch: 800, loss: 21.6207988739, time pass: 136s | CDVR MT2 KMNIST\n",
      "epoch: 900, loss: 21.3668675423, time pass: 156s | CDVR MT2 KMNIST\n",
      "epoch: 1000, loss: 21.1212728500, time pass: 175s | CDVR MT2 KMNIST\n",
      "num_commun: 1, loss: 25.3113583565, time pass: 0s | CDVR MT2 KMNIST\n",
      "num_commun: 100, loss: 23.3517419815, time pass: 36s | CDVR MT2 KMNIST\n",
      "num_commun: 200, loss: 22.3792099953, time pass: 72s | CDVR MT2 KMNIST\n",
      "num_commun: 300, loss: 21.6364221573, time pass: 107s | CDVR MT2 KMNIST\n",
      "num_commun: 400, loss: 20.9671288490, time pass: 143s | CDVR MT2 KMNIST\n",
      "num_commun: 500, loss: 20.3065859318, time pass: 183s | CDVR MT2 KMNIST\n",
      "num_commun: 600, loss: 19.7159400463, time pass: 222s | CDVR MT2 KMNIST\n",
      "num_commun: 700, loss: 19.1910583019, time pass: 259s | CDVR MT2 KMNIST\n",
      "num_commun: 800, loss: 18.7018439770, time pass: 296s | CDVR MT2 KMNIST\n",
      "num_commun: 900, loss: 18.1837346554, time pass: 338s | CDVR MT2 KMNIST\n",
      "num_commun: 1000, loss: 17.7925263882, time pass: 372s | CDVR MT2 KMNIST\n",
      "prob1 is 0.70000\n",
      "eta is 0.01875\n",
      "epoch: 1, loss: 25.3204820633, time pass: 0s | CDVR MT2 KMNIST\n",
      "epoch: 100, loss: 24.7028534889, time pass: 18s | CDVR MT2 KMNIST\n",
      "epoch: 200, loss: 24.2335550308, time pass: 37s | CDVR MT2 KMNIST\n",
      "epoch: 300, loss: 23.9218269348, time pass: 56s | CDVR MT2 KMNIST\n",
      "epoch: 400, loss: 23.6748977661, time pass: 75s | CDVR MT2 KMNIST\n",
      "epoch: 500, loss: 23.4552145004, time pass: 94s | CDVR MT2 KMNIST\n",
      "epoch: 600, loss: 23.2522493362, time pass: 113s | CDVR MT2 KMNIST\n",
      "epoch: 700, loss: 23.0617112160, time pass: 131s | CDVR MT2 KMNIST\n",
      "epoch: 800, loss: 22.8860781670, time pass: 149s | CDVR MT2 KMNIST\n",
      "epoch: 900, loss: 22.7216915131, time pass: 168s | CDVR MT2 KMNIST\n",
      "epoch: 1000, loss: 22.5702988625, time pass: 186s | CDVR MT2 KMNIST\n",
      "num_commun: 1, loss: 25.3204820633, time pass: 0s | CDVR MT2 KMNIST\n",
      "num_commun: 100, loss: 24.4850393295, time pass: 22s | CDVR MT2 KMNIST\n",
      "num_commun: 200, loss: 23.9866797447, time pass: 44s | CDVR MT2 KMNIST\n",
      "num_commun: 300, loss: 23.6268581390, time pass: 68s | CDVR MT2 KMNIST\n",
      "num_commun: 400, loss: 23.3230504990, time pass: 92s | CDVR MT2 KMNIST\n",
      "num_commun: 500, loss: 23.0672636986, time pass: 117s | CDVR MT2 KMNIST\n",
      "num_commun: 600, loss: 22.8239961624, time pass: 143s | CDVR MT2 KMNIST\n",
      "num_commun: 700, loss: 22.5904480934, time pass: 170s | CDVR MT2 KMNIST\n",
      "num_commun: 800, loss: 22.3794696808, time pass: 195s | CDVR MT2 KMNIST\n",
      "num_commun: 900, loss: 22.1816037178, time pass: 219s | CDVR MT2 KMNIST\n",
      "num_commun: 1000, loss: 22.0056095123, time pass: 243s | CDVR MT2 KMNIST\n",
      "prob1 is 0.50000\n",
      "eta is 0.03125\n",
      "epoch: 1, loss: 25.3151922226, time pass: 0s | CDVR MT2 KMNIST\n",
      "epoch: 100, loss: 24.4171341896, time pass: 19s | CDVR MT2 KMNIST\n",
      "epoch: 200, loss: 23.8282526970, time pass: 38s | CDVR MT2 KMNIST\n",
      "epoch: 300, loss: 23.4583254814, time pass: 56s | CDVR MT2 KMNIST\n",
      "epoch: 400, loss: 23.1259613037, time pass: 75s | CDVR MT2 KMNIST\n",
      "epoch: 500, loss: 22.8356012344, time pass: 94s | CDVR MT2 KMNIST\n",
      "epoch: 600, loss: 22.5770637512, time pass: 112s | CDVR MT2 KMNIST\n",
      "epoch: 700, loss: 22.3315627098, time pass: 129s | CDVR MT2 KMNIST\n",
      "epoch: 800, loss: 22.1020669937, time pass: 143s | CDVR MT2 KMNIST\n",
      "epoch: 900, loss: 21.8853609085, time pass: 157s | CDVR MT2 KMNIST\n",
      "epoch: 1000, loss: 21.6792921066, time pass: 171s | CDVR MT2 KMNIST\n",
      "num_commun: 1, loss: 25.3151922226, time pass: 0s | CDVR MT2 KMNIST\n",
      "num_commun: 100, loss: 23.8837419510, time pass: 20s | CDVR MT2 KMNIST\n",
      "num_commun: 200, loss: 23.1965394020, time pass: 41s | CDVR MT2 KMNIST\n",
      "num_commun: 300, loss: 22.6404665947, time pass: 64s | CDVR MT2 KMNIST\n",
      "num_commun: 400, loss: 22.2042073250, time pass: 85s | CDVR MT2 KMNIST\n",
      "num_commun: 500, loss: 21.7274922371, time pass: 110s | CDVR MT2 KMNIST\n",
      "num_commun: 600, loss: 21.3033807755, time pass: 133s | CDVR MT2 KMNIST\n",
      "num_commun: 700, loss: 20.9665015221, time pass: 156s | CDVR MT2 KMNIST\n",
      "num_commun: 800, loss: 20.5921537399, time pass: 183s | CDVR MT2 KMNIST\n",
      "num_commun: 900, loss: 20.2763282776, time pass: 207s | CDVR MT2 KMNIST\n",
      "num_commun: 1000, loss: 19.9657441139, time pass: 228s | CDVR MT2 KMNIST\n",
      "prob1 is 0.30000\n",
      "eta is 0.03409\n",
      "epoch: 1, loss: 25.3139920235, time pass: 0s | CDVR MT2 KMNIST\n",
      "epoch: 100, loss: 24.3662591934, time pass: 14s | CDVR MT2 KMNIST\n",
      "epoch: 200, loss: 23.7515956879, time pass: 29s | CDVR MT2 KMNIST\n",
      "epoch: 300, loss: 23.3731764793, time pass: 45s | CDVR MT2 KMNIST\n",
      "epoch: 400, loss: 23.0219017029, time pass: 63s | CDVR MT2 KMNIST\n",
      "epoch: 500, loss: 22.7171706200, time pass: 79s | CDVR MT2 KMNIST\n",
      "epoch: 600, loss: 22.4432071686, time pass: 94s | CDVR MT2 KMNIST\n",
      "epoch: 700, loss: 22.1899215698, time pass: 109s | CDVR MT2 KMNIST\n",
      "epoch: 800, loss: 21.9492168427, time pass: 122s | CDVR MT2 KMNIST\n",
      "epoch: 900, loss: 21.7209716797, time pass: 135s | CDVR MT2 KMNIST\n",
      "epoch: 1000, loss: 21.5029171944, time pass: 150s | CDVR MT2 KMNIST\n",
      "num_commun: 1, loss: 25.3139920235, time pass: 0s | CDVR MT2 KMNIST\n",
      "num_commun: 100, loss: 23.3908338547, time pass: 28s | CDVR MT2 KMNIST\n",
      "num_commun: 200, loss: 22.4059898376, time pass: 58s | CDVR MT2 KMNIST\n",
      "num_commun: 300, loss: 21.6112839699, time pass: 89s | CDVR MT2 KMNIST\n",
      "num_commun: 400, loss: 20.8850429535, time pass: 123s | CDVR MT2 KMNIST\n",
      "num_commun: 500, loss: 20.2573402882, time pass: 156s | CDVR MT2 KMNIST\n",
      "num_commun: 600, loss: 19.6955583096, time pass: 187s | CDVR MT2 KMNIST\n",
      "num_commun: 700, loss: 19.2057164669, time pass: 216s | CDVR MT2 KMNIST\n",
      "num_commun: 800, loss: 18.6964384556, time pass: 251s | CDVR MT2 KMNIST\n",
      "num_commun: 900, loss: 18.2717032433, time pass: 281s | CDVR MT2 KMNIST\n",
      "num_commun: 1000, loss: 17.8285480976, time pass: 315s | CDVR MT2 KMNIST\n",
      "prob1 is 0.10000\n",
      "eta is 0.01136\n",
      "epoch: 1, loss: 25.3236124992, time pass: 0s | CDVR MT2 KMNIST\n",
      "epoch: 100, loss: 24.9190267563, time pass: 13s | CDVR MT2 KMNIST\n",
      "epoch: 200, loss: 24.5824405670, time pass: 27s | CDVR MT2 KMNIST\n",
      "epoch: 300, loss: 24.3344685555, time pass: 40s | CDVR MT2 KMNIST\n",
      "epoch: 400, loss: 24.1332510948, time pass: 54s | CDVR MT2 KMNIST\n",
      "epoch: 500, loss: 23.9540561676, time pass: 67s | CDVR MT2 KMNIST\n",
      "epoch: 600, loss: 23.7885054588, time pass: 81s | CDVR MT2 KMNIST\n",
      "epoch: 700, loss: 23.6354063988, time pass: 94s | CDVR MT2 KMNIST\n",
      "epoch: 800, loss: 23.4950571060, time pass: 107s | CDVR MT2 KMNIST\n",
      "epoch: 900, loss: 23.3644428253, time pass: 121s | CDVR MT2 KMNIST\n",
      "epoch: 1000, loss: 23.2457986832, time pass: 135s | CDVR MT2 KMNIST\n",
      "num_commun: 1, loss: 25.3236124992, time pass: 0s | CDVR MT2 KMNIST\n",
      "num_commun: 100, loss: 23.1428113937, time pass: 88s | CDVR MT2 KMNIST\n",
      "num_commun: 200, loss: 22.1422979355, time pass: 176s | CDVR MT2 KMNIST\n",
      "num_commun: 300, loss: 21.5003502846, time pass: 246s | CDVR MT2 KMNIST\n",
      "num_commun: 400, loss: 20.7946884155, time pass: 333s | CDVR MT2 KMNIST\n",
      "num_commun: 500, loss: 20.2531532764, time pass: 408s | CDVR MT2 KMNIST\n",
      "num_commun: 600, loss: 19.6974245071, time pass: 489s | CDVR MT2 KMNIST\n",
      "num_commun: 700, loss: 19.1819425583, time pass: 570s | CDVR MT2 KMNIST\n",
      "num_commun: 800, loss: 18.6604884148, time pass: 657s | CDVR MT2 KMNIST\n",
      "num_commun: 900, loss: 18.1883072376, time pass: 743s | CDVR MT2 KMNIST\n",
      "num_commun: 1000, loss: 17.7908758640, time pass: 819s | CDVR MT2 KMNIST\n"
     ]
    }
   ],
   "source": [
    "prob1_list = [L_w / (L_w + L_beta), 0.7, 0.5, 0.3, 0.1]\n",
    "MT2_KMNIST_CDVR_iter_result = []\n",
    "MT2_KMNIST_CDVR_commun_result = []\n",
    "\n",
    "for prob1 in prob1_list:\n",
    "    print(\"prob1 is {:.5f}\".format(prob1))\n",
    "    \n",
    "    eta = 1 / (8 * max(L_w/prob1, L_beta/(1-prob1)))\n",
    "    \n",
    "    print(\"eta is {:.5f}\".format(eta))\n",
    "    \n",
    "    loss_MT2_KMNIST_CDVR_iter, _, _ = MT2.train_CDVR_iter(w0, beta0, n_epochs, devices_train_list, \n",
    "                                                         train_loader_list, lambda_global, lambda_penal, \n",
    "                                                         repo_step, eta, prob1, rho, obj, data_name)\n",
    "    MT2_KMNIST_CDVR_iter_result.append(loss_MT2_KMNIST_CDVR_iter)\n",
    "    loss_MT2_KMNIST_CDVR_commun, _, _ = MT2.train_CDVR_commun(w0, beta0, n_communs, devices_train_list, \n",
    "                                                             train_loader_list, lambda_global, lambda_penal, \n",
    "                                                             repo_step, eta, prob1, rho, obj, data_name)\n",
    "    MT2_KMNIST_CDVR_commun_result.append(loss_MT2_KMNIST_CDVR_commun)"
   ]
  },
  {
   "cell_type": "code",
   "execution_count": 8,
   "metadata": {},
   "outputs": [],
   "source": [
    "with open(\"./result/MT2_KMNIST_CDVR_iter_result.txt\", \"wb\") as f:   #Pickling\n",
    "    pickle.dump(MT2_KMNIST_CDVR_iter_result, f)\n",
    "    \n",
    "with open(\"./result/MT2_KMNIST_CDVR_commun_result.txt\", \"wb\") as f:   #Pickling\n",
    "    pickle.dump(MT2_KMNIST_CDVR_commun_result, f)"
   ]
  }
 ],
 "metadata": {
  "kernelspec": {
   "display_name": "Python 3",
   "language": "python",
   "name": "python3"
  },
  "language_info": {
   "codemirror_mode": {
    "name": "ipython",
    "version": 3
   },
   "file_extension": ".py",
   "mimetype": "text/x-python",
   "name": "python",
   "nbconvert_exporter": "python",
   "pygments_lexer": "ipython3",
   "version": "3.8.3"
  }
 },
 "nbformat": 4,
 "nbformat_minor": 4
}

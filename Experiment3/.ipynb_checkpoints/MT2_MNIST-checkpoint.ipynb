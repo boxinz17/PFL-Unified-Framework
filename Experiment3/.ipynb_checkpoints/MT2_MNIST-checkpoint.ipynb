{
 "cells": [
  {
   "cell_type": "code",
   "execution_count": 5,
   "metadata": {},
   "outputs": [
    {
     "data": {
      "text/plain": [
       "<torch._C.Generator at 0x1c4162fef30>"
      ]
     },
     "execution_count": 5,
     "metadata": {},
     "output_type": "execute_result"
    }
   ],
   "source": [
    "# Load packages and set up default settings\n",
    "%matplotlib inline\n",
    "from matplotlib import pyplot as plt\n",
    "import numpy as np\n",
    "import torch\n",
    "import torch.nn as nn\n",
    "import datetime\n",
    "import pickle\n",
    "\n",
    "import data_load\n",
    "import MT2\n",
    "\n",
    "torch.set_printoptions(edgeitems=2, linewidth=75)\n",
    "torch.manual_seed(123)"
   ]
  },
  {
   "cell_type": "code",
   "execution_count": 6,
   "metadata": {},
   "outputs": [
    {
     "name": "stdout",
     "output_type": "stream",
     "text": [
      "Training on device cuda.\n"
     ]
    }
   ],
   "source": [
    "device = (torch.device('cuda') if torch.cuda.is_available()\n",
    "          else torch.device('cpu'))\n",
    "print(f\"Training on device {device}.\")"
   ]
  },
  {
   "cell_type": "code",
   "execution_count": 7,
   "metadata": {},
   "outputs": [],
   "source": [
    "# Initialize all parameters\n",
    "lambda_global = 10\n",
    "lambda_penal = 1\n",
    "\n",
    "M = 10\n",
    "n_samples = 100\n",
    "\n",
    "obj = 'MT2'\n",
    "data_name = 'MNIST'\n",
    "\n",
    "L_w = (lambda_global + lambda_penal) / M\n",
    "L_beta = (1 + lambda_penal)\n",
    "\n",
    "rho = 1e-2\n",
    "\n",
    "n_communs = 1000\n",
    "repo_step = 100\n",
    "sync_step = 5\n",
    "\n",
    "w0 = [torch.zeros(10, 784).to(device), torch.zeros(10).to(device)]\n",
    "\n",
    "beta0 = []\n",
    "for m in range(M):\n",
    "    beta0.append([torch.zeros(10, 784).to(device), torch.zeros(10).to(device)])\n",
    "    \n",
    "w_list0 = []\n",
    "for m in range(M):\n",
    "    w_list0.append([torch.zeros(10, 784).to(device), torch.zeros(10).to(device)])\n",
    "\n",
    "beta_list0 = []\n",
    "for m in range(M):\n",
    "    beta_list0.append([torch.zeros(10, 784).to(device), torch.zeros(10).to(device)])"
   ]
  },
  {
   "cell_type": "code",
   "execution_count": 8,
   "metadata": {},
   "outputs": [
    {
     "name": "stdout",
     "output_type": "stream",
     "text": [
      "L_w is: 1.1\n",
      "L_beta is 2\n",
      "rho is 0.01\n",
      "n_communs is 1000\n",
      "sync_step is 5\n"
     ]
    }
   ],
   "source": [
    "print(\"L_w is: {}\".format(L_w))\n",
    "print(\"L_beta is {}\".format(L_beta))\n",
    "print(\"rho is {}\".format(rho))\n",
    "print(\"n_communs is {}\".format(n_communs))\n",
    "print(\"sync_step is {}\".format(sync_step))"
   ]
  },
  {
   "cell_type": "code",
   "execution_count": 5,
   "metadata": {},
   "outputs": [],
   "source": [
    "train_loader_list, devices_train_list = data_load.data_prepare(data_name, n_devices=M, n_samples=n_samples)"
   ]
  },
  {
   "cell_type": "code",
   "execution_count": 7,
   "metadata": {},
   "outputs": [
    {
     "name": "stdout",
     "output_type": "stream",
     "text": [
      "prob1 is 0.35484\n",
      "eta is 0.04032\n",
      "epoch: 1, loss: 25.3076999664, time pass: 0s | CDVR MT2 MNIST\n",
      "epoch: 100, loss: 24.0192404747, time pass: 7s | CDVR MT2 MNIST\n",
      "epoch: 200, loss: 23.2590580940, time pass: 13s | CDVR MT2 MNIST\n",
      "epoch: 300, loss: 22.7626904488, time pass: 20s | CDVR MT2 MNIST\n",
      "epoch: 400, loss: 22.2551648140, time pass: 27s | CDVR MT2 MNIST\n",
      "epoch: 500, loss: 21.8298472404, time pass: 34s | CDVR MT2 MNIST\n",
      "epoch: 600, loss: 21.4501642227, time pass: 40s | CDVR MT2 MNIST\n",
      "epoch: 700, loss: 21.0857776642, time pass: 47s | CDVR MT2 MNIST\n",
      "epoch: 800, loss: 20.7221816063, time pass: 54s | CDVR MT2 MNIST\n",
      "epoch: 900, loss: 20.3782629967, time pass: 60s | CDVR MT2 MNIST\n",
      "epoch: 1000, loss: 20.0436006546, time pass: 67s | CDVR MT2 MNIST\n",
      "num_commun: 1, loss: 25.3076999664, time pass: 0s | CDVR MT2 MNIST\n",
      "num_commun: 100, loss: 22.9563982010, time pass: 12s | CDVR MT2 MNIST\n",
      "num_commun: 200, loss: 21.7258676529, time pass: 26s | CDVR MT2 MNIST\n",
      "num_commun: 300, loss: 20.7431866646, time pass: 39s | CDVR MT2 MNIST\n",
      "num_commun: 400, loss: 19.8317434311, time pass: 52s | CDVR MT2 MNIST\n",
      "num_commun: 500, loss: 18.9207193851, time pass: 67s | CDVR MT2 MNIST\n",
      "num_commun: 600, loss: 18.1085400581, time pass: 82s | CDVR MT2 MNIST\n",
      "num_commun: 700, loss: 17.3920226574, time pass: 96s | CDVR MT2 MNIST\n",
      "num_commun: 800, loss: 16.7293084621, time pass: 109s | CDVR MT2 MNIST\n",
      "num_commun: 900, loss: 16.0359147549, time pass: 125s | CDVR MT2 MNIST\n",
      "num_commun: 1000, loss: 15.5192805767, time pass: 137s | CDVR MT2 MNIST\n",
      "prob1 is 0.70000\n",
      "eta is 0.01875\n",
      "epoch: 1, loss: 25.3187780380, time pass: 0s | CDVR MT2 MNIST\n",
      "epoch: 100, loss: 24.5750967026, time pass: 6s | CDVR MT2 MNIST\n",
      "epoch: 200, loss: 24.0145322800, time pass: 13s | CDVR MT2 MNIST\n",
      "epoch: 300, loss: 23.6429717064, time pass: 20s | CDVR MT2 MNIST\n",
      "epoch: 400, loss: 23.3448420525, time pass: 27s | CDVR MT2 MNIST\n",
      "epoch: 500, loss: 23.0770631790, time pass: 33s | CDVR MT2 MNIST\n",
      "epoch: 600, loss: 22.8280855179, time pass: 40s | CDVR MT2 MNIST\n",
      "epoch: 700, loss: 22.5929720879, time pass: 47s | CDVR MT2 MNIST\n",
      "epoch: 800, loss: 22.3738761902, time pass: 53s | CDVR MT2 MNIST\n",
      "epoch: 900, loss: 22.1666107178, time pass: 60s | CDVR MT2 MNIST\n",
      "epoch: 1000, loss: 21.9725881577, time pass: 67s | CDVR MT2 MNIST\n",
      "num_commun: 1, loss: 25.3187780380, time pass: 0s | CDVR MT2 MNIST\n",
      "num_commun: 100, loss: 24.3142321587, time pass: 8s | CDVR MT2 MNIST\n",
      "num_commun: 200, loss: 23.7203908920, time pass: 16s | CDVR MT2 MNIST\n",
      "num_commun: 300, loss: 23.2864336967, time pass: 25s | CDVR MT2 MNIST\n",
      "num_commun: 400, loss: 22.9149548531, time pass: 33s | CDVR MT2 MNIST\n",
      "num_commun: 500, loss: 22.5998304367, time pass: 41s | CDVR MT2 MNIST\n",
      "num_commun: 600, loss: 22.2958961487, time pass: 49s | CDVR MT2 MNIST\n",
      "num_commun: 700, loss: 21.9987049103, time pass: 57s | CDVR MT2 MNIST\n",
      "num_commun: 800, loss: 21.7243333817, time pass: 66s | CDVR MT2 MNIST\n",
      "num_commun: 900, loss: 21.4646116257, time pass: 74s | CDVR MT2 MNIST\n",
      "num_commun: 1000, loss: 21.2309081078, time pass: 83s | CDVR MT2 MNIST\n",
      "prob1 is 0.50000\n",
      "eta is 0.03125\n",
      "epoch: 1, loss: 25.3123554230, time pass: 0s | CDVR MT2 MNIST\n",
      "epoch: 100, loss: 24.2341230392, time pass: 6s | CDVR MT2 MNIST\n",
      "epoch: 200, loss: 23.5323301315, time pass: 13s | CDVR MT2 MNIST\n",
      "epoch: 300, loss: 23.0856217384, time pass: 19s | CDVR MT2 MNIST\n",
      "epoch: 400, loss: 22.6736527443, time pass: 26s | CDVR MT2 MNIST\n",
      "epoch: 500, loss: 22.3096536636, time pass: 33s | CDVR MT2 MNIST\n",
      "epoch: 600, loss: 21.9812959671, time pass: 40s | CDVR MT2 MNIST\n",
      "epoch: 700, loss: 21.6661538124, time pass: 46s | CDVR MT2 MNIST\n",
      "epoch: 800, loss: 21.3656837463, time pass: 53s | CDVR MT2 MNIST\n",
      "epoch: 900, loss: 21.0782528877, time pass: 60s | CDVR MT2 MNIST\n",
      "epoch: 1000, loss: 20.8013524055, time pass: 66s | CDVR MT2 MNIST\n",
      "num_commun: 1, loss: 25.3123554230, time pass: 0s | CDVR MT2 MNIST\n",
      "num_commun: 100, loss: 23.5981264114, time pass: 9s | CDVR MT2 MNIST\n",
      "num_commun: 200, loss: 22.7615682602, time pass: 20s | CDVR MT2 MNIST\n",
      "num_commun: 300, loss: 22.0619271278, time pass: 30s | CDVR MT2 MNIST\n",
      "num_commun: 400, loss: 21.5000248909, time pass: 40s | CDVR MT2 MNIST\n",
      "num_commun: 500, loss: 20.8666238785, time pass: 52s | CDVR MT2 MNIST\n",
      "num_commun: 600, loss: 20.2897518158, time pass: 64s | CDVR MT2 MNIST\n",
      "num_commun: 700, loss: 19.8275573254, time pass: 74s | CDVR MT2 MNIST\n",
      "num_commun: 800, loss: 19.3123901367, time pass: 86s | CDVR MT2 MNIST\n",
      "num_commun: 900, loss: 18.8776475430, time pass: 96s | CDVR MT2 MNIST\n",
      "num_commun: 1000, loss: 18.4507693291, time pass: 108s | CDVR MT2 MNIST\n",
      "prob1 is 0.30000\n",
      "eta is 0.03409\n",
      "epoch: 1, loss: 25.3108963966, time pass: 0s | CDVR MT2 MNIST\n",
      "epoch: 100, loss: 24.1722949028, time pass: 8s | CDVR MT2 MNIST\n",
      "epoch: 200, loss: 23.4402112007, time pass: 16s | CDVR MT2 MNIST\n",
      "epoch: 300, loss: 22.9811729431, time pass: 23s | CDVR MT2 MNIST\n",
      "epoch: 400, loss: 22.5437938690, time pass: 30s | CDVR MT2 MNIST\n",
      "epoch: 500, loss: 22.1593651772, time pass: 37s | CDVR MT2 MNIST\n",
      "epoch: 600, loss: 21.8090334892, time pass: 44s | CDVR MT2 MNIST\n",
      "epoch: 700, loss: 21.4802020073, time pass: 50s | CDVR MT2 MNIST\n",
      "epoch: 800, loss: 21.1627194405, time pass: 57s | CDVR MT2 MNIST\n",
      "epoch: 900, loss: 20.8576643944, time pass: 64s | CDVR MT2 MNIST\n",
      "epoch: 1000, loss: 20.5630047798, time pass: 72s | CDVR MT2 MNIST\n",
      "num_commun: 1, loss: 25.3108963966, time pass: 0s | CDVR MT2 MNIST\n",
      "num_commun: 100, loss: 23.0027284622, time pass: 15s | CDVR MT2 MNIST\n",
      "num_commun: 200, loss: 21.7612271309, time pass: 31s | CDVR MT2 MNIST\n",
      "num_commun: 300, loss: 20.7103924751, time pass: 48s | CDVR MT2 MNIST\n",
      "num_commun: 400, loss: 19.7162105083, time pass: 67s | CDVR MT2 MNIST\n",
      "num_commun: 500, loss: 18.8516375065, time pass: 84s | CDVR MT2 MNIST\n",
      "num_commun: 600, loss: 18.0803023815, time pass: 102s | CDVR MT2 MNIST\n",
      "num_commun: 700, loss: 17.4110116482, time pass: 117s | CDVR MT2 MNIST\n",
      "num_commun: 800, loss: 16.7222273827, time pass: 134s | CDVR MT2 MNIST\n",
      "num_commun: 900, loss: 16.1538567543, time pass: 149s | CDVR MT2 MNIST\n",
      "num_commun: 1000, loss: 15.5679577827, time pass: 167s | CDVR MT2 MNIST\n",
      "prob1 is 0.10000\n",
      "eta is 0.01136\n",
      "epoch: 1, loss: 25.3225788116, time pass: 0s | CDVR MT2 MNIST\n",
      "epoch: 100, loss: 24.8350073814, time pass: 6s | CDVR MT2 MNIST\n",
      "epoch: 200, loss: 24.4303100586, time pass: 14s | CDVR MT2 MNIST\n",
      "epoch: 300, loss: 24.1348308563, time pass: 21s | CDVR MT2 MNIST\n",
      "epoch: 400, loss: 23.8944695473, time pass: 29s | CDVR MT2 MNIST\n",
      "epoch: 500, loss: 23.6798632622, time pass: 36s | CDVR MT2 MNIST\n",
      "epoch: 600, loss: 23.4808036804, time pass: 44s | CDVR MT2 MNIST\n",
      "epoch: 700, loss: 23.2960509300, time pass: 53s | CDVR MT2 MNIST\n",
      "epoch: 800, loss: 23.1257268906, time pass: 62s | CDVR MT2 MNIST\n",
      "epoch: 900, loss: 22.9662722588, time pass: 70s | CDVR MT2 MNIST\n",
      "epoch: 1000, loss: 22.8199831009, time pass: 79s | CDVR MT2 MNIST\n",
      "num_commun: 1, loss: 25.3225788116, time pass: 0s | CDVR MT2 MNIST\n",
      "num_commun: 100, loss: 22.6919896126, time pass: 59s | CDVR MT2 MNIST\n",
      "num_commun: 200, loss: 21.4074223518, time pass: 125s | CDVR MT2 MNIST\n",
      "num_commun: 300, loss: 20.5483844757, time pass: 171s | CDVR MT2 MNIST\n",
      "num_commun: 400, loss: 19.5861356258, time pass: 238s | CDVR MT2 MNIST\n",
      "num_commun: 500, loss: 18.8430373192, time pass: 301s | CDVR MT2 MNIST\n",
      "num_commun: 600, loss: 18.0816327572, time pass: 384s | CDVR MT2 MNIST\n",
      "num_commun: 700, loss: 17.3795666695, time pass: 467s | CDVR MT2 MNIST\n",
      "num_commun: 800, loss: 16.6757043362, time pass: 554s | CDVR MT2 MNIST\n",
      "num_commun: 900, loss: 16.0455412388, time pass: 639s | CDVR MT2 MNIST\n",
      "num_commun: 1000, loss: 15.5211687565, time pass: 716s | CDVR MT2 MNIST\n"
     ]
    }
   ],
   "source": [
    "prob1_list = [L_w / (L_w + L_beta), 0.7, 0.5, 0.3, 0.1]\n",
    "MT2_MNIST_CDVR_iter_result = []\n",
    "MT2_MNIST_CDVR_commun_result = []\n",
    "\n",
    "for prob1 in prob1_list:\n",
    "    print(\"prob1 is {:.5f}\".format(prob1))\n",
    "    \n",
    "    eta = 1 / (8 * max(L_w/prob1, L_beta/(1-prob1)))\n",
    "    \n",
    "    print(\"eta is {:.5f}\".format(eta))\n",
    "    \n",
    "    loss_MT2_MNIST_CDVR_iter, _, _ = MT2.train_CDVR_iter(w0, beta0, n_epochs, devices_train_list, \n",
    "                                                         train_loader_list, lambda_global, lambda_penal, \n",
    "                                                         repo_step, eta, prob1, rho, obj, data_name)\n",
    "    MT2_MNIST_CDVR_iter_result.append(loss_MT2_MNIST_CDVR_iter)\n",
    "    loss_MT2_MNIST_CDVR_commun, _, _ = MT2.train_CDVR_commun(w0, beta0, n_communs, devices_train_list, \n",
    "                                                             train_loader_list, lambda_global, lambda_penal, \n",
    "                                                             repo_step, eta, prob1, rho, obj, data_name)\n",
    "    MT2_MNIST_CDVR_commun_result.append(loss_MT2_MNIST_CDVR_commun)"
   ]
  },
  {
   "cell_type": "code",
   "execution_count": 8,
   "metadata": {},
   "outputs": [],
   "source": [
    "with open(\"./result/MT2_MNIST_CDVR_iter_result.txt\", \"wb\") as f:   #Pickling\n",
    "    pickle.dump(MT2_MNIST_CDVR_iter_result, f)\n",
    "    \n",
    "with open(\"./result/MT2_MNIST_CDVR_commun_result.txt\", \"wb\") as f:   #Pickling\n",
    "    pickle.dump(MT2_MNIST_CDVR_commun_result, f)"
   ]
  }
 ],
 "metadata": {
  "kernelspec": {
   "display_name": "Python 3",
   "language": "python",
   "name": "python3"
  },
  "language_info": {
   "codemirror_mode": {
    "name": "ipython",
    "version": 3
   },
   "file_extension": ".py",
   "mimetype": "text/x-python",
   "name": "python",
   "nbconvert_exporter": "python",
   "pygments_lexer": "ipython3",
   "version": "3.8.3"
  }
 },
 "nbformat": 4,
 "nbformat_minor": 4
}

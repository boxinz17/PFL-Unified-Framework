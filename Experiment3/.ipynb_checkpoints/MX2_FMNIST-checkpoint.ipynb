{
 "cells": [
  {
   "cell_type": "code",
   "execution_count": 1,
   "metadata": {},
   "outputs": [
    {
     "data": {
      "text/plain": [
       "<torch._C.Generator at 0x28d8b641f30>"
      ]
     },
     "execution_count": 1,
     "metadata": {},
     "output_type": "execute_result"
    }
   ],
   "source": [
    "# Load packages and set up default settings\n",
    "%matplotlib inline\n",
    "from matplotlib import pyplot as plt\n",
    "import numpy as np\n",
    "import torch\n",
    "import torch.nn as nn\n",
    "import datetime\n",
    "import pickle\n",
    "\n",
    "import data_load\n",
    "import MX2\n",
    "\n",
    "torch.set_printoptions(edgeitems=2, linewidth=75)\n",
    "torch.manual_seed(123)"
   ]
  },
  {
   "cell_type": "code",
   "execution_count": 2,
   "metadata": {},
   "outputs": [
    {
     "name": "stdout",
     "output_type": "stream",
     "text": [
      "Training on device cuda.\n"
     ]
    }
   ],
   "source": [
    "device = (torch.device('cuda') if torch.cuda.is_available()\n",
    "          else torch.device('cpu'))\n",
    "print(f\"Training on device {device}.\")"
   ]
  },
  {
   "cell_type": "code",
   "execution_count": 3,
   "metadata": {},
   "outputs": [],
   "source": [
    "# Initialize all parameters\n",
    "lambda_penal = 1\n",
    "\n",
    "M = 10\n",
    "n_samples = 100\n",
    "    \n",
    "obj = 'MX2'\n",
    "data_name = 'FMNIST'\n",
    "\n",
    "L_w = lambda_penal / M\n",
    "L_beta = 1 + lambda_penal\n",
    "\n",
    "rho = 1e-2\n",
    "\n",
    "n_communs = 1000\n",
    "n_epochs = 1000\n",
    "repo_step = 100\n",
    "sync_step = 5\n",
    "\n",
    "w0 = [torch.zeros(10, 784).to(device), torch.zeros(10).to(device)]\n",
    "\n",
    "beta0 = []\n",
    "for m in range(M):\n",
    "    beta0.append([torch.zeros(10, 784).to(device), torch.zeros(10).to(device)])\n",
    "    \n",
    "w_list0 = []\n",
    "for m in range(M):\n",
    "    w_list0.append([torch.zeros(10, 784).to(device), torch.zeros(10).to(device)])\n",
    "\n",
    "beta_list0 = []\n",
    "for m in range(M):\n",
    "    beta_list0.append([torch.zeros(10, 784).to(device), torch.zeros(10).to(device)])"
   ]
  },
  {
   "cell_type": "code",
   "execution_count": 4,
   "metadata": {
    "scrolled": true
   },
   "outputs": [
    {
     "name": "stdout",
     "output_type": "stream",
     "text": [
      "L_w is: 0.1\n",
      "L_beta is 2\n",
      "rho is 0.01\n",
      "n_communs is 1000\n",
      "n_epochs is 1000\n",
      "sync_step is 5\n"
     ]
    }
   ],
   "source": [
    "print(\"L_w is: {}\".format(L_w))\n",
    "print(\"L_beta is {}\".format(L_beta))\n",
    "print(\"rho is {}\".format(rho))\n",
    "print(\"n_communs is {}\".format(n_communs))\n",
    "print(\"n_epochs is {}\".format(n_epochs))\n",
    "print(\"sync_step is {}\".format(sync_step))"
   ]
  },
  {
   "cell_type": "code",
   "execution_count": 5,
   "metadata": {},
   "outputs": [],
   "source": [
    "train_loader_list, devices_train_list = data_load.data_prepare(data_name, n_devices=M, n_samples=n_samples)"
   ]
  },
  {
   "cell_type": "code",
   "execution_count": 6,
   "metadata": {},
   "outputs": [
    {
     "name": "stdout",
     "output_type": "stream",
     "text": [
      "Max sample size: 100\n",
      "Min sample size: 100\n",
      "Mean sample size: 100\n"
     ]
    }
   ],
   "source": [
    "n_sizes = []\n",
    "for device_train in devices_train_list:\n",
    "    n_sizes.append(len(device_train))\n",
    "print(\"Max sample size: {}\".format(max(n_sizes)))\n",
    "print(\"Min sample size: {}\".format(min(n_sizes)))\n",
    "print(\"Mean sample size: {}\".format(int(np.mean(n_sizes))))"
   ]
  },
  {
   "cell_type": "code",
   "execution_count": 7,
   "metadata": {},
   "outputs": [
    {
     "name": "stdout",
     "output_type": "stream",
     "text": [
      "prob1 is 0.04762\n",
      "eta is 0.05952\n",
      "epoch: 1, loss: 2.2983156085, time pass: 0s | CDVR MX2 FMNIST\n",
      "epoch: 100, loss: 2.0631542921, time pass: 9s | CDVR MX2 FMNIST\n",
      "epoch: 200, loss: 1.9799392819, time pass: 19s | CDVR MX2 FMNIST\n",
      "epoch: 300, loss: 1.9764540970, time pass: 30s | CDVR MX2 FMNIST\n",
      "epoch: 400, loss: 1.9604597032, time pass: 42s | CDVR MX2 FMNIST\n",
      "epoch: 500, loss: 1.9460016489, time pass: 54s | CDVR MX2 FMNIST\n",
      "epoch: 600, loss: 1.9362309098, time pass: 66s | CDVR MX2 FMNIST\n",
      "epoch: 700, loss: 1.9281462133, time pass: 78s | CDVR MX2 FMNIST\n",
      "epoch: 800, loss: 1.9187917769, time pass: 89s | CDVR MX2 FMNIST\n",
      "epoch: 900, loss: 1.9095130503, time pass: 101s | CDVR MX2 FMNIST\n",
      "epoch: 1000, loss: 1.8990213335, time pass: 113s | CDVR MX2 FMNIST\n",
      "num_commun: 1, loss: 2.2983156085, time pass: 0s | CDVR MX2 FMNIST\n",
      "num_commun: 100, loss: 1.8179893732, time pass: 143s | CDVR MX2 FMNIST\n",
      "num_commun: 200, loss: 1.7057682097, time pass: 289s | CDVR MX2 FMNIST\n",
      "num_commun: 300, loss: 1.6295594633, time pass: 419s | CDVR MX2 FMNIST\n",
      "num_commun: 400, loss: 1.5484457195, time pass: 580s | CDVR MX2 FMNIST\n",
      "num_commun: 500, loss: 1.4855400622, time pass: 725s | CDVR MX2 FMNIST\n",
      "num_commun: 600, loss: 1.4248757660, time pass: 883s | CDVR MX2 FMNIST\n",
      "num_commun: 700, loss: 1.3687288761, time pass: 1049s | CDVR MX2 FMNIST\n",
      "num_commun: 800, loss: 1.3233107150, time pass: 1199s | CDVR MX2 FMNIST\n",
      "num_commun: 900, loss: 1.2866039068, time pass: 1333s | CDVR MX2 FMNIST\n",
      "num_commun: 1000, loss: 1.2492583871, time pass: 1492s | CDVR MX2 FMNIST\n",
      "prob1 is 0.70000\n",
      "eta is 0.01875\n",
      "epoch: 1, loss: 2.3012369871, time pass: 0s | CDVR MX2 FMNIST\n",
      "epoch: 100, loss: 2.1929701447, time pass: 12s | CDVR MX2 FMNIST\n",
      "epoch: 200, loss: 2.1099357665, time pass: 24s | CDVR MX2 FMNIST\n",
      "epoch: 300, loss: 2.0592641890, time pass: 36s | CDVR MX2 FMNIST\n",
      "epoch: 400, loss: 2.0301474035, time pass: 49s | CDVR MX2 FMNIST\n",
      "epoch: 500, loss: 2.0103488863, time pass: 61s | CDVR MX2 FMNIST\n",
      "epoch: 600, loss: 1.9961423695, time pass: 73s | CDVR MX2 FMNIST\n",
      "epoch: 700, loss: 1.9852160037, time pass: 85s | CDVR MX2 FMNIST\n",
      "epoch: 800, loss: 1.9780497253, time pass: 97s | CDVR MX2 FMNIST\n",
      "epoch: 900, loss: 1.9728387833, time pass: 109s | CDVR MX2 FMNIST\n",
      "epoch: 1000, loss: 1.9688819885, time pass: 126s | CDVR MX2 FMNIST\n",
      "num_commun: 1, loss: 2.3012369871, time pass: 0s | CDVR MX2 FMNIST\n",
      "num_commun: 100, loss: 2.1565273881, time pass: 19s | CDVR MX2 FMNIST\n",
      "num_commun: 200, loss: 2.0671801388, time pass: 34s | CDVR MX2 FMNIST\n",
      "num_commun: 300, loss: 2.0253604293, time pass: 50s | CDVR MX2 FMNIST\n",
      "num_commun: 400, loss: 2.0010556281, time pass: 67s | CDVR MX2 FMNIST\n",
      "num_commun: 500, loss: 1.9855331302, time pass: 81s | CDVR MX2 FMNIST\n",
      "num_commun: 600, loss: 1.9759375036, time pass: 96s | CDVR MX2 FMNIST\n",
      "num_commun: 700, loss: 1.9693892360, time pass: 112s | CDVR MX2 FMNIST\n",
      "num_commun: 800, loss: 1.9640645206, time pass: 128s | CDVR MX2 FMNIST\n",
      "num_commun: 900, loss: 1.9589641154, time pass: 144s | CDVR MX2 FMNIST\n",
      "num_commun: 1000, loss: 1.9543226719, time pass: 159s | CDVR MX2 FMNIST\n",
      "prob1 is 0.50000\n",
      "eta is 0.03125\n",
      "epoch: 1, loss: 2.3003400803, time pass: 0s | CDVR MX2 FMNIST\n",
      "epoch: 100, loss: 2.1404021084, time pass: 12s | CDVR MX2 FMNIST\n",
      "epoch: 200, loss: 2.0407172084, time pass: 24s | CDVR MX2 FMNIST\n",
      "epoch: 300, loss: 2.0009003103, time pass: 36s | CDVR MX2 FMNIST\n",
      "epoch: 400, loss: 1.9856603086, time pass: 48s | CDVR MX2 FMNIST\n",
      "epoch: 500, loss: 1.9765305936, time pass: 61s | CDVR MX2 FMNIST\n",
      "epoch: 600, loss: 1.9691294074, time pass: 73s | CDVR MX2 FMNIST\n",
      "epoch: 700, loss: 1.9628647268, time pass: 85s | CDVR MX2 FMNIST\n",
      "epoch: 800, loss: 1.9572187662, time pass: 97s | CDVR MX2 FMNIST\n",
      "epoch: 900, loss: 1.9517747343, time pass: 109s | CDVR MX2 FMNIST\n",
      "epoch: 1000, loss: 1.9462292314, time pass: 122s | CDVR MX2 FMNIST\n",
      "num_commun: 1, loss: 2.3003400803, time pass: 0s | CDVR MX2 FMNIST\n",
      "num_commun: 100, loss: 2.0483396530, time pass: 18s | CDVR MX2 FMNIST\n",
      "num_commun: 200, loss: 1.9879977107, time pass: 37s | CDVR MX2 FMNIST\n",
      "num_commun: 300, loss: 1.9709114552, time pass: 55s | CDVR MX2 FMNIST\n",
      "num_commun: 400, loss: 1.9597328901, time pass: 73s | CDVR MX2 FMNIST\n",
      "num_commun: 500, loss: 1.9475957274, time pass: 94s | CDVR MX2 FMNIST\n",
      "num_commun: 600, loss: 1.9354894638, time pass: 114s | CDVR MX2 FMNIST\n",
      "num_commun: 700, loss: 1.9258514404, time pass: 133s | CDVR MX2 FMNIST\n",
      "num_commun: 800, loss: 1.9150575042, time pass: 153s | CDVR MX2 FMNIST\n",
      "num_commun: 900, loss: 1.9058867753, time pass: 172s | CDVR MX2 FMNIST\n",
      "num_commun: 1000, loss: 1.8968252659, time pass: 191s | CDVR MX2 FMNIST\n",
      "prob1 is 0.30000\n",
      "eta is 0.04375\n",
      "epoch: 1, loss: 2.2994442105, time pass: 0s | CDVR MX2 FMNIST\n",
      "epoch: 100, loss: 2.1010163724, time pass: 12s | CDVR MX2 FMNIST\n",
      "epoch: 200, loss: 2.0032387495, time pass: 24s | CDVR MX2 FMNIST\n",
      "epoch: 300, loss: 1.9805629492, time pass: 36s | CDVR MX2 FMNIST\n",
      "epoch: 400, loss: 1.9714241326, time pass: 48s | CDVR MX2 FMNIST\n",
      "epoch: 500, loss: 1.9628535211, time pass: 61s | CDVR MX2 FMNIST\n",
      "epoch: 600, loss: 1.9549833536, time pass: 73s | CDVR MX2 FMNIST\n",
      "epoch: 700, loss: 1.9473728120, time pass: 85s | CDVR MX2 FMNIST\n",
      "epoch: 800, loss: 1.9397206545, time pass: 97s | CDVR MX2 FMNIST\n",
      "epoch: 900, loss: 1.9322593212, time pass: 110s | CDVR MX2 FMNIST\n",
      "epoch: 1000, loss: 1.9249318063, time pass: 122s | CDVR MX2 FMNIST\n",
      "num_commun: 1, loss: 2.2994442105, time pass: 0s | CDVR MX2 FMNIST\n",
      "num_commun: 100, loss: 1.9810403645, time pass: 25s | CDVR MX2 FMNIST\n",
      "num_commun: 200, loss: 1.9539271176, time pass: 52s | CDVR MX2 FMNIST\n",
      "num_commun: 300, loss: 1.9285781562, time pass: 80s | CDVR MX2 FMNIST\n",
      "num_commun: 400, loss: 1.9039064229, time pass: 111s | CDVR MX2 FMNIST\n",
      "num_commun: 500, loss: 1.8824301541, time pass: 140s | CDVR MX2 FMNIST\n",
      "num_commun: 600, loss: 1.8632373512, time pass: 169s | CDVR MX2 FMNIST\n",
      "num_commun: 700, loss: 1.8465091646, time pass: 195s | CDVR MX2 FMNIST\n",
      "num_commun: 800, loss: 1.8290869653, time pass: 224s | CDVR MX2 FMNIST\n",
      "num_commun: 900, loss: 1.8144757569, time pass: 250s | CDVR MX2 FMNIST\n",
      "num_commun: 1000, loss: 1.7991042614, time pass: 279s | CDVR MX2 FMNIST\n",
      "prob1 is 0.10000\n",
      "eta is 0.05625\n",
      "epoch: 1, loss: 2.2985496402, time pass: 0s | CDVR MX2 FMNIST\n",
      "epoch: 100, loss: 2.0714444220, time pass: 12s | CDVR MX2 FMNIST\n",
      "epoch: 200, loss: 1.9840198100, time pass: 24s | CDVR MX2 FMNIST\n",
      "epoch: 300, loss: 1.9775702894, time pass: 36s | CDVR MX2 FMNIST\n",
      "epoch: 400, loss: 1.9636104524, time pass: 49s | CDVR MX2 FMNIST\n",
      "epoch: 500, loss: 1.9503664017, time pass: 61s | CDVR MX2 FMNIST\n",
      "epoch: 600, loss: 1.9405529320, time pass: 73s | CDVR MX2 FMNIST\n",
      "epoch: 700, loss: 1.9322504997, time pass: 85s | CDVR MX2 FMNIST\n",
      "epoch: 800, loss: 1.9229152977, time pass: 97s | CDVR MX2 FMNIST\n",
      "epoch: 900, loss: 1.9140732467, time pass: 109s | CDVR MX2 FMNIST\n",
      "epoch: 1000, loss: 1.9043961883, time pass: 122s | CDVR MX2 FMNIST\n",
      "num_commun: 1, loss: 2.2985496402, time pass: 0s | CDVR MX2 FMNIST\n",
      "num_commun: 100, loss: 1.8961419940, time pass: 79s | CDVR MX2 FMNIST\n",
      "num_commun: 200, loss: 1.8205280781, time pass: 158s | CDVR MX2 FMNIST\n",
      "num_commun: 300, loss: 1.7725794315, time pass: 222s | CDVR MX2 FMNIST\n",
      "num_commun: 400, loss: 1.7215192914, time pass: 300s | CDVR MX2 FMNIST\n",
      "num_commun: 500, loss: 1.6833323359, time pass: 367s | CDVR MX2 FMNIST\n",
      "num_commun: 600, loss: 1.6447583556, time pass: 440s | CDVR MX2 FMNIST\n",
      "num_commun: 700, loss: 1.6092863560, time pass: 513s | CDVR MX2 FMNIST\n",
      "num_commun: 800, loss: 1.5735367179, time pass: 590s | CDVR MX2 FMNIST\n",
      "num_commun: 900, loss: 1.5411817372, time pass: 671s | CDVR MX2 FMNIST\n",
      "num_commun: 1000, loss: 1.5139062226, time pass: 738s | CDVR MX2 FMNIST\n"
     ]
    }
   ],
   "source": [
    "prob1_list = [L_w / (L_w + L_beta), 0.7, 0.5, 0.3, 0.1]\n",
    "MX2_FMNIST_CDVR_iter_result = []\n",
    "MX2_FMNIST_CDVR_commun_result = []\n",
    "\n",
    "for prob1 in prob1_list:\n",
    "    print(\"prob1 is {:.5f}\".format(prob1))\n",
    "    \n",
    "    eta = 1 / (8 * max(L_w/prob1, L_beta/(1-prob1)))\n",
    "    \n",
    "    print(\"eta is {:.5f}\".format(eta))\n",
    "    loss_MX2_FMNIST_CDVR_iter, _, _ = MX2.train_CDVR_iter(w0, beta0, n_communs, devices_train_list, \n",
    "                                                         train_loader_list, lambda_penal, repo_step, \n",
    "                                                         eta, prob1, obj, data_name, rho)\n",
    "    MX2_FMNIST_CDVR_iter_result.append(loss_MX2_FMNIST_CDVR_iter)\n",
    "    loss_MX2_FMNIST_CDVR_commun, _, _ = MX2.train_CDVR_commun(w0, beta0, n_epochs, devices_train_list, \n",
    "                                                             train_loader_list, lambda_penal, repo_step, \n",
    "                                                             eta, prob1, obj, data_name, rho)\n",
    "    MX2_FMNIST_CDVR_commun_result.append(loss_MX2_FMNIST_CDVR_commun)"
   ]
  },
  {
   "cell_type": "code",
   "execution_count": 8,
   "metadata": {},
   "outputs": [],
   "source": [
    "with open(\"./result/MX2_FMNIST_CDVR_iter_result.txt\", \"wb\") as f:   #Pickling\n",
    "    pickle.dump(MX2_FMNIST_CDVR_iter_result, f)\n",
    "    \n",
    "with open(\"./result/MX2_FMNIST_CDVR_commun_result.txt\", \"wb\") as f:   #Pickling\n",
    "    pickle.dump(MX2_FMNIST_CDVR_commun_result, f)"
   ]
  }
 ],
 "metadata": {
  "kernelspec": {
   "display_name": "Python 3",
   "language": "python",
   "name": "python3"
  },
  "language_info": {
   "codemirror_mode": {
    "name": "ipython",
    "version": 3
   },
   "file_extension": ".py",
   "mimetype": "text/x-python",
   "name": "python",
   "nbconvert_exporter": "python",
   "pygments_lexer": "ipython3",
   "version": "3.8.3"
  }
 },
 "nbformat": 4,
 "nbformat_minor": 4
}

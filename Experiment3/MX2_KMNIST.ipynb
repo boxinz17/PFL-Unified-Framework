{
 "cells": [
  {
   "cell_type": "code",
   "execution_count": 1,
   "metadata": {},
   "outputs": [
    {
     "data": {
      "text/plain": [
       "<torch._C.Generator at 0x16be85def30>"
      ]
     },
     "execution_count": 1,
     "metadata": {},
     "output_type": "execute_result"
    }
   ],
   "source": [
    "# Load packages and set up default settings\n",
    "%matplotlib inline\n",
    "from matplotlib import pyplot as plt\n",
    "import numpy as np\n",
    "import torch\n",
    "import torch.nn as nn\n",
    "import datetime\n",
    "import pickle\n",
    "\n",
    "import data_load\n",
    "import MX2\n",
    "\n",
    "torch.set_printoptions(edgeitems=2, linewidth=75)\n",
    "torch.manual_seed(123)"
   ]
  },
  {
   "cell_type": "code",
   "execution_count": 2,
   "metadata": {},
   "outputs": [
    {
     "name": "stdout",
     "output_type": "stream",
     "text": [
      "Training on device cuda.\n"
     ]
    }
   ],
   "source": [
    "device = (torch.device('cuda') if torch.cuda.is_available()\n",
    "          else torch.device('cpu'))\n",
    "print(f\"Training on device {device}.\")"
   ]
  },
  {
   "cell_type": "code",
   "execution_count": 3,
   "metadata": {},
   "outputs": [],
   "source": [
    "# Initialize all parameters\n",
    "lambda_penal = 1\n",
    "\n",
    "M = 10\n",
    "n_samples = 100\n",
    "    \n",
    "obj = 'MX2'\n",
    "data_name = 'KMNIST'\n",
    "\n",
    "L_w = lambda_penal / M\n",
    "L_beta = 1 + lambda_penal\n",
    "\n",
    "rho = 1e-2\n",
    "\n",
    "n_communs = 1000\n",
    "n_epochs = 1000\n",
    "repo_step = 100\n",
    "sync_step = 5\n",
    "\n",
    "w0 = [torch.zeros(10, 784).to(device), torch.zeros(10).to(device)]\n",
    "\n",
    "beta0 = []\n",
    "for m in range(M):\n",
    "    beta0.append([torch.zeros(10, 784).to(device), torch.zeros(10).to(device)])\n",
    "    \n",
    "w_list0 = []\n",
    "for m in range(M):\n",
    "    w_list0.append([torch.zeros(10, 784).to(device), torch.zeros(10).to(device)])\n",
    "\n",
    "beta_list0 = []\n",
    "for m in range(M):\n",
    "    beta_list0.append([torch.zeros(10, 784).to(device), torch.zeros(10).to(device)])"
   ]
  },
  {
   "cell_type": "code",
   "execution_count": 4,
   "metadata": {},
   "outputs": [
    {
     "name": "stdout",
     "output_type": "stream",
     "text": [
      "L_w is: 0.1\n",
      "L_beta is 2\n",
      "rho is 0.01\n",
      "n_communs is 1000\n",
      "n_epochs is 1000\n",
      "sync_step is 5\n"
     ]
    }
   ],
   "source": [
    "print(\"L_w is: {}\".format(L_w))\n",
    "print(\"L_beta is {}\".format(L_beta))\n",
    "print(\"rho is {}\".format(rho))\n",
    "print(\"n_communs is {}\".format(n_communs))\n",
    "print(\"n_epochs is {}\".format(n_epochs))\n",
    "print(\"sync_step is {}\".format(sync_step))"
   ]
  },
  {
   "cell_type": "code",
   "execution_count": 5,
   "metadata": {},
   "outputs": [],
   "source": [
    "train_loader_list, devices_train_list = data_load.data_prepare(data_name, n_devices=M, n_samples=n_samples)"
   ]
  },
  {
   "cell_type": "code",
   "execution_count": 6,
   "metadata": {},
   "outputs": [
    {
     "name": "stdout",
     "output_type": "stream",
     "text": [
      "Max sample size: 100\n",
      "Min sample size: 100\n",
      "Mean sample size: 100\n"
     ]
    }
   ],
   "source": [
    "n_sizes = []\n",
    "for device_train in devices_train_list:\n",
    "    n_sizes.append(len(device_train))\n",
    "print(\"Max sample size: {}\".format(max(n_sizes)))\n",
    "print(\"Min sample size: {}\".format(min(n_sizes)))\n",
    "print(\"Mean sample size: {}\".format(int(np.mean(n_sizes))))"
   ]
  },
  {
   "cell_type": "code",
   "execution_count": 7,
   "metadata": {},
   "outputs": [
    {
     "name": "stdout",
     "output_type": "stream",
     "text": [
      "prob1 is 0.04762\n",
      "eta is 0.05952\n",
      "epoch: 1, loss: 2.2992451906, time pass: 0s | CDVR MX2 KMNIST\n",
      "epoch: 100, loss: 2.1129608154, time pass: 8s | CDVR MX2 KMNIST\n",
      "epoch: 200, loss: 2.0439537108, time pass: 18s | CDVR MX2 KMNIST\n",
      "epoch: 300, loss: 2.0398779273, time pass: 29s | CDVR MX2 KMNIST\n",
      "epoch: 400, loss: 2.0289677024, time pass: 41s | CDVR MX2 KMNIST\n",
      "epoch: 500, loss: 2.0183312893, time pass: 53s | CDVR MX2 KMNIST\n",
      "epoch: 600, loss: 2.0107615650, time pass: 65s | CDVR MX2 KMNIST\n",
      "epoch: 700, loss: 2.0043895006, time pass: 76s | CDVR MX2 KMNIST\n",
      "epoch: 800, loss: 1.9974762261, time pass: 88s | CDVR MX2 KMNIST\n",
      "epoch: 900, loss: 1.9906353176, time pass: 100s | CDVR MX2 KMNIST\n",
      "epoch: 1000, loss: 1.9830363035, time pass: 112s | CDVR MX2 KMNIST\n",
      "num_commun: 1, loss: 2.2992451906, time pass: 0s | CDVR MX2 KMNIST\n",
      "num_commun: 100, loss: 1.9233324885, time pass: 143s | CDVR MX2 KMNIST\n",
      "num_commun: 200, loss: 1.8433707654, time pass: 289s | CDVR MX2 KMNIST\n",
      "num_commun: 300, loss: 1.7898458958, time pass: 418s | CDVR MX2 KMNIST\n",
      "num_commun: 400, loss: 1.7315746129, time pass: 579s | CDVR MX2 KMNIST\n",
      "num_commun: 500, loss: 1.6845566571, time pass: 724s | CDVR MX2 KMNIST\n",
      "num_commun: 600, loss: 1.6372155786, time pass: 882s | CDVR MX2 KMNIST\n",
      "num_commun: 700, loss: 1.5914302409, time pass: 1048s | CDVR MX2 KMNIST\n",
      "num_commun: 800, loss: 1.5528157294, time pass: 1197s | CDVR MX2 KMNIST\n",
      "num_commun: 900, loss: 1.5205551982, time pass: 1332s | CDVR MX2 KMNIST\n",
      "num_commun: 1000, loss: 1.4866861820, time pass: 1491s | CDVR MX2 KMNIST\n",
      "prob1 is 0.70000\n",
      "eta is 0.01875\n",
      "epoch: 1, loss: 2.3015306711, time pass: 0s | CDVR MX2 KMNIST\n",
      "epoch: 100, loss: 2.2164308667, time pass: 12s | CDVR MX2 KMNIST\n",
      "epoch: 200, loss: 2.1506789923, time pass: 24s | CDVR MX2 KMNIST\n",
      "epoch: 300, loss: 2.1099754572, time pass: 36s | CDVR MX2 KMNIST\n",
      "epoch: 400, loss: 2.0861586154, time pass: 49s | CDVR MX2 KMNIST\n",
      "epoch: 500, loss: 2.0698147595, time pass: 61s | CDVR MX2 KMNIST\n",
      "epoch: 600, loss: 2.0580159664, time pass: 73s | CDVR MX2 KMNIST\n",
      "epoch: 700, loss: 2.0489060402, time pass: 85s | CDVR MX2 KMNIST\n",
      "epoch: 800, loss: 2.0429463685, time pass: 97s | CDVR MX2 KMNIST\n",
      "epoch: 900, loss: 2.0386676311, time pass: 110s | CDVR MX2 KMNIST\n",
      "epoch: 1000, loss: 2.0355581403, time pass: 124s | CDVR MX2 KMNIST\n",
      "num_commun: 1, loss: 2.3015306711, time pass: 0s | CDVR MX2 KMNIST\n",
      "num_commun: 100, loss: 2.1875988960, time pass: 20s | CDVR MX2 KMNIST\n",
      "num_commun: 200, loss: 2.1163991034, time pass: 36s | CDVR MX2 KMNIST\n",
      "num_commun: 300, loss: 2.0822148800, time pass: 52s | CDVR MX2 KMNIST\n",
      "num_commun: 400, loss: 2.0621000886, time pass: 68s | CDVR MX2 KMNIST\n",
      "num_commun: 500, loss: 2.0491720259, time pass: 83s | CDVR MX2 KMNIST\n",
      "num_commun: 600, loss: 2.0412020445, time pass: 98s | CDVR MX2 KMNIST\n",
      "num_commun: 700, loss: 2.0359425545, time pass: 114s | CDVR MX2 KMNIST\n",
      "num_commun: 800, loss: 2.0319115698, time pass: 129s | CDVR MX2 KMNIST\n",
      "num_commun: 900, loss: 2.0280676961, time pass: 145s | CDVR MX2 KMNIST\n",
      "num_commun: 1000, loss: 2.0245803416, time pass: 160s | CDVR MX2 KMNIST\n",
      "prob1 is 0.50000\n",
      "eta is 0.03125\n",
      "epoch: 1, loss: 2.3008289218, time pass: 0s | CDVR MX2 KMNIST\n",
      "epoch: 100, loss: 2.1747677088, time pass: 12s | CDVR MX2 KMNIST\n",
      "epoch: 200, loss: 2.0949592710, time pass: 24s | CDVR MX2 KMNIST\n",
      "epoch: 300, loss: 2.0620381892, time pass: 36s | CDVR MX2 KMNIST\n",
      "epoch: 400, loss: 2.0491880655, time pass: 49s | CDVR MX2 KMNIST\n",
      "epoch: 500, loss: 2.0416971505, time pass: 61s | CDVR MX2 KMNIST\n",
      "epoch: 600, loss: 2.0358110905, time pass: 73s | CDVR MX2 KMNIST\n",
      "epoch: 700, loss: 2.0309529722, time pass: 85s | CDVR MX2 KMNIST\n",
      "epoch: 800, loss: 2.0267108500, time pass: 98s | CDVR MX2 KMNIST\n",
      "epoch: 900, loss: 2.0226673663, time pass: 110s | CDVR MX2 KMNIST\n",
      "epoch: 1000, loss: 2.0185255766, time pass: 122s | CDVR MX2 KMNIST\n",
      "num_commun: 1, loss: 2.3008289218, time pass: 0s | CDVR MX2 KMNIST\n",
      "num_commun: 100, loss: 2.1011820674, time pass: 18s | CDVR MX2 KMNIST\n",
      "num_commun: 200, loss: 2.0511412621, time pass: 37s | CDVR MX2 KMNIST\n",
      "num_commun: 300, loss: 2.0372203410, time pass: 56s | CDVR MX2 KMNIST\n",
      "num_commun: 400, loss: 2.0285894275, time pass: 73s | CDVR MX2 KMNIST\n",
      "num_commun: 500, loss: 2.0195546031, time pass: 94s | CDVR MX2 KMNIST\n",
      "num_commun: 600, loss: 2.0104491115, time pass: 114s | CDVR MX2 KMNIST\n",
      "num_commun: 700, loss: 2.0032247841, time pass: 132s | CDVR MX2 KMNIST\n",
      "num_commun: 800, loss: 1.9951498330, time pass: 153s | CDVR MX2 KMNIST\n",
      "num_commun: 900, loss: 1.9883000016, time pass: 172s | CDVR MX2 KMNIST\n",
      "num_commun: 1000, loss: 1.9815409601, time pass: 191s | CDVR MX2 KMNIST\n",
      "prob1 is 0.30000\n",
      "eta is 0.04375\n",
      "epoch: 1, loss: 2.3001281381, time pass: 0s | CDVR MX2 KMNIST\n",
      "epoch: 100, loss: 2.1433301151, time pass: 12s | CDVR MX2 KMNIST\n",
      "epoch: 200, loss: 2.0639713526, time pass: 24s | CDVR MX2 KMNIST\n",
      "epoch: 300, loss: 2.0442934394, time pass: 36s | CDVR MX2 KMNIST\n",
      "epoch: 400, loss: 2.0372190714, time pass: 48s | CDVR MX2 KMNIST\n",
      "epoch: 500, loss: 2.0309125483, time pass: 60s | CDVR MX2 KMNIST\n",
      "epoch: 600, loss: 2.0250119865, time pass: 73s | CDVR MX2 KMNIST\n",
      "epoch: 700, loss: 2.0192616820, time pass: 85s | CDVR MX2 KMNIST\n",
      "epoch: 800, loss: 2.0135151029, time pass: 97s | CDVR MX2 KMNIST\n",
      "epoch: 900, loss: 2.0079245508, time pass: 109s | CDVR MX2 KMNIST\n",
      "epoch: 1000, loss: 2.0024767339, time pass: 122s | CDVR MX2 KMNIST\n",
      "num_commun: 1, loss: 2.3001281381, time pass: 0s | CDVR MX2 KMNIST\n",
      "num_commun: 100, loss: 2.0447217584, time pass: 25s | CDVR MX2 KMNIST\n",
      "num_commun: 200, loss: 2.0242138445, time pass: 52s | CDVR MX2 KMNIST\n",
      "num_commun: 300, loss: 2.0051715910, time pass: 80s | CDVR MX2 KMNIST\n",
      "num_commun: 400, loss: 1.9867873609, time pass: 111s | CDVR MX2 KMNIST\n",
      "num_commun: 500, loss: 1.9707933187, time pass: 140s | CDVR MX2 KMNIST\n",
      "num_commun: 600, loss: 1.9565695822, time pass: 168s | CDVR MX2 KMNIST\n",
      "num_commun: 700, loss: 1.9442270577, time pass: 194s | CDVR MX2 KMNIST\n",
      "num_commun: 800, loss: 1.9314546645, time pass: 223s | CDVR MX2 KMNIST\n",
      "num_commun: 900, loss: 1.9208113670, time pass: 250s | CDVR MX2 KMNIST\n",
      "num_commun: 1000, loss: 1.9096841574, time pass: 279s | CDVR MX2 KMNIST\n",
      "prob1 is 0.10000\n",
      "eta is 0.05625\n",
      "epoch: 1, loss: 2.2994282484, time pass: 0s | CDVR MX2 KMNIST\n",
      "epoch: 100, loss: 2.1195533931, time pass: 12s | CDVR MX2 KMNIST\n",
      "epoch: 200, loss: 2.0474014997, time pass: 24s | CDVR MX2 KMNIST\n",
      "epoch: 300, loss: 2.0408184052, time pass: 36s | CDVR MX2 KMNIST\n",
      "epoch: 400, loss: 2.0312523007, time pass: 48s | CDVR MX2 KMNIST\n",
      "epoch: 500, loss: 2.0215828776, time pass: 61s | CDVR MX2 KMNIST\n",
      "epoch: 600, loss: 2.0140634358, time pass: 73s | CDVR MX2 KMNIST\n",
      "epoch: 700, loss: 2.0075799525, time pass: 85s | CDVR MX2 KMNIST\n",
      "epoch: 800, loss: 2.0006341636, time pass: 97s | CDVR MX2 KMNIST\n",
      "epoch: 900, loss: 1.9940761507, time pass: 110s | CDVR MX2 KMNIST\n",
      "epoch: 1000, loss: 1.9870407283, time pass: 122s | CDVR MX2 KMNIST\n",
      "num_commun: 1, loss: 2.2994282484, time pass: 0s | CDVR MX2 KMNIST\n",
      "num_commun: 100, loss: 1.9809712112, time pass: 79s | CDVR MX2 KMNIST\n",
      "num_commun: 200, loss: 1.9251779556, time pass: 159s | CDVR MX2 KMNIST\n",
      "num_commun: 300, loss: 1.8906018972, time pass: 223s | CDVR MX2 KMNIST\n",
      "num_commun: 400, loss: 1.8544425905, time pass: 300s | CDVR MX2 KMNIST\n",
      "num_commun: 500, loss: 1.8276458800, time pass: 368s | CDVR MX2 KMNIST\n",
      "num_commun: 600, loss: 1.8005620718, time pass: 441s | CDVR MX2 KMNIST\n",
      "num_commun: 700, loss: 1.7754609227, time pass: 514s | CDVR MX2 KMNIST\n",
      "num_commun: 800, loss: 1.7498274446, time pass: 592s | CDVR MX2 KMNIST\n",
      "num_commun: 900, loss: 1.7262230575, time pass: 672s | CDVR MX2 KMNIST\n",
      "num_commun: 1000, loss: 1.7059807301, time pass: 740s | CDVR MX2 KMNIST\n"
     ]
    }
   ],
   "source": [
    "prob1_list = [L_w / (L_w + L_beta), 0.7, 0.5, 0.3, 0.1]\n",
    "MX2_KMNIST_CDVR_iter_result = []\n",
    "MX2_KMNIST_CDVR_commun_result = []\n",
    "\n",
    "for prob1 in prob1_list:\n",
    "    print(\"prob1 is {:.5f}\".format(prob1))\n",
    "    \n",
    "    eta = 1 / (8 * max(L_w/prob1, L_beta/(1-prob1)))\n",
    "    \n",
    "    print(\"eta is {:.5f}\".format(eta))\n",
    "    loss_MX2_KMNIST_CDVR_iter, _, _ = MX2.train_CDVR_iter(w0, beta0, n_communs, devices_train_list, \n",
    "                                                         train_loader_list, lambda_penal, repo_step, \n",
    "                                                         eta, prob1, obj, data_name, rho)\n",
    "    MX2_KMNIST_CDVR_iter_result.append(loss_MX2_KMNIST_CDVR_iter)\n",
    "    loss_MX2_KMNIST_CDVR_commun, _, _ = MX2.train_CDVR_commun(w0, beta0, n_epochs, devices_train_list, \n",
    "                                                             train_loader_list, lambda_penal, repo_step, \n",
    "                                                             eta, prob1, obj, data_name, rho)\n",
    "    MX2_KMNIST_CDVR_commun_result.append(loss_MX2_KMNIST_CDVR_commun)"
   ]
  },
  {
   "cell_type": "code",
   "execution_count": 8,
   "metadata": {},
   "outputs": [],
   "source": [
    "with open(\"./result/MX2_KMNIST_CDVR_iter_result.txt\", \"wb\") as f:   #Pickling\n",
    "    pickle.dump(MX2_KMNIST_CDVR_iter_result, f)\n",
    "    \n",
    "with open(\"./result/MX2_KMNIST_CDVR_commun_result.txt\", \"wb\") as f:   #Pickling\n",
    "    pickle.dump(MX2_KMNIST_CDVR_commun_result, f)"
   ]
  }
 ],
 "metadata": {
  "kernelspec": {
   "display_name": "Python 3",
   "language": "python",
   "name": "python3"
  },
  "language_info": {
   "codemirror_mode": {
    "name": "ipython",
    "version": 3
   },
   "file_extension": ".py",
   "mimetype": "text/x-python",
   "name": "python",
   "nbconvert_exporter": "python",
   "pygments_lexer": "ipython3",
   "version": "3.8.3"
  }
 },
 "nbformat": 4,
 "nbformat_minor": 4
}

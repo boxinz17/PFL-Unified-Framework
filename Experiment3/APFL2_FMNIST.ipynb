{
 "cells": [
  {
   "cell_type": "code",
   "execution_count": 1,
   "metadata": {},
   "outputs": [
    {
     "data": {
      "text/plain": [
       "<torch._C.Generator at 0x1567b1f1f30>"
      ]
     },
     "execution_count": 1,
     "metadata": {},
     "output_type": "execute_result"
    }
   ],
   "source": [
    "# Load packages and set up default settings\n",
    "%matplotlib inline\n",
    "from matplotlib import pyplot as plt\n",
    "import numpy as np\n",
    "import torch\n",
    "import torch.nn as nn\n",
    "import datetime\n",
    "import pickle\n",
    "\n",
    "import data_load\n",
    "import APFL2\n",
    "\n",
    "torch.set_printoptions(edgeitems=2, linewidth=75)\n",
    "torch.manual_seed(123)"
   ]
  },
  {
   "cell_type": "code",
   "execution_count": 2,
   "metadata": {},
   "outputs": [
    {
     "name": "stdout",
     "output_type": "stream",
     "text": [
      "Training on device cuda.\n"
     ]
    }
   ],
   "source": [
    "device = (torch.device('cuda') if torch.cuda.is_available()\n",
    "          else torch.device('cpu'))\n",
    "print(f\"Training on device {device}.\")"
   ]
  },
  {
   "cell_type": "code",
   "execution_count": 3,
   "metadata": {},
   "outputs": [],
   "source": [
    "# Initialize all parameters\n",
    "lambda_global = 10\n",
    "\n",
    "M = 10\n",
    "n_samples = 100\n",
    "\n",
    "obj = 'APFL2'\n",
    "data_name = 'FMNIST'\n",
    "\n",
    "alpha_list = [0.2] * M\n",
    "\n",
    "L_w = (lambda_global + 0.2 ** 2) * 1 / M\n",
    "L_beta = ((1-0.2) ** 2 ) * 1 / M\n",
    "\n",
    "rho = 0.01\n",
    "\n",
    "n_communs = 1000\n",
    "n_epochs = 1000\n",
    "repo_step = 100\n",
    "sync_step = 5\n",
    "\n",
    "w0 = [torch.zeros(10, 784).to(device), torch.zeros(10).to(device)]\n",
    "\n",
    "beta0 = []\n",
    "for m in range(M):\n",
    "    beta0.append([torch.zeros(10, 784).to(device), torch.zeros(10).to(device)])\n",
    "    \n",
    "w_list0 = []\n",
    "for m in range(M):\n",
    "    w_list0.append([torch.zeros(10, 784).to(device), torch.zeros(10).to(device)])\n",
    "\n",
    "beta_list0 = []\n",
    "for m in range(M):\n",
    "    beta_list0.append([torch.zeros(10, 784).to(device), torch.zeros(10).to(device)])"
   ]
  },
  {
   "cell_type": "code",
   "execution_count": 4,
   "metadata": {},
   "outputs": [
    {
     "name": "stdout",
     "output_type": "stream",
     "text": [
      "L_w is: 1.004\n",
      "L_beta is 0.06400000000000002\n",
      "rho is 0.01\n",
      "n_communs is 1000\n",
      "n_epochs is 1000\n",
      "sync_step is 5\n"
     ]
    }
   ],
   "source": [
    "print(\"L_w is: {}\".format(L_w))\n",
    "print(\"L_beta is {}\".format(L_beta))\n",
    "print(\"rho is {}\".format(rho))\n",
    "print(\"n_communs is {}\".format(n_communs))\n",
    "print(\"n_epochs is {}\".format(n_epochs))\n",
    "print(\"sync_step is {}\".format(sync_step))"
   ]
  },
  {
   "cell_type": "code",
   "execution_count": 5,
   "metadata": {},
   "outputs": [],
   "source": [
    "train_loader_list, devices_train_list = data_load.data_prepare(data_name, n_devices=M, n_samples=n_samples)"
   ]
  },
  {
   "cell_type": "code",
   "execution_count": 7,
   "metadata": {},
   "outputs": [
    {
     "name": "stdout",
     "output_type": "stream",
     "text": [
      "prob1 is 0.94007\n",
      "eta is 0.11704\n",
      "epoch: 1, loss: 25.2601943016, time pass: 0s | CDVR APFL2 FMNIST\n",
      "epoch: 100, loss: 21.3406201363, time pass: 9s | CDVR APFL2 FMNIST\n",
      "epoch: 200, loss: 19.0269712925, time pass: 18s | CDVR APFL2 FMNIST\n",
      "epoch: 300, loss: 17.3975567818, time pass: 28s | CDVR APFL2 FMNIST\n",
      "epoch: 400, loss: 15.8377549648, time pass: 39s | CDVR APFL2 FMNIST\n",
      "epoch: 500, loss: 14.7407558441, time pass: 51s | CDVR APFL2 FMNIST\n",
      "epoch: 600, loss: 13.8793120384, time pass: 64s | CDVR APFL2 FMNIST\n",
      "epoch: 700, loss: 13.1492315292, time pass: 76s | CDVR APFL2 FMNIST\n",
      "epoch: 800, loss: 12.4542195082, time pass: 88s | CDVR APFL2 FMNIST\n",
      "epoch: 900, loss: 11.8755526781, time pass: 100s | CDVR APFL2 FMNIST\n",
      "epoch: 1000, loss: 11.3837199688, time pass: 113s | CDVR APFL2 FMNIST\n",
      "num_commun: 1, loss: 25.2601943016, time pass: 0s | CDVR APFL2 FMNIST\n",
      "num_commun: 100, loss: 21.2602978706, time pass: 12s | CDVR APFL2 FMNIST\n",
      "num_commun: 200, loss: 18.8979665279, time pass: 25s | CDVR APFL2 FMNIST\n",
      "num_commun: 300, loss: 17.1693841457, time pass: 37s | CDVR APFL2 FMNIST\n",
      "num_commun: 400, loss: 15.5445179939, time pass: 51s | CDVR APFL2 FMNIST\n",
      "num_commun: 500, loss: 14.4765141487, time pass: 64s | CDVR APFL2 FMNIST\n",
      "num_commun: 600, loss: 13.6384886980, time pass: 77s | CDVR APFL2 FMNIST\n",
      "num_commun: 700, loss: 12.9016211033, time pass: 90s | CDVR APFL2 FMNIST\n",
      "num_commun: 800, loss: 12.1907682180, time pass: 103s | CDVR APFL2 FMNIST\n",
      "num_commun: 900, loss: 11.6191958904, time pass: 116s | CDVR APFL2 FMNIST\n",
      "num_commun: 1000, loss: 11.1334304810, time pass: 129s | CDVR APFL2 FMNIST\n",
      "1000\n",
      "prob1 is 0.70000\n",
      "eta is 0.08715\n",
      "epoch: 1, loss: 25.2775655746, time pass: 0s | CDVR APFL2 FMNIST\n",
      "epoch: 100, loss: 22.0638223648, time pass: 12s | CDVR APFL2 FMNIST\n",
      "epoch: 200, loss: 20.0558973312, time pass: 25s | CDVR APFL2 FMNIST\n",
      "epoch: 300, loss: 18.6018582821, time pass: 37s | CDVR APFL2 FMNIST\n",
      "epoch: 400, loss: 17.2643193245, time pass: 50s | CDVR APFL2 FMNIST\n",
      "epoch: 500, loss: 16.2071967125, time pass: 62s | CDVR APFL2 FMNIST\n",
      "epoch: 600, loss: 15.3272928715, time pass: 74s | CDVR APFL2 FMNIST\n",
      "epoch: 700, loss: 14.5616618633, time pass: 87s | CDVR APFL2 FMNIST\n",
      "epoch: 800, loss: 13.8738505840, time pass: 99s | CDVR APFL2 FMNIST\n",
      "epoch: 900, loss: 13.2758223534, time pass: 111s | CDVR APFL2 FMNIST\n",
      "epoch: 1000, loss: 12.7668797016, time pass: 124s | CDVR APFL2 FMNIST\n",
      "num_commun: 1, loss: 25.2775655746, time pass: 0s | CDVR APFL2 FMNIST\n",
      "num_commun: 100, loss: 21.0742771149, time pass: 15s | CDVR APFL2 FMNIST\n",
      "num_commun: 200, loss: 18.8965363979, time pass: 30s | CDVR APFL2 FMNIST\n",
      "num_commun: 300, loss: 17.0163661003, time pass: 46s | CDVR APFL2 FMNIST\n",
      "num_commun: 400, loss: 15.6267774582, time pass: 62s | CDVR APFL2 FMNIST\n",
      "num_commun: 500, loss: 14.5832073689, time pass: 77s | CDVR APFL2 FMNIST\n",
      "num_commun: 600, loss: 13.6416146755, time pass: 92s | CDVR APFL2 FMNIST\n",
      "num_commun: 700, loss: 12.8307112217, time pass: 108s | CDVR APFL2 FMNIST\n",
      "num_commun: 800, loss: 12.2148322344, time pass: 124s | CDVR APFL2 FMNIST\n",
      "num_commun: 900, loss: 11.6944651127, time pass: 140s | CDVR APFL2 FMNIST\n",
      "num_commun: 1000, loss: 11.2794273853, time pass: 156s | CDVR APFL2 FMNIST\n",
      "1000\n",
      "prob1 is 0.50000\n",
      "eta is 0.06225\n",
      "epoch: 1, loss: 25.2920651436, time pass: 0s | CDVR APFL2 FMNIST\n",
      "epoch: 100, loss: 22.7740436554, time pass: 12s | CDVR APFL2 FMNIST\n",
      "epoch: 200, loss: 21.0322619438, time pass: 24s | CDVR APFL2 FMNIST\n",
      "epoch: 300, loss: 19.8096797943, time pass: 37s | CDVR APFL2 FMNIST\n",
      "epoch: 400, loss: 18.7249229908, time pass: 50s | CDVR APFL2 FMNIST\n",
      "epoch: 500, loss: 17.7849777222, time pass: 62s | CDVR APFL2 FMNIST\n",
      "epoch: 600, loss: 16.9535756588, time pass: 75s | CDVR APFL2 FMNIST\n",
      "epoch: 700, loss: 16.2094702721, time pass: 87s | CDVR APFL2 FMNIST\n",
      "epoch: 800, loss: 15.5423204422, time pass: 100s | CDVR APFL2 FMNIST\n",
      "epoch: 900, loss: 14.9449900627, time pass: 112s | CDVR APFL2 FMNIST\n",
      "epoch: 1000, loss: 14.4338109493, time pass: 125s | CDVR APFL2 FMNIST\n",
      "num_commun: 1, loss: 25.2920651436, time pass: 0s | CDVR APFL2 FMNIST\n",
      "num_commun: 100, loss: 21.2000527382, time pass: 19s | CDVR APFL2 FMNIST\n",
      "num_commun: 200, loss: 18.9496849537, time pass: 38s | CDVR APFL2 FMNIST\n",
      "num_commun: 300, loss: 17.1572016239, time pass: 58s | CDVR APFL2 FMNIST\n",
      "num_commun: 400, loss: 15.8357508183, time pass: 77s | CDVR APFL2 FMNIST\n",
      "num_commun: 500, loss: 14.5454287529, time pass: 98s | CDVR APFL2 FMNIST\n",
      "num_commun: 600, loss: 13.6006227493, time pass: 119s | CDVR APFL2 FMNIST\n",
      "num_commun: 700, loss: 12.9379638910, time pass: 139s | CDVR APFL2 FMNIST\n",
      "num_commun: 800, loss: 12.2826627970, time pass: 160s | CDVR APFL2 FMNIST\n",
      "num_commun: 900, loss: 11.7905755758, time pass: 180s | CDVR APFL2 FMNIST\n",
      "num_commun: 1000, loss: 11.3452354193, time pass: 199s | CDVR APFL2 FMNIST\n",
      "1000\n",
      "prob1 is 0.30000\n",
      "eta is 0.03735\n",
      "epoch: 1, loss: 25.3065931320, time pass: 0s | CDVR APFL2 FMNIST\n",
      "epoch: 100, loss: 23.6071595192, time pass: 12s | CDVR APFL2 FMNIST\n",
      "epoch: 200, loss: 22.2799376488, time pass: 25s | CDVR APFL2 FMNIST\n",
      "epoch: 300, loss: 21.3393760681, time pass: 37s | CDVR APFL2 FMNIST\n",
      "epoch: 400, loss: 20.5485097885, time pass: 50s | CDVR APFL2 FMNIST\n",
      "epoch: 500, loss: 19.8276470184, time pass: 63s | CDVR APFL2 FMNIST\n",
      "epoch: 600, loss: 19.1576561451, time pass: 75s | CDVR APFL2 FMNIST\n",
      "epoch: 700, loss: 18.5296541214, time pass: 88s | CDVR APFL2 FMNIST\n",
      "epoch: 800, loss: 17.9519232750, time pass: 100s | CDVR APFL2 FMNIST\n",
      "epoch: 900, loss: 17.4201236725, time pass: 113s | CDVR APFL2 FMNIST\n",
      "epoch: 1000, loss: 16.9503678799, time pass: 126s | CDVR APFL2 FMNIST\n",
      "num_commun: 1, loss: 25.3065931320, time pass: 0s | CDVR APFL2 FMNIST\n",
      "num_commun: 100, loss: 21.3836236954, time pass: 26s | CDVR APFL2 FMNIST\n",
      "num_commun: 200, loss: 19.0665372372, time pass: 55s | CDVR APFL2 FMNIST\n",
      "num_commun: 300, loss: 17.1742638588, time pass: 85s | CDVR APFL2 FMNIST\n",
      "num_commun: 400, loss: 15.7038223743, time pass: 117s | CDVR APFL2 FMNIST\n",
      "num_commun: 500, loss: 14.5985199928, time pass: 148s | CDVR APFL2 FMNIST\n",
      "num_commun: 600, loss: 13.7286499500, time pass: 178s | CDVR APFL2 FMNIST\n",
      "num_commun: 700, loss: 13.0356616497, time pass: 207s | CDVR APFL2 FMNIST\n",
      "num_commun: 800, loss: 12.3918121576, time pass: 240s | CDVR APFL2 FMNIST\n",
      "num_commun: 900, loss: 11.9006534815, time pass: 268s | CDVR APFL2 FMNIST\n",
      "num_commun: 1000, loss: 11.4262833118, time pass: 299s | CDVR APFL2 FMNIST\n",
      "1000\n",
      "prob1 is 0.10000\n",
      "eta is 0.01245\n",
      "epoch: 1, loss: 25.3211481094, time pass: 0s | CDVR APFL2 FMNIST\n",
      "epoch: 100, loss: 24.6637838364, time pass: 12s | CDVR APFL2 FMNIST\n",
      "epoch: 200, loss: 24.0665687561, time pass: 25s | CDVR APFL2 FMNIST\n",
      "epoch: 300, loss: 23.5687239647, time pass: 38s | CDVR APFL2 FMNIST\n",
      "epoch: 400, loss: 23.1340759277, time pass: 51s | CDVR APFL2 FMNIST\n",
      "epoch: 500, loss: 22.7365530968, time pass: 63s | CDVR APFL2 FMNIST\n",
      "epoch: 600, loss: 22.3626817703, time pass: 76s | CDVR APFL2 FMNIST\n",
      "epoch: 700, loss: 22.0117867470, time pass: 88s | CDVR APFL2 FMNIST\n",
      "epoch: 800, loss: 21.6855711937, time pass: 101s | CDVR APFL2 FMNIST\n",
      "epoch: 900, loss: 21.3786066055, time pass: 115s | CDVR APFL2 FMNIST\n",
      "epoch: 1000, loss: 21.0969847679, time pass: 128s | CDVR APFL2 FMNIST\n",
      "num_commun: 1, loss: 25.3211481094, time pass: 0s | CDVR APFL2 FMNIST\n",
      "num_commun: 100, loss: 20.8501498222, time pass: 85s | CDVR APFL2 FMNIST\n",
      "num_commun: 200, loss: 18.4427567959, time pass: 175s | CDVR APFL2 FMNIST\n",
      "num_commun: 300, loss: 17.0054410934, time pass: 247s | CDVR APFL2 FMNIST\n",
      "num_commun: 400, loss: 15.5965978146, time pass: 331s | CDVR APFL2 FMNIST\n",
      "num_commun: 500, loss: 14.6451983929, time pass: 402s | CDVR APFL2 FMNIST\n",
      "num_commun: 600, loss: 13.7767703056, time pass: 481s | CDVR APFL2 FMNIST\n",
      "num_commun: 700, loss: 13.0538789272, time pass: 559s | CDVR APFL2 FMNIST\n",
      "num_commun: 800, loss: 12.3920714140, time pass: 643s | CDVR APFL2 FMNIST\n",
      "num_commun: 900, loss: 11.8462211370, time pass: 725s | CDVR APFL2 FMNIST\n",
      "num_commun: 1000, loss: 11.4199455738, time pass: 791s | CDVR APFL2 FMNIST\n",
      "1000\n"
     ]
    }
   ],
   "source": [
    "prob1_list = [L_w / (L_w + L_beta), 0.7, 0.5, 0.3, 0.1]\n",
    "APFL2_FMNIST_CDVR_iter_result = []\n",
    "APFL2_FMNIST_CDVR_commun_result = []\n",
    "\n",
    "for prob1 in prob1_list:\n",
    "    print(\"prob1 is {:.5f}\".format(prob1))\n",
    "    \n",
    "    eta = 1 / (8 * max(L_w/prob1, L_beta/(1-prob1)))\n",
    "    \n",
    "    print(\"eta is {:.5f}\".format(eta))\n",
    "    \n",
    "    loss_APFL2_FMNIST_CDVR_iter, _, _ = APFL2.train_CDVR_iter(w0, beta0,n_communs, devices_train_list, \n",
    "                                                             train_loader_list, lambda_global, repo_step, \n",
    "                                                             eta, prob1, rho, alpha_list, obj, data_name)\n",
    "    APFL2_FMNIST_CDVR_iter_result.append(loss_APFL2_FMNIST_CDVR_iter)\n",
    "    loss_APFL2_FMNIST_CDVR_commun, _, _ = APFL2.train_CDVR_commun(w0, beta0,n_communs, devices_train_list, \n",
    "                                                                 train_loader_list, lambda_global, repo_step, \n",
    "                                                                 eta, prob1, rho, alpha_list, obj, data_name)\n",
    "    APFL2_FMNIST_CDVR_commun_result.append(loss_APFL2_FMNIST_CDVR_commun)\n",
    "    print(len(loss_APFL2_FMNIST_CDVR_commun))"
   ]
  },
  {
   "cell_type": "code",
   "execution_count": 8,
   "metadata": {},
   "outputs": [],
   "source": [
    "with open(\"./result/APFL2_FMNIST_CDVR_iter_result.txt\", \"wb\") as f:   #Pickling\n",
    "    pickle.dump(APFL2_FMNIST_CDVR_iter_result, f)\n",
    "    \n",
    "with open(\"./result/APFL2_FMNIST_CDVR_commun_result.txt\", \"wb\") as f:   #Pickling\n",
    "    pickle.dump(APFL2_FMNIST_CDVR_commun_result, f)"
   ]
  }
 ],
 "metadata": {
  "kernelspec": {
   "display_name": "Python 3",
   "language": "python",
   "name": "python3"
  },
  "language_info": {
   "codemirror_mode": {
    "name": "ipython",
    "version": 3
   },
   "file_extension": ".py",
   "mimetype": "text/x-python",
   "name": "python",
   "nbconvert_exporter": "python",
   "pygments_lexer": "ipython3",
   "version": "3.8.3"
  }
 },
 "nbformat": 4,
 "nbformat_minor": 4
}

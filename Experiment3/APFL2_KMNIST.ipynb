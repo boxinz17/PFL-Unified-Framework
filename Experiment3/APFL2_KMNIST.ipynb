{
 "cells": [
  {
   "cell_type": "code",
   "execution_count": 1,
   "metadata": {},
   "outputs": [
    {
     "data": {
      "text/plain": [
       "<torch._C.Generator at 0x18451851f30>"
      ]
     },
     "execution_count": 1,
     "metadata": {},
     "output_type": "execute_result"
    }
   ],
   "source": [
    "# Load packages and set up default settings\n",
    "%matplotlib inline\n",
    "from matplotlib import pyplot as plt\n",
    "import numpy as np\n",
    "import torch\n",
    "import torch.nn as nn\n",
    "import datetime\n",
    "import pickle\n",
    "\n",
    "import data_load\n",
    "import APFL2\n",
    "\n",
    "torch.set_printoptions(edgeitems=2, linewidth=75)\n",
    "torch.manual_seed(123)"
   ]
  },
  {
   "cell_type": "code",
   "execution_count": 2,
   "metadata": {},
   "outputs": [
    {
     "name": "stdout",
     "output_type": "stream",
     "text": [
      "Training on device cuda.\n"
     ]
    }
   ],
   "source": [
    "device = (torch.device('cuda') if torch.cuda.is_available()\n",
    "          else torch.device('cpu'))\n",
    "print(f\"Training on device {device}.\")"
   ]
  },
  {
   "cell_type": "code",
   "execution_count": 3,
   "metadata": {},
   "outputs": [],
   "source": [
    "# Initialize all parameters\n",
    "lambda_global = 10\n",
    "\n",
    "M = 10\n",
    "n_samples = 100\n",
    "\n",
    "obj = 'APFL2'\n",
    "data_name = 'KMNIST'\n",
    "\n",
    "alpha_list = [0.2] * M\n",
    "\n",
    "L_w = (lambda_global + 0.2 ** 2) * 1 / M\n",
    "L_beta = ((1-0.2) ** 2 ) * 1 / M\n",
    "\n",
    "rho = 0.01\n",
    "\n",
    "n_communs = 1000\n",
    "n_epochs = 1000\n",
    "repo_step = 100\n",
    "sync_step = 5\n",
    "\n",
    "w0 = [torch.zeros(10, 784).to(device), torch.zeros(10).to(device)]\n",
    "\n",
    "beta0 = []\n",
    "for m in range(M):\n",
    "    beta0.append([torch.zeros(10, 784).to(device), torch.zeros(10).to(device)])\n",
    "    \n",
    "w_list0 = []\n",
    "for m in range(M):\n",
    "    w_list0.append([torch.zeros(10, 784).to(device), torch.zeros(10).to(device)])\n",
    "\n",
    "beta_list0 = []\n",
    "for m in range(M):\n",
    "    beta_list0.append([torch.zeros(10, 784).to(device), torch.zeros(10).to(device)])"
   ]
  },
  {
   "cell_type": "code",
   "execution_count": 4,
   "metadata": {},
   "outputs": [
    {
     "name": "stdout",
     "output_type": "stream",
     "text": [
      "L_w is: 1.004\n",
      "L_beta is 0.06400000000000002\n",
      "rho is 0.01\n",
      "n_communs is 1000\n",
      "n_epochs is 1000\n",
      "sync_step is 5\n"
     ]
    }
   ],
   "source": [
    "print(\"L_w is: {}\".format(L_w))\n",
    "print(\"L_beta is {}\".format(L_beta))\n",
    "print(\"rho is {}\".format(rho))\n",
    "print(\"n_communs is {}\".format(n_communs))\n",
    "print(\"n_epochs is {}\".format(n_epochs))\n",
    "print(\"sync_step is {}\".format(sync_step))"
   ]
  },
  {
   "cell_type": "code",
   "execution_count": 5,
   "metadata": {},
   "outputs": [],
   "source": [
    "train_loader_list, devices_train_list = data_load.data_prepare(data_name, n_devices=M, n_samples=n_samples)"
   ]
  },
  {
   "cell_type": "code",
   "execution_count": 7,
   "metadata": {},
   "outputs": [
    {
     "name": "stdout",
     "output_type": "stream",
     "text": [
      "prob1 is 0.94007\n",
      "eta is 0.11704\n",
      "epoch: 1, loss: 25.2795491219, time pass: 0s | CDVR APFL2 KMNIST\n",
      "epoch: 100, loss: 22.4642164230, time pass: 8s | CDVR APFL2 KMNIST\n",
      "epoch: 200, loss: 20.8371619225, time pass: 17s | CDVR APFL2 KMNIST\n",
      "epoch: 300, loss: 19.6392883778, time pass: 27s | CDVR APFL2 KMNIST\n",
      "epoch: 400, loss: 18.3831287384, time pass: 38s | CDVR APFL2 KMNIST\n",
      "epoch: 500, loss: 17.3925869465, time pass: 50s | CDVR APFL2 KMNIST\n",
      "epoch: 600, loss: 16.5547383785, time pass: 62s | CDVR APFL2 KMNIST\n",
      "epoch: 700, loss: 15.8117887497, time pass: 74s | CDVR APFL2 KMNIST\n",
      "epoch: 800, loss: 15.1104201317, time pass: 86s | CDVR APFL2 KMNIST\n",
      "epoch: 900, loss: 14.4991574287, time pass: 99s | CDVR APFL2 KMNIST\n",
      "epoch: 1000, loss: 13.9647968292, time pass: 111s | CDVR APFL2 KMNIST\n",
      "num_commun: 1, loss: 25.2795491219, time pass: 0s | CDVR APFL2 KMNIST\n",
      "num_commun: 100, loss: 22.4090167046, time pass: 12s | CDVR APFL2 KMNIST\n",
      "num_commun: 200, loss: 20.7464145660, time pass: 25s | CDVR APFL2 KMNIST\n",
      "num_commun: 300, loss: 19.4654407501, time pass: 38s | CDVR APFL2 KMNIST\n",
      "num_commun: 400, loss: 18.1289895535, time pass: 51s | CDVR APFL2 KMNIST\n",
      "num_commun: 500, loss: 17.1406149387, time pass: 64s | CDVR APFL2 KMNIST\n",
      "num_commun: 600, loss: 16.3140385628, time pass: 77s | CDVR APFL2 KMNIST\n",
      "num_commun: 700, loss: 15.5565173626, time pass: 89s | CDVR APFL2 KMNIST\n",
      "num_commun: 800, loss: 14.8365921974, time pass: 102s | CDVR APFL2 KMNIST\n",
      "num_commun: 900, loss: 14.2200882435, time pass: 115s | CDVR APFL2 KMNIST\n",
      "num_commun: 1000, loss: 13.6752384186, time pass: 129s | CDVR APFL2 KMNIST\n",
      "1000\n",
      "prob1 is 0.70000\n",
      "eta is 0.08715\n",
      "epoch: 1, loss: 25.2919949532, time pass: 0s | CDVR APFL2 KMNIST\n",
      "epoch: 100, loss: 22.9780278206, time pass: 12s | CDVR APFL2 KMNIST\n",
      "epoch: 200, loss: 21.5585189819, time pass: 24s | CDVR APFL2 KMNIST\n",
      "epoch: 300, loss: 20.5367624760, time pass: 37s | CDVR APFL2 KMNIST\n",
      "epoch: 400, loss: 19.5294033527, time pass: 49s | CDVR APFL2 KMNIST\n",
      "epoch: 500, loss: 18.6604636669, time pass: 62s | CDVR APFL2 KMNIST\n",
      "epoch: 600, loss: 17.8945549965, time pass: 74s | CDVR APFL2 KMNIST\n",
      "epoch: 700, loss: 17.1951418877, time pass: 87s | CDVR APFL2 KMNIST\n",
      "epoch: 800, loss: 16.5506443977, time pass: 99s | CDVR APFL2 KMNIST\n",
      "epoch: 900, loss: 15.9703265667, time pass: 111s | CDVR APFL2 KMNIST\n",
      "epoch: 1000, loss: 15.4577517986, time pass: 124s | CDVR APFL2 KMNIST\n",
      "num_commun: 1, loss: 25.2919949532, time pass: 0s | CDVR APFL2 KMNIST\n",
      "num_commun: 100, loss: 22.2774464607, time pass: 15s | CDVR APFL2 KMNIST\n",
      "num_commun: 200, loss: 20.7455292702, time pass: 30s | CDVR APFL2 KMNIST\n",
      "num_commun: 300, loss: 19.3319732666, time pass: 46s | CDVR APFL2 KMNIST\n",
      "num_commun: 400, loss: 18.1583405018, time pass: 62s | CDVR APFL2 KMNIST\n",
      "num_commun: 500, loss: 17.2155744553, time pass: 77s | CDVR APFL2 KMNIST\n",
      "num_commun: 600, loss: 16.3287790298, time pass: 92s | CDVR APFL2 KMNIST\n",
      "num_commun: 700, loss: 15.5238059044, time pass: 108s | CDVR APFL2 KMNIST\n",
      "num_commun: 800, loss: 14.8632350445, time pass: 124s | CDVR APFL2 KMNIST\n",
      "num_commun: 900, loss: 14.2814537525, time pass: 140s | CDVR APFL2 KMNIST\n",
      "num_commun: 1000, loss: 13.8036913872, time pass: 156s | CDVR APFL2 KMNIST\n",
      "1000\n",
      "prob1 is 0.50000\n",
      "eta is 0.06225\n",
      "epoch: 1, loss: 25.3023852348, time pass: 0s | CDVR APFL2 KMNIST\n",
      "epoch: 100, loss: 23.4880863190, time pass: 12s | CDVR APFL2 KMNIST\n",
      "epoch: 200, loss: 22.2414486885, time pass: 24s | CDVR APFL2 KMNIST\n",
      "epoch: 300, loss: 21.3917901993, time pass: 37s | CDVR APFL2 KMNIST\n",
      "epoch: 400, loss: 20.6207703114, time pass: 50s | CDVR APFL2 KMNIST\n",
      "epoch: 500, loss: 19.9130537987, time pass: 62s | CDVR APFL2 KMNIST\n",
      "epoch: 600, loss: 19.2578964233, time pass: 75s | CDVR APFL2 KMNIST\n",
      "epoch: 700, loss: 18.6468001366, time pass: 88s | CDVR APFL2 KMNIST\n",
      "epoch: 800, loss: 18.0797820568, time pass: 100s | CDVR APFL2 KMNIST\n",
      "epoch: 900, loss: 17.5557399750, time pass: 113s | CDVR APFL2 KMNIST\n",
      "epoch: 1000, loss: 17.0865380764, time pass: 125s | CDVR APFL2 KMNIST\n",
      "num_commun: 1, loss: 25.3023852348, time pass: 0s | CDVR APFL2 KMNIST\n",
      "num_commun: 100, loss: 22.3601128578, time pass: 19s | CDVR APFL2 KMNIST\n",
      "num_commun: 200, loss: 20.7844455719, time pass: 38s | CDVR APFL2 KMNIST\n",
      "num_commun: 300, loss: 19.4198302746, time pass: 58s | CDVR APFL2 KMNIST\n",
      "num_commun: 400, loss: 18.3303315639, time pass: 76s | CDVR APFL2 KMNIST\n",
      "num_commun: 500, loss: 17.1920021534, time pass: 98s | CDVR APFL2 KMNIST\n",
      "num_commun: 600, loss: 16.2748891830, time pass: 119s | CDVR APFL2 KMNIST\n",
      "num_commun: 700, loss: 15.5963123798, time pass: 138s | CDVR APFL2 KMNIST\n",
      "num_commun: 800, loss: 14.8968452930, time pass: 160s | CDVR APFL2 KMNIST\n",
      "num_commun: 900, loss: 14.3514984131, time pass: 179s | CDVR APFL2 KMNIST\n",
      "num_commun: 1000, loss: 13.8452788353, time pass: 199s | CDVR APFL2 KMNIST\n",
      "1000\n",
      "prob1 is 0.30000\n",
      "eta is 0.03735\n",
      "epoch: 1, loss: 25.3127918243, time pass: 0s | CDVR APFL2 KMNIST\n",
      "epoch: 100, loss: 24.0897789001, time pass: 12s | CDVR APFL2 KMNIST\n",
      "epoch: 200, loss: 23.1276190758, time pass: 25s | CDVR APFL2 KMNIST\n",
      "epoch: 300, loss: 22.4626464844, time pass: 37s | CDVR APFL2 KMNIST\n",
      "epoch: 400, loss: 21.9151767731, time pass: 50s | CDVR APFL2 KMNIST\n",
      "epoch: 500, loss: 21.4098104477, time pass: 62s | CDVR APFL2 KMNIST\n",
      "epoch: 600, loss: 20.9303235054, time pass: 75s | CDVR APFL2 KMNIST\n",
      "epoch: 700, loss: 20.4725978851, time pass: 87s | CDVR APFL2 KMNIST\n",
      "epoch: 800, loss: 20.0398257732, time pass: 100s | CDVR APFL2 KMNIST\n",
      "epoch: 900, loss: 19.6309267998, time pass: 112s | CDVR APFL2 KMNIST\n",
      "epoch: 1000, loss: 19.2534087658, time pass: 125s | CDVR APFL2 KMNIST\n",
      "num_commun: 1, loss: 25.3127918243, time pass: 0s | CDVR APFL2 KMNIST\n",
      "num_commun: 100, loss: 22.4935605049, time pass: 26s | CDVR APFL2 KMNIST\n",
      "num_commun: 200, loss: 20.8646024704, time pass: 55s | CDVR APFL2 KMNIST\n",
      "num_commun: 300, loss: 19.4362081051, time pass: 84s | CDVR APFL2 KMNIST\n",
      "num_commun: 400, loss: 18.1980797768, time pass: 117s | CDVR APFL2 KMNIST\n",
      "num_commun: 500, loss: 17.1945958138, time pass: 148s | CDVR APFL2 KMNIST\n",
      "num_commun: 600, loss: 16.3569233894, time pass: 178s | CDVR APFL2 KMNIST\n",
      "num_commun: 700, loss: 15.6629634857, time pass: 207s | CDVR APFL2 KMNIST\n",
      "num_commun: 800, loss: 14.9863763809, time pass: 239s | CDVR APFL2 KMNIST\n",
      "num_commun: 900, loss: 14.4510541916, time pass: 268s | CDVR APFL2 KMNIST\n",
      "num_commun: 1000, loss: 13.9179638386, time pass: 299s | CDVR APFL2 KMNIST\n",
      "1000\n",
      "prob1 is 0.10000\n",
      "eta is 0.01245\n",
      "epoch: 1, loss: 25.3232171059, time pass: 0s | CDVR APFL2 KMNIST\n",
      "epoch: 100, loss: 24.8499672890, time pass: 12s | CDVR APFL2 KMNIST\n",
      "epoch: 200, loss: 24.4198618889, time pass: 25s | CDVR APFL2 KMNIST\n",
      "epoch: 300, loss: 24.0595886230, time pass: 38s | CDVR APFL2 KMNIST\n",
      "epoch: 400, loss: 23.7465616226, time pass: 51s | CDVR APFL2 KMNIST\n",
      "epoch: 500, loss: 23.4604980469, time pass: 63s | CDVR APFL2 KMNIST\n",
      "epoch: 600, loss: 23.1933487892, time pass: 76s | CDVR APFL2 KMNIST\n",
      "epoch: 700, loss: 22.9437501907, time pass: 89s | CDVR APFL2 KMNIST\n",
      "epoch: 800, loss: 22.7132464409, time pass: 102s | CDVR APFL2 KMNIST\n",
      "epoch: 900, loss: 22.4974085808, time pass: 115s | CDVR APFL2 KMNIST\n",
      "epoch: 1000, loss: 22.3006401062, time pass: 128s | CDVR APFL2 KMNIST\n",
      "num_commun: 1, loss: 25.3232171059, time pass: 0s | CDVR APFL2 KMNIST\n",
      "num_commun: 100, loss: 22.1286233902, time pass: 85s | CDVR APFL2 KMNIST\n",
      "num_commun: 200, loss: 20.3883774757, time pass: 171s | CDVR APFL2 KMNIST\n",
      "num_commun: 300, loss: 19.2600713253, time pass: 240s | CDVR APFL2 KMNIST\n",
      "num_commun: 400, loss: 18.0693806171, time pass: 324s | CDVR APFL2 KMNIST\n",
      "num_commun: 500, loss: 17.2097641468, time pass: 395s | CDVR APFL2 KMNIST\n",
      "num_commun: 600, loss: 16.3803560734, time pass: 474s | CDVR APFL2 KMNIST\n",
      "num_commun: 700, loss: 15.6557435989, time pass: 552s | CDVR APFL2 KMNIST\n",
      "num_commun: 800, loss: 14.9636282921, time pass: 636s | CDVR APFL2 KMNIST\n",
      "num_commun: 900, loss: 14.3702843189, time pass: 718s | CDVR APFL2 KMNIST\n",
      "num_commun: 1000, loss: 13.8929492474, time pass: 790s | CDVR APFL2 KMNIST\n",
      "1000\n"
     ]
    }
   ],
   "source": [
    "prob1_list = [L_w / (L_w + L_beta), 0.7, 0.5, 0.3, 0.1]\n",
    "APFL2_KMNIST_CDVR_iter_result = []\n",
    "APFL2_KMNIST_CDVR_commun_result = []\n",
    "\n",
    "for prob1 in prob1_list:\n",
    "    print(\"prob1 is {:.5f}\".format(prob1))\n",
    "    \n",
    "    eta = 1 / (8 * max(L_w/prob1, L_beta/(1-prob1)))\n",
    "    \n",
    "    print(\"eta is {:.5f}\".format(eta))\n",
    "    \n",
    "    loss_APFL2_KMNIST_CDVR_iter, _, _ = APFL2.train_CDVR_iter(w0, beta0,n_communs, devices_train_list, \n",
    "                                                             train_loader_list, lambda_global, repo_step, \n",
    "                                                             eta, prob1, rho, alpha_list, obj, data_name)\n",
    "    APFL2_KMNIST_CDVR_iter_result.append(loss_APFL2_KMNIST_CDVR_iter)\n",
    "    loss_APFL2_KMNIST_CDVR_commun, _, _ = APFL2.train_CDVR_commun(w0, beta0,n_communs, devices_train_list, \n",
    "                                                                 train_loader_list, lambda_global, repo_step, \n",
    "                                                                 eta, prob1, rho, alpha_list, obj, data_name)\n",
    "    APFL2_KMNIST_CDVR_commun_result.append(loss_APFL2_KMNIST_CDVR_commun)\n",
    "    print(len(loss_APFL2_KMNIST_CDVR_commun))"
   ]
  },
  {
   "cell_type": "code",
   "execution_count": 8,
   "metadata": {},
   "outputs": [],
   "source": [
    "with open(\"./result/APFL2_KMNIST_CDVR_iter_result.txt\", \"wb\") as f:   #Pickling\n",
    "    pickle.dump(APFL2_KMNIST_CDVR_iter_result, f)\n",
    "    \n",
    "with open(\"./result/APFL2_KMNIST_CDVR_commun_result.txt\", \"wb\") as f:   #Pickling\n",
    "    pickle.dump(APFL2_KMNIST_CDVR_commun_result, f)"
   ]
  }
 ],
 "metadata": {
  "kernelspec": {
   "display_name": "Python 3",
   "language": "python",
   "name": "python3"
  },
  "language_info": {
   "codemirror_mode": {
    "name": "ipython",
    "version": 3
   },
   "file_extension": ".py",
   "mimetype": "text/x-python",
   "name": "python",
   "nbconvert_exporter": "python",
   "pygments_lexer": "ipython3",
   "version": "3.8.3"
  }
 },
 "nbformat": 4,
 "nbformat_minor": 4
}

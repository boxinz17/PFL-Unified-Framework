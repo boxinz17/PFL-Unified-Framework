{
 "cells": [
  {
   "cell_type": "code",
   "execution_count": 1,
   "metadata": {},
   "outputs": [
    {
     "data": {
      "text/plain": [
       "<torch._C.Generator at 0x2127e401f30>"
      ]
     },
     "execution_count": 1,
     "metadata": {},
     "output_type": "execute_result"
    }
   ],
   "source": [
    "# Load packages and set up default settings\n",
    "%matplotlib inline\n",
    "from matplotlib import pyplot as plt\n",
    "import numpy as np\n",
    "import torch\n",
    "import torch.nn as nn\n",
    "import datetime\n",
    "import pickle\n",
    "\n",
    "import data_load\n",
    "import APFL2\n",
    "\n",
    "torch.set_printoptions(edgeitems=2, linewidth=75)\n",
    "torch.manual_seed(123)"
   ]
  },
  {
   "cell_type": "code",
   "execution_count": 2,
   "metadata": {},
   "outputs": [
    {
     "name": "stdout",
     "output_type": "stream",
     "text": [
      "Training on device cuda.\n"
     ]
    }
   ],
   "source": [
    "device = (torch.device('cuda') if torch.cuda.is_available()\n",
    "          else torch.device('cpu'))\n",
    "print(f\"Training on device {device}.\")"
   ]
  },
  {
   "cell_type": "code",
   "execution_count": 3,
   "metadata": {},
   "outputs": [],
   "source": [
    "# Initialize all parameters\n",
    "lambda_global = 10\n",
    "\n",
    "M = 10\n",
    "n_samples = 100\n",
    "\n",
    "obj = 'APFL2'\n",
    "data_name = 'MNIST'\n",
    "\n",
    "alpha_list = [0.2] * M\n",
    "\n",
    "L_w = (lambda_global + 0.2 ** 2) * 1 / M\n",
    "L_beta = ((1-0.2) ** 2 ) * 1 / M\n",
    "\n",
    "rho = 0.01\n",
    "\n",
    "n_communs = 1000\n",
    "n_epochs = 1000\n",
    "repo_step = 100\n",
    "sync_step = 5\n",
    "\n",
    "w0 = [torch.zeros(10, 784).to(device), torch.zeros(10).to(device)]\n",
    "\n",
    "beta0 = []\n",
    "for m in range(M):\n",
    "    beta0.append([torch.zeros(10, 784).to(device), torch.zeros(10).to(device)])\n",
    "    \n",
    "w_list0 = []\n",
    "for m in range(M):\n",
    "    w_list0.append([torch.zeros(10, 784).to(device), torch.zeros(10).to(device)])\n",
    "\n",
    "beta_list0 = []\n",
    "for m in range(M):\n",
    "    beta_list0.append([torch.zeros(10, 784).to(device), torch.zeros(10).to(device)])"
   ]
  },
  {
   "cell_type": "code",
   "execution_count": 4,
   "metadata": {},
   "outputs": [
    {
     "name": "stdout",
     "output_type": "stream",
     "text": [
      "L_w is: 1.004\n",
      "L_beta is 0.06400000000000002\n",
      "rho is 0.01\n",
      "n_communs is 1000\n",
      "n_epochs is 1000\n",
      "sync_step is 5\n"
     ]
    }
   ],
   "source": [
    "print(\"L_w is: {}\".format(L_w))\n",
    "print(\"L_beta is {}\".format(L_beta))\n",
    "print(\"rho is {}\".format(rho))\n",
    "print(\"n_communs is {}\".format(n_communs))\n",
    "print(\"n_epochs is {}\".format(n_epochs))\n",
    "print(\"sync_step is {}\".format(sync_step))"
   ]
  },
  {
   "cell_type": "code",
   "execution_count": 5,
   "metadata": {},
   "outputs": [],
   "source": [
    "train_loader_list, devices_train_list = data_load.data_prepare(data_name, n_devices=M, n_samples=n_samples)"
   ]
  },
  {
   "cell_type": "code",
   "execution_count": 7,
   "metadata": {},
   "outputs": [
    {
     "name": "stdout",
     "output_type": "stream",
     "text": [
      "prob1 is 0.94007\n",
      "eta is 0.11704\n",
      "epoch: 1, loss: 25.2690143585, time pass: 0s | CDVR APFL2 MNIST\n",
      "epoch: 100, loss: 21.8484075546, time pass: 8s | CDVR APFL2 MNIST\n",
      "epoch: 200, loss: 19.7768568039, time pass: 16s | CDVR APFL2 MNIST\n",
      "epoch: 300, loss: 18.1601456165, time pass: 26s | CDVR APFL2 MNIST\n",
      "epoch: 400, loss: 16.4941403866, time pass: 36s | CDVR APFL2 MNIST\n",
      "epoch: 500, loss: 15.2231342316, time pass: 47s | CDVR APFL2 MNIST\n",
      "epoch: 600, loss: 14.1650820732, time pass: 59s | CDVR APFL2 MNIST\n",
      "epoch: 700, loss: 13.2390500069, time pass: 71s | CDVR APFL2 MNIST\n",
      "epoch: 800, loss: 12.3740795135, time pass: 84s | CDVR APFL2 MNIST\n",
      "epoch: 900, loss: 11.6393677711, time pass: 96s | CDVR APFL2 MNIST\n",
      "epoch: 1000, loss: 11.0157681227, time pass: 108s | CDVR APFL2 MNIST\n",
      "num_commun: 1, loss: 25.2690143585, time pass: 0s | CDVR APFL2 MNIST\n",
      "num_commun: 100, loss: 21.7755082130, time pass: 12s | CDVR APFL2 MNIST\n",
      "num_commun: 200, loss: 19.6542203903, time pass: 25s | CDVR APFL2 MNIST\n",
      "num_commun: 300, loss: 17.9229081631, time pass: 38s | CDVR APFL2 MNIST\n",
      "num_commun: 400, loss: 16.1649510860, time pass: 51s | CDVR APFL2 MNIST\n",
      "num_commun: 500, loss: 14.9023237228, time pass: 64s | CDVR APFL2 MNIST\n",
      "num_commun: 600, loss: 13.8627448559, time pass: 77s | CDVR APFL2 MNIST\n",
      "num_commun: 700, loss: 12.9251977921, time pass: 90s | CDVR APFL2 MNIST\n",
      "num_commun: 800, loss: 12.0431544781, time pass: 103s | CDVR APFL2 MNIST\n",
      "num_commun: 900, loss: 11.3094609499, time pass: 115s | CDVR APFL2 MNIST\n",
      "num_commun: 1000, loss: 10.6915995121, time pass: 129s | CDVR APFL2 MNIST\n",
      "prob1 is 0.70000\n",
      "eta is 0.08715\n",
      "epoch: 1, loss: 25.2841391563, time pass: 0s | CDVR APFL2 MNIST\n",
      "epoch: 100, loss: 22.4943943977, time pass: 12s | CDVR APFL2 MNIST\n",
      "epoch: 200, loss: 20.7354171753, time pass: 24s | CDVR APFL2 MNIST\n",
      "epoch: 300, loss: 19.3647258282, time pass: 36s | CDVR APFL2 MNIST\n",
      "epoch: 400, loss: 18.0075388908, time pass: 49s | CDVR APFL2 MNIST\n",
      "epoch: 500, loss: 16.8641248226, time pass: 61s | CDVR APFL2 MNIST\n",
      "epoch: 600, loss: 15.8678486824, time pass: 74s | CDVR APFL2 MNIST\n",
      "epoch: 700, loss: 14.9695799828, time pass: 86s | CDVR APFL2 MNIST\n",
      "epoch: 800, loss: 14.1494166851, time pass: 99s | CDVR APFL2 MNIST\n",
      "epoch: 900, loss: 13.4220331192, time pass: 111s | CDVR APFL2 MNIST\n",
      "epoch: 1000, loss: 12.7914823532, time pass: 124s | CDVR APFL2 MNIST\n",
      "num_commun: 1, loss: 25.2841391563, time pass: 0s | CDVR APFL2 MNIST\n",
      "num_commun: 100, loss: 21.6248629570, time pass: 15s | CDVR APFL2 MNIST\n",
      "num_commun: 200, loss: 19.6469701767, time pass: 30s | CDVR APFL2 MNIST\n",
      "num_commun: 300, loss: 17.7455846310, time pass: 46s | CDVR APFL2 MNIST\n",
      "num_commun: 400, loss: 16.2100275517, time pass: 61s | CDVR APFL2 MNIST\n",
      "num_commun: 500, loss: 14.9949592590, time pass: 77s | CDVR APFL2 MNIST\n",
      "num_commun: 600, loss: 13.8697917461, time pass: 93s | CDVR APFL2 MNIST\n",
      "num_commun: 700, loss: 12.8714529991, time pass: 109s | CDVR APFL2 MNIST\n",
      "num_commun: 800, loss: 12.0837512970, time pass: 125s | CDVR APFL2 MNIST\n",
      "num_commun: 900, loss: 11.4042500973, time pass: 141s | CDVR APFL2 MNIST\n",
      "num_commun: 1000, loss: 10.8621970892, time pass: 156s | CDVR APFL2 MNIST\n",
      "prob1 is 0.50000\n",
      "eta is 0.06225\n",
      "epoch: 1, loss: 25.2967643738, time pass: 0s | CDVR APFL2 MNIST\n",
      "epoch: 100, loss: 23.1183411598, time pass: 12s | CDVR APFL2 MNIST\n",
      "epoch: 200, loss: 21.6037163734, time pass: 25s | CDVR APFL2 MNIST\n",
      "epoch: 300, loss: 20.4996207714, time pass: 37s | CDVR APFL2 MNIST\n",
      "epoch: 400, loss: 19.4615979195, time pass: 50s | CDVR APFL2 MNIST\n",
      "epoch: 500, loss: 18.5156979084, time pass: 62s | CDVR APFL2 MNIST\n",
      "epoch: 600, loss: 17.6480133057, time pass: 75s | CDVR APFL2 MNIST\n",
      "epoch: 700, loss: 16.8458311558, time pass: 87s | CDVR APFL2 MNIST\n",
      "epoch: 800, loss: 16.1050600052, time pass: 100s | CDVR APFL2 MNIST\n",
      "epoch: 900, loss: 15.4252853394, time pass: 112s | CDVR APFL2 MNIST\n",
      "epoch: 1000, loss: 14.8254223824, time pass: 125s | CDVR APFL2 MNIST\n",
      "num_commun: 1, loss: 25.2967643738, time pass: 0s | CDVR APFL2 MNIST\n",
      "num_commun: 100, loss: 21.7499255180, time pass: 18s | CDVR APFL2 MNIST\n",
      "num_commun: 200, loss: 19.6813137054, time pass: 38s | CDVR APFL2 MNIST\n",
      "num_commun: 300, loss: 17.8621012688, time pass: 58s | CDVR APFL2 MNIST\n",
      "num_commun: 400, loss: 16.4331166744, time pass: 76s | CDVR APFL2 MNIST\n",
      "num_commun: 500, loss: 14.9594042301, time pass: 98s | CDVR APFL2 MNIST\n",
      "num_commun: 600, loss: 13.8069295883, time pass: 119s | CDVR APFL2 MNIST\n",
      "num_commun: 700, loss: 12.9750532627, time pass: 138s | CDVR APFL2 MNIST\n",
      "num_commun: 800, loss: 12.1388248920, time pass: 160s | CDVR APFL2 MNIST\n",
      "num_commun: 900, loss: 11.5040565729, time pass: 179s | CDVR APFL2 MNIST\n",
      "num_commun: 1000, loss: 10.9271445036, time pass: 199s | CDVR APFL2 MNIST\n",
      "prob1 is 0.30000\n",
      "eta is 0.03735\n",
      "epoch: 1, loss: 25.3094148636, time pass: 0s | CDVR APFL2 MNIST\n",
      "epoch: 100, loss: 23.8398120880, time pass: 12s | CDVR APFL2 MNIST\n",
      "epoch: 200, loss: 22.6891885757, time pass: 25s | CDVR APFL2 MNIST\n",
      "epoch: 300, loss: 21.8687253952, time pass: 37s | CDVR APFL2 MNIST\n",
      "epoch: 400, loss: 21.1600831032, time pass: 50s | CDVR APFL2 MNIST\n",
      "epoch: 500, loss: 20.4943391800, time pass: 63s | CDVR APFL2 MNIST\n",
      "epoch: 600, loss: 19.8604225636, time pass: 75s | CDVR APFL2 MNIST\n",
      "epoch: 700, loss: 19.2532425404, time pass: 88s | CDVR APFL2 MNIST\n",
      "epoch: 800, loss: 18.6789338589, time pass: 100s | CDVR APFL2 MNIST\n",
      "epoch: 900, loss: 18.1366761208, time pass: 113s | CDVR APFL2 MNIST\n",
      "epoch: 1000, loss: 17.6390206814, time pass: 126s | CDVR APFL2 MNIST\n",
      "num_commun: 1, loss: 25.3094148636, time pass: 0s | CDVR APFL2 MNIST\n",
      "num_commun: 100, loss: 21.9072139740, time pass: 26s | CDVR APFL2 MNIST\n",
      "num_commun: 200, loss: 19.7735405922, time pass: 55s | CDVR APFL2 MNIST\n",
      "num_commun: 300, loss: 17.8801671028, time pass: 85s | CDVR APFL2 MNIST\n",
      "num_commun: 400, loss: 16.2583187580, time pass: 117s | CDVR APFL2 MNIST\n",
      "num_commun: 500, loss: 14.9707170963, time pass: 148s | CDVR APFL2 MNIST\n",
      "num_commun: 600, loss: 13.9199607372, time pass: 178s | CDVR APFL2 MNIST\n",
      "num_commun: 700, loss: 13.0650502682, time pass: 207s | CDVR APFL2 MNIST\n",
      "num_commun: 800, loss: 12.2536721230, time pass: 239s | CDVR APFL2 MNIST\n",
      "num_commun: 900, loss: 11.6269667387, time pass: 269s | CDVR APFL2 MNIST\n",
      "num_commun: 1000, loss: 11.0171979427, time pass: 299s | CDVR APFL2 MNIST\n",
      "prob1 is 0.10000\n",
      "eta is 0.01245\n",
      "epoch: 1, loss: 25.3220903397, time pass: 0s | CDVR APFL2 MNIST\n",
      "epoch: 100, loss: 24.7517629623, time pass: 12s | CDVR APFL2 MNIST\n",
      "epoch: 200, loss: 24.2344759941, time pass: 25s | CDVR APFL2 MNIST\n",
      "epoch: 300, loss: 23.8050825119, time pass: 38s | CDVR APFL2 MNIST\n",
      "epoch: 400, loss: 23.4301583290, time pass: 51s | CDVR APFL2 MNIST\n",
      "epoch: 500, loss: 23.0857212067, time pass: 63s | CDVR APFL2 MNIST\n",
      "epoch: 600, loss: 22.7616038322, time pass: 76s | CDVR APFL2 MNIST\n",
      "epoch: 700, loss: 22.4565533638, time pass: 89s | CDVR APFL2 MNIST\n",
      "epoch: 800, loss: 22.1715374947, time pass: 102s | CDVR APFL2 MNIST\n",
      "epoch: 900, loss: 21.9016739845, time pass: 114s | CDVR APFL2 MNIST\n",
      "epoch: 1000, loss: 21.6506519318, time pass: 128s | CDVR APFL2 MNIST\n",
      "num_commun: 1, loss: 25.3220903397, time pass: 0s | CDVR APFL2 MNIST\n",
      "num_commun: 100, loss: 21.4282525063, time pass: 86s | CDVR APFL2 MNIST\n",
      "num_commun: 200, loss: 19.1368463516, time pass: 171s | CDVR APFL2 MNIST\n",
      "num_commun: 300, loss: 17.6476839542, time pass: 240s | CDVR APFL2 MNIST\n",
      "num_commun: 400, loss: 16.0948402882, time pass: 323s | CDVR APFL2 MNIST\n",
      "num_commun: 500, loss: 14.9941427231, time pass: 395s | CDVR APFL2 MNIST\n",
      "num_commun: 600, loss: 13.9538247585, time pass: 473s | CDVR APFL2 MNIST\n",
      "num_commun: 700, loss: 13.0652327061, time pass: 552s | CDVR APFL2 MNIST\n",
      "num_commun: 800, loss: 12.2364227772, time pass: 636s | CDVR APFL2 MNIST\n",
      "num_commun: 900, loss: 11.5434962749, time pass: 717s | CDVR APFL2 MNIST\n",
      "num_commun: 1000, loss: 10.9983479261, time pass: 792s | CDVR APFL2 MNIST\n"
     ]
    }
   ],
   "source": [
    "prob1_list = [L_w / (L_w + L_beta), 0.7, 0.5, 0.3, 0.1]\n",
    "APFL2_MNIST_CDVR_iter_result = []\n",
    "APFL2_MNIST_CDVR_commun_result = []\n",
    "\n",
    "for prob1 in prob1_list:\n",
    "    print(\"prob1 is {:.5f}\".format(prob1))\n",
    "    \n",
    "    eta = 1 / (8 * max(L_w/prob1, L_beta/(1-prob1)))\n",
    "    \n",
    "    print(\"eta is {:.5f}\".format(eta))\n",
    "    \n",
    "    loss_APFL2_MNIST_CDVR_iter, _, _ = APFL2.train_CDVR_iter(w0, beta0,n_communs, devices_train_list, \n",
    "                                                             train_loader_list, lambda_global, repo_step, \n",
    "                                                             eta, prob1, rho, alpha_list, obj, data_name)\n",
    "    APFL2_MNIST_CDVR_iter_result.append(loss_APFL2_MNIST_CDVR_iter)\n",
    "    loss_APFL2_MNIST_CDVR_commun, _, _ = APFL2.train_CDVR_commun(w0, beta0,n_communs, devices_train_list, \n",
    "                                                                 train_loader_list, lambda_global, repo_step, \n",
    "                                                                 eta, prob1, rho, alpha_list, obj, data_name)\n",
    "    APFL2_MNIST_CDVR_commun_result.append(loss_APFL2_MNIST_CDVR_commun)"
   ]
  },
  {
   "cell_type": "code",
   "execution_count": 9,
   "metadata": {},
   "outputs": [],
   "source": [
    "with open(\"./result/APFL2_MNIST_CDVR_iter_result.txt\", \"wb\") as f:   #Pickling\n",
    "    pickle.dump(APFL2_MNIST_CDVR_iter_result, f)\n",
    "    \n",
    "with open(\"./result/APFL2_MNIST_CDVR_commun_result.txt\", \"wb\") as f:   #Pickling\n",
    "    pickle.dump(APFL2_MNIST_CDVR_commun_result, f)"
   ]
  }
 ],
 "metadata": {
  "kernelspec": {
   "display_name": "Python 3",
   "language": "python",
   "name": "python3"
  },
  "language_info": {
   "codemirror_mode": {
    "name": "ipython",
    "version": 3
   },
   "file_extension": ".py",
   "mimetype": "text/x-python",
   "name": "python",
   "nbconvert_exporter": "python",
   "pygments_lexer": "ipython3",
   "version": "3.8.3"
  }
 },
 "nbformat": 4,
 "nbformat_minor": 4
}

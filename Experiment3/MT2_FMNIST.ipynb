{
 "cells": [
  {
   "cell_type": "code",
   "execution_count": 1,
   "metadata": {},
   "outputs": [
    {
     "data": {
      "text/plain": [
       "<torch._C.Generator at 0x230c4a62f30>"
      ]
     },
     "execution_count": 1,
     "metadata": {},
     "output_type": "execute_result"
    }
   ],
   "source": [
    "# Load packages and set up default settings\n",
    "%matplotlib inline\n",
    "from matplotlib import pyplot as plt\n",
    "import numpy as np\n",
    "import torch\n",
    "import torch.nn as nn\n",
    "import datetime\n",
    "import pickle\n",
    "\n",
    "import data_load\n",
    "import MT2\n",
    "\n",
    "torch.set_printoptions(edgeitems=2, linewidth=75)\n",
    "torch.manual_seed(123)"
   ]
  },
  {
   "cell_type": "code",
   "execution_count": 2,
   "metadata": {},
   "outputs": [
    {
     "name": "stdout",
     "output_type": "stream",
     "text": [
      "Training on device cuda.\n"
     ]
    }
   ],
   "source": [
    "device = (torch.device('cuda') if torch.cuda.is_available()\n",
    "          else torch.device('cpu'))\n",
    "print(f\"Training on device {device}.\")"
   ]
  },
  {
   "cell_type": "code",
   "execution_count": 3,
   "metadata": {},
   "outputs": [],
   "source": [
    "# Initialize all parameters\n",
    "lambda_global = 10\n",
    "lambda_penal = 1\n",
    "\n",
    "M = 10\n",
    "n_samples = 100\n",
    "\n",
    "obj = 'MT2'\n",
    "data_name = 'FMNIST'\n",
    "\n",
    "L_w = (lambda_global + lambda_penal) / M\n",
    "L_beta = (1 + lambda_penal)\n",
    "\n",
    "rho = 1e-2\n",
    "\n",
    "n_communs = 1000\n",
    "repo_step = 100\n",
    "sync_step = 5\n",
    "\n",
    "w0 = [torch.zeros(10, 784).to(device), torch.zeros(10).to(device)]\n",
    "\n",
    "beta0 = []\n",
    "for m in range(M):\n",
    "    beta0.append([torch.zeros(10, 784).to(device), torch.zeros(10).to(device)])\n",
    "    \n",
    "w_list0 = []\n",
    "for m in range(M):\n",
    "    w_list0.append([torch.zeros(10, 784).to(device), torch.zeros(10).to(device)])\n",
    "\n",
    "beta_list0 = []\n",
    "for m in range(M):\n",
    "    beta_list0.append([torch.zeros(10, 784).to(device), torch.zeros(10).to(device)])"
   ]
  },
  {
   "cell_type": "code",
   "execution_count": 4,
   "metadata": {},
   "outputs": [
    {
     "name": "stdout",
     "output_type": "stream",
     "text": [
      "L_w is: 1.1\n",
      "L_beta is 2\n",
      "prob1 is 0.3548387096774194\n",
      "prob2 is 0.6451612903225806\n",
      "eta is 0.1\n",
      "rho is 0.01\n",
      "n_communs is 1000\n",
      "sync_step is 5\n"
     ]
    }
   ],
   "source": [
    "print(\"L_w is: {}\".format(L_w))\n",
    "print(\"L_beta is {}\".format(L_beta))\n",
    "print(\"rho is {}\".format(rho))\n",
    "print(\"n_communs is {}\".format(n_communs))\n",
    "print(\"sync_step is {}\".format(sync_step))"
   ]
  },
  {
   "cell_type": "code",
   "execution_count": 5,
   "metadata": {},
   "outputs": [],
   "source": [
    "train_loader_list, devices_train_list = data_load.data_prepare(data_name, n_devices=M, n_samples=n_samples)"
   ]
  },
  {
   "cell_type": "code",
   "execution_count": 7,
   "metadata": {},
   "outputs": [
    {
     "name": "stdout",
     "output_type": "stream",
     "text": [
      "prob1 is 0.35484\n",
      "eta is 0.04032\n",
      "epoch: 1, loss: 25.3046971321, time pass: 1s | CDVR MT2 FMNIST\n",
      "epoch: 100, loss: 23.8208745003, time pass: 19s | CDVR MT2 FMNIST\n",
      "epoch: 200, loss: 22.9418084145, time pass: 38s | CDVR MT2 FMNIST\n",
      "epoch: 300, loss: 22.3669395447, time pass: 56s | CDVR MT2 FMNIST\n",
      "epoch: 400, loss: 21.7852588654, time pass: 77s | CDVR MT2 FMNIST\n",
      "epoch: 500, loss: 21.3026041031, time pass: 96s | CDVR MT2 FMNIST\n",
      "epoch: 600, loss: 20.8771525383, time pass: 116s | CDVR MT2 FMNIST\n",
      "epoch: 700, loss: 20.4736620903, time pass: 135s | CDVR MT2 FMNIST\n",
      "epoch: 800, loss: 20.0773272514, time pass: 155s | CDVR MT2 FMNIST\n",
      "epoch: 900, loss: 19.7097179413, time pass: 173s | CDVR MT2 FMNIST\n",
      "epoch: 1000, loss: 19.3609538078, time pass: 192s | CDVR MT2 FMNIST\n",
      "num_commun: 1, loss: 25.3046971321, time pass: 0s | CDVR MT2 FMNIST\n",
      "num_commun: 100, loss: 22.5910422325, time pass: 34s | CDVR MT2 FMNIST\n",
      "num_commun: 200, loss: 21.1858016968, time pass: 70s | CDVR MT2 FMNIST\n",
      "num_commun: 300, loss: 20.1001437187, time pass: 105s | CDVR MT2 FMNIST\n",
      "num_commun: 400, loss: 19.1452222347, time pass: 141s | CDVR MT2 FMNIST\n",
      "num_commun: 500, loss: 18.2436540127, time pass: 180s | CDVR MT2 FMNIST\n",
      "num_commun: 600, loss: 17.4759201050, time pass: 220s | CDVR MT2 FMNIST\n",
      "num_commun: 700, loss: 16.8220102310, time pass: 257s | CDVR MT2 FMNIST\n",
      "num_commun: 800, loss: 16.2320106983, time pass: 294s | CDVR MT2 FMNIST\n",
      "num_commun: 900, loss: 15.6310196400, time pass: 335s | CDVR MT2 FMNIST\n",
      "num_commun: 1000, loss: 15.1939574242, time pass: 371s | CDVR MT2 FMNIST\n",
      "prob1 is 0.70000\n",
      "eta is 0.01875\n",
      "epoch: 1, loss: 25.3173791885, time pass: 0s | CDVR MT2 FMNIST\n",
      "epoch: 100, loss: 24.4633158684, time pass: 18s | CDVR MT2 FMNIST\n",
      "epoch: 200, loss: 23.8171567917, time pass: 38s | CDVR MT2 FMNIST\n",
      "epoch: 300, loss: 23.3869576454, time pass: 55s | CDVR MT2 FMNIST\n",
      "epoch: 400, loss: 23.0414294243, time pass: 74s | CDVR MT2 FMNIST\n",
      "epoch: 500, loss: 22.7317170143, time pass: 92s | CDVR MT2 FMNIST\n",
      "epoch: 600, loss: 22.4441155434, time pass: 110s | CDVR MT2 FMNIST\n",
      "epoch: 700, loss: 22.1731521606, time pass: 129s | CDVR MT2 FMNIST\n",
      "epoch: 800, loss: 21.9213965416, time pass: 147s | CDVR MT2 FMNIST\n",
      "epoch: 900, loss: 21.6843041420, time pass: 165s | CDVR MT2 FMNIST\n",
      "epoch: 1000, loss: 21.4642663002, time pass: 184s | CDVR MT2 FMNIST\n",
      "num_commun: 1, loss: 25.3173791885, time pass: 0s | CDVR MT2 FMNIST\n",
      "num_commun: 100, loss: 24.1624530792, time pass: 24s | CDVR MT2 FMNIST\n",
      "num_commun: 200, loss: 23.4768499374, time pass: 49s | CDVR MT2 FMNIST\n",
      "num_commun: 300, loss: 22.9738257408, time pass: 75s | CDVR MT2 FMNIST\n",
      "num_commun: 400, loss: 22.5444402695, time pass: 101s | CDVR MT2 FMNIST\n",
      "num_commun: 500, loss: 22.1810307503, time pass: 125s | CDVR MT2 FMNIST\n",
      "num_commun: 600, loss: 21.8320428848, time pass: 149s | CDVR MT2 FMNIST\n",
      "num_commun: 700, loss: 21.4937164307, time pass: 173s | CDVR MT2 FMNIST\n",
      "num_commun: 800, loss: 21.1855148315, time pass: 198s | CDVR MT2 FMNIST\n",
      "num_commun: 900, loss: 20.8966827393, time pass: 221s | CDVR MT2 FMNIST\n",
      "num_commun: 1000, loss: 20.6404117584, time pass: 244s | CDVR MT2 FMNIST\n",
      "prob1 is 0.50000\n",
      "eta is 0.03125\n",
      "epoch: 1, loss: 25.3100257874, time pass: 0s | CDVR MT2 FMNIST\n",
      "epoch: 100, loss: 24.0692284584, time pass: 18s | CDVR MT2 FMNIST\n",
      "epoch: 200, loss: 23.2588562012, time pass: 36s | CDVR MT2 FMNIST\n",
      "epoch: 300, loss: 22.7411027908, time pass: 55s | CDVR MT2 FMNIST\n",
      "epoch: 400, loss: 22.2659669876, time pass: 71s | CDVR MT2 FMNIST\n",
      "epoch: 500, loss: 21.8483945847, time pass: 85s | CDVR MT2 FMNIST\n",
      "epoch: 600, loss: 21.4742092133, time pass: 99s | CDVR MT2 FMNIST\n",
      "epoch: 700, loss: 21.1174052238, time pass: 112s | CDVR MT2 FMNIST\n",
      "epoch: 800, loss: 20.7812478065, time pass: 126s | CDVR MT2 FMNIST\n",
      "epoch: 900, loss: 20.4641798973, time pass: 140s | CDVR MT2 FMNIST\n",
      "epoch: 1000, loss: 20.1646351814, time pass: 154s | CDVR MT2 FMNIST\n",
      "num_commun: 1, loss: 25.3100257874, time pass: 0s | CDVR MT2 FMNIST\n",
      "num_commun: 100, loss: 23.3353007317, time pass: 22s | CDVR MT2 FMNIST\n",
      "num_commun: 200, loss: 22.3672008514, time pass: 45s | CDVR MT2 FMNIST\n",
      "num_commun: 300, loss: 21.5660344124, time pass: 67s | CDVR MT2 FMNIST\n",
      "num_commun: 400, loss: 20.9310476303, time pass: 87s | CDVR MT2 FMNIST\n",
      "num_commun: 500, loss: 20.2344475746, time pass: 113s | CDVR MT2 FMNIST\n",
      "num_commun: 600, loss: 19.6249547958, time pass: 139s | CDVR MT2 FMNIST\n",
      "num_commun: 700, loss: 19.1507345200, time pass: 163s | CDVR MT2 FMNIST\n",
      "num_commun: 800, loss: 18.6363031387, time pass: 186s | CDVR MT2 FMNIST\n",
      "num_commun: 900, loss: 18.2134777546, time pass: 209s | CDVR MT2 FMNIST\n",
      "num_commun: 1000, loss: 17.8061084270, time pass: 234s | CDVR MT2 FMNIST\n",
      "prob1 is 0.30000\n",
      "eta is 0.03409\n",
      "epoch: 1, loss: 25.3083557129, time pass: 0s | CDVR MT2 FMNIST\n",
      "epoch: 100, loss: 23.9968379974, time pass: 18s | CDVR MT2 FMNIST\n",
      "epoch: 200, loss: 23.1522275925, time pass: 33s | CDVR MT2 FMNIST\n",
      "epoch: 300, loss: 22.6202502251, time pass: 48s | CDVR MT2 FMNIST\n",
      "epoch: 400, loss: 22.1166606903, time pass: 62s | CDVR MT2 FMNIST\n",
      "epoch: 500, loss: 21.6769019127, time pass: 75s | CDVR MT2 FMNIST\n",
      "epoch: 600, loss: 21.2792609215, time pass: 89s | CDVR MT2 FMNIST\n",
      "epoch: 700, loss: 20.9095078468, time pass: 103s | CDVR MT2 FMNIST\n",
      "epoch: 800, loss: 20.5570459366, time pass: 117s | CDVR MT2 FMNIST\n",
      "epoch: 900, loss: 20.2236727715, time pass: 130s | CDVR MT2 FMNIST\n",
      "epoch: 1000, loss: 19.9089289665, time pass: 144s | CDVR MT2 FMNIST\n",
      "num_commun: 1, loss: 25.3083557129, time pass: 0s | CDVR MT2 FMNIST\n",
      "num_commun: 100, loss: 22.6453535080, time pass: 28s | CDVR MT2 FMNIST\n",
      "num_commun: 200, loss: 21.2250597954, time pass: 58s | CDVR MT2 FMNIST\n",
      "num_commun: 300, loss: 20.0651953697, time pass: 90s | CDVR MT2 FMNIST\n",
      "num_commun: 400, loss: 19.0351605415, time pass: 124s | CDVR MT2 FMNIST\n",
      "num_commun: 500, loss: 18.1850616932, time pass: 157s | CDVR MT2 FMNIST\n",
      "num_commun: 600, loss: 17.4569846153, time pass: 189s | CDVR MT2 FMNIST\n",
      "num_commun: 700, loss: 16.8423991680, time pass: 220s | CDVR MT2 FMNIST\n",
      "num_commun: 800, loss: 16.2298865795, time pass: 253s | CDVR MT2 FMNIST\n",
      "num_commun: 900, loss: 15.7372755527, time pass: 284s | CDVR MT2 FMNIST\n",
      "num_commun: 1000, loss: 15.2396726608, time pass: 316s | CDVR MT2 FMNIST\n",
      "prob1 is 0.10000\n",
      "eta is 0.01136\n",
      "epoch: 1, loss: 25.3217312813, time pass: 0s | CDVR MT2 FMNIST\n",
      "epoch: 100, loss: 24.7618149757, time pass: 13s | CDVR MT2 FMNIST\n",
      "epoch: 200, loss: 24.2963541985, time pass: 27s | CDVR MT2 FMNIST\n",
      "epoch: 300, loss: 23.9550320625, time pass: 40s | CDVR MT2 FMNIST\n",
      "epoch: 400, loss: 23.6768073082, time pass: 54s | CDVR MT2 FMNIST\n",
      "epoch: 500, loss: 23.4286952972, time pass: 67s | CDVR MT2 FMNIST\n",
      "epoch: 600, loss: 23.1982166290, time pass: 81s | CDVR MT2 FMNIST\n",
      "epoch: 700, loss: 22.9843082428, time pass: 94s | CDVR MT2 FMNIST\n",
      "epoch: 800, loss: 22.7871793747, time pass: 108s | CDVR MT2 FMNIST\n",
      "epoch: 900, loss: 22.6028542519, time pass: 122s | CDVR MT2 FMNIST\n",
      "epoch: 1000, loss: 22.4342705727, time pass: 135s | CDVR MT2 FMNIST\n",
      "num_commun: 1, loss: 25.3217312813, time pass: 0s | CDVR MT2 FMNIST\n",
      "num_commun: 100, loss: 22.2870318413, time pass: 88s | CDVR MT2 FMNIST\n",
      "num_commun: 200, loss: 20.8386506081, time pass: 176s | CDVR MT2 FMNIST\n",
      "num_commun: 300, loss: 19.9131024361, time pass: 247s | CDVR MT2 FMNIST\n",
      "num_commun: 400, loss: 18.9245115280, time pass: 335s | CDVR MT2 FMNIST\n",
      "num_commun: 500, loss: 18.1940729141, time pass: 410s | CDVR MT2 FMNIST\n",
      "num_commun: 600, loss: 17.4734328747, time pass: 491s | CDVR MT2 FMNIST\n",
      "num_commun: 700, loss: 16.8303347111, time pass: 573s | CDVR MT2 FMNIST\n",
      "num_commun: 800, loss: 16.2039183140, time pass: 660s | CDVR MT2 FMNIST\n",
      "num_commun: 900, loss: 15.6574359417, time pass: 745s | CDVR MT2 FMNIST\n",
      "num_commun: 1000, loss: 15.2115489960, time pass: 809s | CDVR MT2 FMNIST\n"
     ]
    }
   ],
   "source": [
    "prob1_list = [L_w / (L_w + L_beta), 0.7, 0.5, 0.3, 0.1]\n",
    "MT2_FMNIST_CDVR_iter_result = []\n",
    "MT2_FMNIST_CDVR_commun_result = []\n",
    "\n",
    "for prob1 in prob1_list:\n",
    "    print(\"prob1 is {:.5f}\".format(prob1))\n",
    "    \n",
    "    eta = 1 / (8 * max(L_w/prob1, L_beta/(1-prob1)))\n",
    "    \n",
    "    print(\"eta is {:.5f}\".format(eta))\n",
    "    \n",
    "    loss_MT2_FMNIST_CDVR_iter, _, _ = MT2.train_CDVR_iter(w0, beta0, n_epochs, devices_train_list, \n",
    "                                                         train_loader_list, lambda_global, lambda_penal, \n",
    "                                                         repo_step, eta, prob1, rho, obj, data_name)\n",
    "    MT2_FMNIST_CDVR_iter_result.append(loss_MT2_FMNIST_CDVR_iter)\n",
    "    loss_MT2_FMNIST_CDVR_commun, _, _ = MT2.train_CDVR_commun(w0, beta0, n_communs, devices_train_list, \n",
    "                                                             train_loader_list, lambda_global, lambda_penal, \n",
    "                                                             repo_step, eta, prob1, rho, obj, data_name)\n",
    "    MT2_FMNIST_CDVR_commun_result.append(loss_MT2_FMNIST_CDVR_commun)"
   ]
  },
  {
   "cell_type": "code",
   "execution_count": 8,
   "metadata": {},
   "outputs": [],
   "source": [
    "with open(\"./result/MT2_FMNIST_CDVR_iter_result.txt\", \"wb\") as f:   #Pickling\n",
    "    pickle.dump(MT2_FMNIST_CDVR_iter_result, f)\n",
    "    \n",
    "with open(\"./result/MT2_FMNIST_CDVR_commun_result.txt\", \"wb\") as f:   #Pickling\n",
    "    pickle.dump(MT2_FMNIST_CDVR_commun_result, f)"
   ]
  }
 ],
 "metadata": {
  "kernelspec": {
   "display_name": "Python 3",
   "language": "python",
   "name": "python3"
  },
  "language_info": {
   "codemirror_mode": {
    "name": "ipython",
    "version": 3
   },
   "file_extension": ".py",
   "mimetype": "text/x-python",
   "name": "python",
   "nbconvert_exporter": "python",
   "pygments_lexer": "ipython3",
   "version": "3.8.3"
  }
 },
 "nbformat": 4,
 "nbformat_minor": 4
}
